{
  "nbformat": 4,
  "nbformat_minor": 0,
  "metadata": {
    "colab": {
      "provenance": [],
      "authorship_tag": "ABX9TyOUvp0E+cDt32N7lXlkZX74"
    },
    "kernelspec": {
      "name": "ir",
      "display_name": "R"
    },
    "language_info": {
      "name": "R"
    }
  },
  "cells": [
    {
      "cell_type": "markdown",
      "source": [
        "```{txt name}\n",
        "     Лада Шумакова\n",
        "```"
      ],
      "metadata": {
        "id": "luPWGt7cTxki"
      }
    },
    {
      "cell_type": "markdown",
      "source": [
        "## 1. Универсальные лингвические иерархии: порядок прилагательных в новогреческом языке (стандартный и кипрский диалекты)  \n",
        "\n",
        "Данные (социолингвистическая анкета и результаты эксперимента) взяты, с адаптацией, из исследования:\n",
        "Leivada, Evelina; Westergaard, Marit, 2019, [Universal linguistic hierarchies are not innately wired](https://www.ncbi.nlm.nih.gov/pmc/articles/PMC6679903/pdf/peerj-07-7438.pdf). PeerJ, v.7.\n",
        "\n",
        "Источник данных: репозиторий TROLLing:\n",
        "Leivada, Evelina; Westergaard, Marit, 2019, \"Replication Data for: Universal linguistic hierarchies are not innately wired\", https://doi.org/10.18710/NTLLUF, DataverseNO, V1"
      ],
      "metadata": {
        "id": "IzfNTJQKT5i5"
      }
    },
    {
      "cell_type": "markdown",
      "source": [
        "#### Конструкции с двумя прилагательными\n",
        "\n",
        "В английском языке порядок двух прилагательных в таких фразах, как:\n",
        "```\n",
        " a big black bag # хорошо\n",
        "*a black big bag # неприемлемо, грамматически неправильно или семантически аномально\n",
        "```\n",
        "определяется семантическим классом прилагательного (например, прилагательное «цвета» ближе к существительному, чем прилагательное «размера»).\n",
        "\n",
        "Синтаксическая иерархия близости к существительному в универсальной грамматике Хомского предполагает следующий порядок, который считается врожденным и универсальным (= действительным для всех языков).\n",
        "```\n",
        "Subjective Comment > Evidential > Size > Length\n",
        "> Height > Speed > Depth > Width > Temperature > Wetness > Age\n",
        "> Shape > Color > Nationality/Origin > Material\n",
        "# (на основе Scott, 2002: 114)\n",
        "```\n",
        "Цель исследования Leivada & Westergaard — определить, что происходит, когда люди воспринимают примеры с порядком, который либо соответствует иерархии, либо нарушает ее."
      ],
      "metadata": {
        "id": "mY862-40T_C4"
      }
    },
    {
      "cell_type": "markdown",
      "source": [
        "#### Метод\n",
        "\n",
        "В первом эксперименте 140 нейротипичных взрослых носителей языка выполнили задание с выбором на время (a timed forced choice task), в котором использовались стимулы, представляющие комбинацию двух прилагательных и конкретного существительного (например, *Έπια ένα στενό ισπανικό βρασιόλι.* 'I bought a narrow Spanish bracelet.'). Были собраны данные двух типов:\n",
        "\n",
        "(i) суждения о приемлемости по 3-балльной шкале Ликерта:\n",
        "     1. неправильно,\n",
        "     2. ни правильно, ни неправильно,\n",
        "     3. правильный;\n",
        "\n",
        "(ii) время реакции (RT).\n",
        "\n",
        "В стимулах использовались три условия:  \n",
        "1. прилагательное размера > прилагательное национальности,\n",
        "2. прилагательное цвета > прилагательное формы,  \n",
        "3. прилагательное субъективного комментария > прилагательное материала.\n",
        "\n",
        "Каждое условие предъявлялось в двух вариантах порядка слов. При конгруэнтном порядке расположение пары прилагательных соответствовало тому, что диктует универсальная иерархия. В неконгруэнтном порядке порядок был обратным, поэтому иерархия была нарушена.\n",
        "\n",
        "Во втором эксперименте 30 билингвов (носителей стандартного и кипрского греческого) были протестированы на обоих диалектах, по 36 наблюдений на участника, по 18 на каждый вариант.\n",
        "\n",
        "В обоих экспериментах использовались два типа [филлеров] (https://www.hlp.rochester.edu/resources/BCS152-Tutorial/Fillers.html): FillerAcceptable и FillerUnacceptable — предложения, которые включали правильно построенные и неграмматические структуры, соответственно. В обеих задачах соотношение наполнителей к реальным тестовым структурам составляло 2:1. Смотри также [ключи к данным](https://www.ncbi.nlm.nih.gov/pmc/articles/PMC6679903/bin/peerj-07-7438-s001.txt)."
      ],
      "metadata": {
        "id": "p9Vucfp1VRSn"
      }
    },
    {
      "cell_type": "markdown",
      "source": [
        "\n",
        "#### Данные\n",
        "\n",
        "Загрузите данные из [файла](https://raw.githubusercontent.com/olesar/2025dav4compling/refs/heads/main/data/greek-word-order-mono-acceptability-coded-rt.txt\") в переменную `mono`, переведя строковые данные в факторы. В переменной `mono_socio` сохраните данные социолингвистической [анкеты](https://raw.githubusercontent.com/olesar/2025dav4compling/refs/heads/main/data/greek-word-order-mono-acceptability-coded-rt.txt), также переведя строковые данные в факторы.\n"
      ],
      "metadata": {
        "id": "Pf5PkT4-Vgws"
      }
    },
    {
      "cell_type": "code",
      "source": [
        "# загрузка необходимых библиотек\n",
        "install.packages('DescTools')\n",
        "install.packages(\"car\")\n",
        "install.packages('rstatix')\n",
        "install.packages('ggpubr')\n",
        "install.packages('FSA')\n",
        "library(FSA)\n",
        "library(car)\n",
        "library(tidyverse)\n",
        "library(DescTools)\n",
        "library(ggpubr)\n",
        "library(rstatix)\n",
        "library(dplyr)"
      ],
      "metadata": {
        "colab": {
          "base_uri": "https://localhost:8080/"
        },
        "id": "42qxOhsAVyXg",
        "outputId": "469cb6dd-8aa5-48a8-a669-bd1470d43163"
      },
      "execution_count": 76,
      "outputs": [
        {
          "output_type": "stream",
          "name": "stderr",
          "text": [
            "Installing package into ‘/usr/local/lib/R/site-library’\n",
            "(as ‘lib’ is unspecified)\n",
            "\n",
            "Installing package into ‘/usr/local/lib/R/site-library’\n",
            "(as ‘lib’ is unspecified)\n",
            "\n",
            "Installing package into ‘/usr/local/lib/R/site-library’\n",
            "(as ‘lib’ is unspecified)\n",
            "\n",
            "Installing package into ‘/usr/local/lib/R/site-library’\n",
            "(as ‘lib’ is unspecified)\n",
            "\n",
            "Installing package into ‘/usr/local/lib/R/site-library’\n",
            "(as ‘lib’ is unspecified)\n",
            "\n"
          ]
        }
      ]
    },
    {
      "cell_type": "code",
      "source": [
        "# переменную RT перевела в число, поскольку это делает больше смысла\n",
        "mono <- read_delim(\"https://raw.githubusercontent.com/olesar/2025dav4compling/refs/heads/main/data/greek-word-order-mono-acceptability-coded-rt.txt\",\n",
        "col_types = cols(RT = col_integer(), .default = col_factor()))\n",
        "str(mono)"
      ],
      "metadata": {
        "colab": {
          "base_uri": "https://localhost:8080/"
        },
        "id": "Fsl_K3zUVgds",
        "outputId": "fd847916-dd26-4036-86bd-4910ff40722a"
      },
      "execution_count": 2,
      "outputs": [
        {
          "output_type": "stream",
          "name": "stdout",
          "text": [
            "spc_tbl_ [7,560 × 6] (S3: spec_tbl_df/tbl_df/tbl/data.frame)\n",
            " $ ParticipantID                 : Factor w/ 140 levels \"00e0b159cf5b9abcc73b92506d8b1c38\",..: 1 1 1 1 1 1 1 1 1 1 ...\n",
            " $ TypeOfQuestion                : Factor w/ 1 level \"AcceptabilityJudgement\": 1 1 1 1 1 1 1 1 1 1 ...\n",
            " $ TypeOfStimuli                 : Factor w/ 5 levels \"Size-Nationality\",..: 1 1 1 1 1 1 2 2 2 2 ...\n",
            " $ WordOrder                     : Factor w/ 2 levels \"Congruent\",\"Incongruent\": 1 2 1 2 1 2 1 2 1 2 ...\n",
            " $ ResponseAcceptabilityJudgement: Factor w/ 3 levels \"Correct\",\"Wrong\",..: 1 1 1 1 1 1 1 1 1 1 ...\n",
            " $ RT                            : int [1:7560] 1591 5504 1333 1543 1815 3059 1700 2745 3237 2911 ...\n",
            " - attr(*, \"spec\")=\n",
            "  .. cols(\n",
            "  ..   .default = col_factor(),\n",
            "  ..   ParticipantID = \u001b[31mcol_factor(levels = NULL, ordered = FALSE, include_na = FALSE)\u001b[39m,\n",
            "  ..   TypeOfQuestion = \u001b[31mcol_factor(levels = NULL, ordered = FALSE, include_na = FALSE)\u001b[39m,\n",
            "  ..   TypeOfStimuli = \u001b[31mcol_factor(levels = NULL, ordered = FALSE, include_na = FALSE)\u001b[39m,\n",
            "  ..   WordOrder = \u001b[31mcol_factor(levels = NULL, ordered = FALSE, include_na = FALSE)\u001b[39m,\n",
            "  ..   ResponseAcceptabilityJudgement = \u001b[31mcol_factor(levels = NULL, ordered = FALSE, include_na = FALSE)\u001b[39m,\n",
            "  ..   RT = \u001b[32mcol_integer()\u001b[39m\n",
            "  .. )\n",
            " - attr(*, \"problems\")=<externalptr> \n"
          ]
        }
      ]
    },
    {
      "cell_type": "code",
      "source": [
        "mono_socio <- read_delim(\"https://raw.githubusercontent.com/olesar/2025dav4compling/refs/heads/main/data/greek-word-order-mono_socio.txt\",\n",
        "col_types = cols(.default = col_factor()))\n",
        "str(mono_socio)"
      ],
      "metadata": {
        "colab": {
          "base_uri": "https://localhost:8080/"
        },
        "id": "m3w2S497VHuw",
        "outputId": "250f3795-7149-46e9-d9d5-5302059e4914"
      },
      "execution_count": 3,
      "outputs": [
        {
          "output_type": "stream",
          "name": "stdout",
          "text": [
            "spc_tbl_ [180 × 4] (S3: spec_tbl_df/tbl_df/tbl/data.frame)\n",
            " $ ParticipantID   : Factor w/ 30 levels \"2bc93481d25426f259a0f1a3d5d3e824\",..: 1 1 1 1 1 1 2 2 2 2 ...\n",
            " $ TypeOfQuestion  : Factor w/ 1 level \"Form\": 1 1 1 1 1 1 1 1 1 1 ...\n",
            " $ QuestionCategory: Factor w/ 6 levels \"age\",\"country1\",..: 1 2 3 4 5 6 1 2 3 4 ...\n",
            " $ Responce        : Factor w/ 48 levels \"58\",\"Nicosia\",..: 1 2 3 4 5 6 7 2 2 8 ...\n",
            " - attr(*, \"spec\")=\n",
            "  .. cols(\n",
            "  ..   .default = col_factor(),\n",
            "  ..   ParticipantID = \u001b[31mcol_factor(levels = NULL, ordered = FALSE, include_na = FALSE)\u001b[39m,\n",
            "  ..   TypeOfQuestion = \u001b[31mcol_factor(levels = NULL, ordered = FALSE, include_na = FALSE)\u001b[39m,\n",
            "  ..   QuestionCategory = \u001b[31mcol_factor(levels = NULL, ordered = FALSE, include_na = FALSE)\u001b[39m,\n",
            "  ..   Responce = \u001b[31mcol_factor(levels = NULL, ordered = FALSE, include_na = FALSE)\u001b[39m\n",
            "  .. )\n",
            " - attr(*, \"problems\")=<externalptr> \n"
          ]
        }
      ]
    },
    {
      "cell_type": "markdown",
      "source": [
        "## Описание данных\n",
        "\n",
        "### 1.1\n",
        "\n",
        "Взглянем на данные `mono_socio`, чтобы ответить на следующие вопросы о социолингвистических характеристиках испытуемых:\n",
        "\n",
        "1. Сколько участников указано в датафрейме?\n",
        "\n",
        "2. Сколько из них женщин и мужчин?\n",
        "\n",
        "3. Какие уровни образования указаны в датафрейме?\n",
        "\n",
        "4. Сколько участников каждого уровня образования?\n",
        "\n",
        "5. Сколько леворуких и праворуких участников?\n",
        "\n",
        "Напишите код, представляющий ответы на эти вопросы в виде одной или нескольких таблиц.\n",
        "Используйте функции из пакета tidyverse: `filter`, `group_by`, `count` and `distinct`.\n",
        "(Еще один способ - использовать `pivot_wider`.)\n"
      ],
      "metadata": {
        "id": "KWTI2ftia3aN"
      }
    },
    {
      "cell_type": "code",
      "source": [
        "# 1. количество участников\n",
        "participants <- distinct(mono_socio['ParticipantID']) %>%\n",
        "    count() %>%\n",
        "    mutate(Responce = \"Participants\")\n",
        "\n",
        "# 2. количество женщин и мужчин\n",
        "sex <- mono_socio %>% filter(QuestionCategory == 'sex') %>%\n",
        "  count(Responce)\n",
        "\n",
        "# 3. уровни образования\n",
        "education <- distinct(mono_socio %>%\n",
        "  filter(QuestionCategory == 'education') %>%\n",
        "  select(Responce))\n",
        "\n",
        "# 4. количество участников каждого уровня образования\n",
        "education_count <- mono_socio %>%\n",
        "  filter(QuestionCategory == 'education') %>%\n",
        "  count(Responce)\n",
        "\n",
        "# 5. количество леворуких и праворуких участников\n",
        "handedness <- mono_socio %>%\n",
        "  filter(QuestionCategory == 'handedness') %>%\n",
        "  count(Responce)"
      ],
      "metadata": {
        "id": "PJy7lwO7a7ui"
      },
      "execution_count": 4,
      "outputs": []
    },
    {
      "cell_type": "code",
      "source": [
        "# склеиваем в единую табличку\n",
        "descriptive_merged <- bind_rows(participants, sex, education_count, handedness) %>%\n",
        "  pivot_wider(names_from = Responce, values_from = n)\n",
        "descriptive_merged"
      ],
      "metadata": {
        "colab": {
          "base_uri": "https://localhost:8080/",
          "height": 129
        },
        "id": "Jj8Kip_Jcd6N",
        "outputId": "0d859942-d744-4b6e-a167-9da296314223"
      },
      "execution_count": 5,
      "outputs": [
        {
          "output_type": "display_data",
          "data": {
            "text/html": [
              "<table class=\"dataframe\">\n",
              "<caption>A tibble: 1 × 9</caption>\n",
              "<thead>\n",
              "\t<tr><th scope=col>Participants</th><th scope=col>female</th><th scope=col>male</th><th scope=col>College</th><th scope=col>UniversityDegree</th><th scope=col>Postgraduate</th><th scope=col>PhDongoing</th><th scope=col>right</th><th scope=col>left</th></tr>\n",
              "\t<tr><th scope=col>&lt;int&gt;</th><th scope=col>&lt;int&gt;</th><th scope=col>&lt;int&gt;</th><th scope=col>&lt;int&gt;</th><th scope=col>&lt;int&gt;</th><th scope=col>&lt;int&gt;</th><th scope=col>&lt;int&gt;</th><th scope=col>&lt;int&gt;</th><th scope=col>&lt;int&gt;</th></tr>\n",
              "</thead>\n",
              "<tbody>\n",
              "\t<tr><td>30</td><td>19</td><td>11</td><td>3</td><td>12</td><td>14</td><td>1</td><td>28</td><td>2</td></tr>\n",
              "</tbody>\n",
              "</table>\n"
            ],
            "text/markdown": "\nA tibble: 1 × 9\n\n| Participants &lt;int&gt; | female &lt;int&gt; | male &lt;int&gt; | College &lt;int&gt; | UniversityDegree &lt;int&gt; | Postgraduate &lt;int&gt; | PhDongoing &lt;int&gt; | right &lt;int&gt; | left &lt;int&gt; |\n|---|---|---|---|---|---|---|---|---|\n| 30 | 19 | 11 | 3 | 12 | 14 | 1 | 28 | 2 |\n\n",
            "text/latex": "A tibble: 1 × 9\n\\begin{tabular}{lllllllll}\n Participants & female & male & College & UniversityDegree & Postgraduate & PhDongoing & right & left\\\\\n <int> & <int> & <int> & <int> & <int> & <int> & <int> & <int> & <int>\\\\\n\\hline\n\t 30 & 19 & 11 & 3 & 12 & 14 & 1 & 28 & 2\\\\\n\\end{tabular}\n",
            "text/plain": [
              "  Participants female male College UniversityDegree Postgraduate PhDongoing\n",
              "1 30           19     11   3       12               14           1         \n",
              "  right left\n",
              "1 28    2   "
            ]
          },
          "metadata": {}
        }
      ]
    },
    {
      "cell_type": "markdown",
      "source": [
        "### 1.2\n",
        "\n",
        "Сравните полученную информацию с данными из таблицы 1 в [статье](https://pmc.ncbi.nlm.nih.gov/articles/PMC6679903/pdf/peerj-07-7438.pdf). Можно ли сказать, что данные, которые вы загрузили по ссылке, позволяют воспроизвести результаты этого исследования?\n"
      ],
      "metadata": {
        "id": "KnNoyKyh2WcC"
      }
    },
    {
      "cell_type": "code",
      "source": [
        "# код для проверки ряда штук\n",
        "sex_article <- 66/74\n",
        "sex_given <- descriptive_merged$male/descriptive_merged$female\n",
        "print(paste(\"Соотношение по представителям разных полов в оригинальной статье: \",\n",
        "sex_article))\n",
        "print(paste(\"Соотношение по представителям разных полов в наших данных: \",\n",
        "sex_given))\n",
        "\n",
        "handedness_article <- 14/126\n",
        "handedness_given <- descriptive_merged$left/descriptive_merged$right\n",
        "print(paste(\"Соотношение по преобладающей руке в оригинальной статье: \",\n",
        "handedness_article))\n",
        "print(paste(\"Соотношение по преобладающей руке в наших данных: \",\n",
        "handedness_given))"
      ],
      "metadata": {
        "colab": {
          "base_uri": "https://localhost:8080/"
        },
        "id": "yPWJlRDt3HCe",
        "outputId": "239ccb63-8ed3-4b22-892d-ab5eaa2cdf19"
      },
      "execution_count": 7,
      "outputs": [
        {
          "output_type": "stream",
          "name": "stdout",
          "text": [
            "[1] \"Соотношение по представителям разных полов в оригинальной статье:  0.891891891891892\"\n",
            "[1] \"Соотношение по представителям разных полов в наших данных:  0.578947368421053\"\n",
            "[1] \"Соотношение по преобладающей руке в оригинальной статье:  0.111111111111111\"\n",
            "[1] \"Соотношение по преобладающей руке в наших данных:  0.0714285714285714\"\n"
          ]
        }
      ]
    },
    {
      "cell_type": "markdown",
      "source": [
        "```{txt 1.2}\n",
        "1.2 ОТВЕТ\n",
        "```\n",
        "Во-первых, загруженная выборка (n = 30) в 7 раз меньше, чем представленная в статье (n = 140), и это уже проблема: длина доверительного интервала для истинного значения показателей в генеральной совокупности увеличивается.\n",
        "\n",
        "Во-вторых, хотя в случае с полом и преобладающей руке сохранена общая тенденция (женщин больше, чем мужчин; праворуких больше, чем леворуких), не сохранены пропорции репрезентации, причем в случае с полом различие достаточно сильное (см. код выше).\n",
        "\n",
        "В-третьих, в наших данных исключена информация о людях, имеющих среднее образование (представлены только респонденты с высшим образованием), однако их не очень много и в оригинальной статье (18 против 122).\n",
        "\n",
        "Таким образом, загруженные данные, скорее, не позволяют воспроизвести результаты оригинального исследования."
      ],
      "metadata": {
        "id": "0y5BiV_h6kHm"
      }
    },
    {
      "cell_type": "markdown",
      "source": [
        "### 1.3\n",
        "\n",
        "Постройте график плотности, который показывает распределение RT в эксперименте в целом (для всех участников и условий. Отобразите красным пунктиром линию, показывающую среднее значение RT.\n"
      ],
      "metadata": {
        "id": "KVbkb9CS7Iov"
      }
    },
    {
      "cell_type": "code",
      "source": [
        "mono %>%\n",
        "  ggplot(aes(x = RT)) +\n",
        "  geom_density() +\n",
        "  geom_vline(aes(xintercept = mean(RT)), color = \"red\", linetype = \"dashed\") +\n",
        "  labs(title = 'Плотность распределения времени реакций',\n",
        "x = 'время реакций',\n",
        "y = 'плотность') +\n",
        "  theme_bw()"
      ],
      "metadata": {
        "colab": {
          "base_uri": "https://localhost:8080/",
          "height": 437
        },
        "id": "d8WcMriZ6xOO",
        "outputId": "0a262046-288f-4f9c-81fa-6c46618d462a"
      },
      "execution_count": 20,
      "outputs": [
        {
          "output_type": "display_data",
          "data": {
            "text/plain": [
              "plot without title"
            ],
            "image/png": "[encoded data removed]"
          },
          "metadata": {
            "image/png": {
              "width": 420,
              "height": 420
            }
          }
        }
      ]
    },
    {
      "cell_type": "markdown",
      "source": [
        "### 1.4\n",
        "\n",
        "Верно ли, что данные времени реакции нормально распределены? Есть ли в распределении длинные левые или правые хвосты??"
      ],
      "metadata": {
        "id": "ftiKPh47-HvA"
      }
    },
    {
      "cell_type": "code",
      "source": [
        "# Тест Колмогорова-Смирнова, поскольку у нас большая выборка (n>5000)\n",
        "\n",
        "ks.test(mono$RT, \"pnorm\", mean = mean(mono$RT), sd = sd(mono$RT))"
      ],
      "metadata": {
        "colab": {
          "base_uri": "https://localhost:8080/",
          "height": 164
        },
        "id": "IBP8Jwvo948P",
        "outputId": "f9b736a3-89ef-4c52-9a5f-ae60dcd6f2f6"
      },
      "execution_count": 8,
      "outputs": [
        {
          "output_type": "stream",
          "name": "stderr",
          "text": [
            "Warning message in ks.test.default(mono$RT, \"pnorm\", mean = mean(mono$RT), sd = sd(mono$RT)):\n",
            "“ties should not be present for the one-sample Kolmogorov-Smirnov test”\n"
          ]
        },
        {
          "output_type": "display_data",
          "data": {
            "text/plain": [
              "\n",
              "\tAsymptotic one-sample Kolmogorov-Smirnov test\n",
              "\n",
              "data:  mono$RT\n",
              "D = 0.20266, p-value < 2.2e-16\n",
              "alternative hypothesis: two-sided\n"
            ]
          },
          "metadata": {}
        }
      ]
    },
    {
      "cell_type": "markdown",
      "source": [
        "Согласно результатам теста Колмогорова-Смирнова на нормальность распределения данных, мы можем отвергнуть нулевую гипотезу на уровне значимости α = 0.05 (p-value < 2.2e-16)."
      ],
      "metadata": {
        "id": "x65k4uhG_riP"
      }
    },
    {
      "cell_type": "code",
      "source": [
        "PlotQQ(mono$RT)"
      ],
      "metadata": {
        "colab": {
          "base_uri": "https://localhost:8080/",
          "height": 437
        },
        "id": "MknBpnzwARoP",
        "outputId": "affa3f17-80a5-4d90-a152-e3ecaa9ff9dd"
      },
      "execution_count": 9,
      "outputs": [
        {
          "output_type": "display_data",
          "data": {
            "text/plain": [
              "Plot with title “Q-Q-Plot (qnorm)”"
            ],
            "image/png": "[encoded data removed]"
          },
          "metadata": {
            "image/png": {
              "width": 420,
              "height": 420
            }
          }
        }
      ]
    },
    {
      "cell_type": "markdown",
      "source": [
        "По графику можно увидеть большую ассиметрию вправо (ее не очень хорошо было видно на графике плотности), т. е. большой правый хвост."
      ],
      "metadata": {
        "id": "MF_sJksaE6pQ"
      }
    },
    {
      "cell_type": "markdown",
      "source": [
        "### 1.5\n",
        "\n",
        "Преобразуйте данные с помощью функциии логарифма (RTlog = log10(RT)).\n"
      ],
      "metadata": {
        "id": "FYyq0o4kFZU0"
      }
    },
    {
      "cell_type": "code",
      "source": [
        "mono$RTlog <- log10(mono$RT)\n",
        "head(mono)"
      ],
      "metadata": {
        "colab": {
          "base_uri": "https://localhost:8080/",
          "height": 286
        },
        "id": "0wTfywg9FdGF",
        "outputId": "08ab88c2-3314-4050-95b8-b1f317b9ea9a"
      },
      "execution_count": 10,
      "outputs": [
        {
          "output_type": "display_data",
          "data": {
            "text/html": [
              "<table class=\"dataframe\">\n",
              "<caption>A tibble: 6 × 7</caption>\n",
              "<thead>\n",
              "\t<tr><th scope=col>ParticipantID</th><th scope=col>TypeOfQuestion</th><th scope=col>TypeOfStimuli</th><th scope=col>WordOrder</th><th scope=col>ResponseAcceptabilityJudgement</th><th scope=col>RT</th><th scope=col>RTlog</th></tr>\n",
              "\t<tr><th scope=col>&lt;fct&gt;</th><th scope=col>&lt;fct&gt;</th><th scope=col>&lt;fct&gt;</th><th scope=col>&lt;fct&gt;</th><th scope=col>&lt;fct&gt;</th><th scope=col>&lt;int&gt;</th><th scope=col>&lt;dbl&gt;</th></tr>\n",
              "</thead>\n",
              "<tbody>\n",
              "\t<tr><td>00e0b159cf5b9abcc73b92506d8b1c38</td><td>AcceptabilityJudgement</td><td>Size-Nationality</td><td>Congruent  </td><td>Correct</td><td>1591</td><td>3.201670</td></tr>\n",
              "\t<tr><td>00e0b159cf5b9abcc73b92506d8b1c38</td><td>AcceptabilityJudgement</td><td>Size-Nationality</td><td>Incongruent</td><td>Correct</td><td>5504</td><td>3.740678</td></tr>\n",
              "\t<tr><td>00e0b159cf5b9abcc73b92506d8b1c38</td><td>AcceptabilityJudgement</td><td>Size-Nationality</td><td>Congruent  </td><td>Correct</td><td>1333</td><td>3.124830</td></tr>\n",
              "\t<tr><td>00e0b159cf5b9abcc73b92506d8b1c38</td><td>AcceptabilityJudgement</td><td>Size-Nationality</td><td>Incongruent</td><td>Correct</td><td>1543</td><td>3.188366</td></tr>\n",
              "\t<tr><td>00e0b159cf5b9abcc73b92506d8b1c38</td><td>AcceptabilityJudgement</td><td>Size-Nationality</td><td>Congruent  </td><td>Correct</td><td>1815</td><td>3.258877</td></tr>\n",
              "\t<tr><td>00e0b159cf5b9abcc73b92506d8b1c38</td><td>AcceptabilityJudgement</td><td>Size-Nationality</td><td>Incongruent</td><td>Correct</td><td>3059</td><td>3.485579</td></tr>\n",
              "</tbody>\n",
              "</table>\n"
            ],
            "text/markdown": "\nA tibble: 6 × 7\n\n| ParticipantID &lt;fct&gt; | TypeOfQuestion &lt;fct&gt; | TypeOfStimuli &lt;fct&gt; | WordOrder &lt;fct&gt; | ResponseAcceptabilityJudgement &lt;fct&gt; | RT &lt;int&gt; | RTlog &lt;dbl&gt; |\n|---|---|---|---|---|---|---|\n| 00e0b159cf5b9abcc73b92506d8b1c38 | AcceptabilityJudgement | Size-Nationality | Congruent   | Correct | 1591 | 3.201670 |\n| 00e0b159cf5b9abcc73b92506d8b1c38 | AcceptabilityJudgement | Size-Nationality | Incongruent | Correct | 5504 | 3.740678 |\n| 00e0b159cf5b9abcc73b92506d8b1c38 | AcceptabilityJudgement | Size-Nationality | Congruent   | Correct | 1333 | 3.124830 |\n| 00e0b159cf5b9abcc73b92506d8b1c38 | AcceptabilityJudgement | Size-Nationality | Incongruent | Correct | 1543 | 3.188366 |\n| 00e0b159cf5b9abcc73b92506d8b1c38 | AcceptabilityJudgement | Size-Nationality | Congruent   | Correct | 1815 | 3.258877 |\n| 00e0b159cf5b9abcc73b92506d8b1c38 | AcceptabilityJudgement | Size-Nationality | Incongruent | Correct | 3059 | 3.485579 |\n\n",
            "text/latex": "A tibble: 6 × 7\n\\begin{tabular}{lllllll}\n ParticipantID & TypeOfQuestion & TypeOfStimuli & WordOrder & ResponseAcceptabilityJudgement & RT & RTlog\\\\\n <fct> & <fct> & <fct> & <fct> & <fct> & <int> & <dbl>\\\\\n\\hline\n\t 00e0b159cf5b9abcc73b92506d8b1c38 & AcceptabilityJudgement & Size-Nationality & Congruent   & Correct & 1591 & 3.201670\\\\\n\t 00e0b159cf5b9abcc73b92506d8b1c38 & AcceptabilityJudgement & Size-Nationality & Incongruent & Correct & 5504 & 3.740678\\\\\n\t 00e0b159cf5b9abcc73b92506d8b1c38 & AcceptabilityJudgement & Size-Nationality & Congruent   & Correct & 1333 & 3.124830\\\\\n\t 00e0b159cf5b9abcc73b92506d8b1c38 & AcceptabilityJudgement & Size-Nationality & Incongruent & Correct & 1543 & 3.188366\\\\\n\t 00e0b159cf5b9abcc73b92506d8b1c38 & AcceptabilityJudgement & Size-Nationality & Congruent   & Correct & 1815 & 3.258877\\\\\n\t 00e0b159cf5b9abcc73b92506d8b1c38 & AcceptabilityJudgement & Size-Nationality & Incongruent & Correct & 3059 & 3.485579\\\\\n\\end{tabular}\n",
            "text/plain": [
              "  ParticipantID                    TypeOfQuestion         TypeOfStimuli   \n",
              "1 00e0b159cf5b9abcc73b92506d8b1c38 AcceptabilityJudgement Size-Nationality\n",
              "2 00e0b159cf5b9abcc73b92506d8b1c38 AcceptabilityJudgement Size-Nationality\n",
              "3 00e0b159cf5b9abcc73b92506d8b1c38 AcceptabilityJudgement Size-Nationality\n",
              "4 00e0b159cf5b9abcc73b92506d8b1c38 AcceptabilityJudgement Size-Nationality\n",
              "5 00e0b159cf5b9abcc73b92506d8b1c38 AcceptabilityJudgement Size-Nationality\n",
              "6 00e0b159cf5b9abcc73b92506d8b1c38 AcceptabilityJudgement Size-Nationality\n",
              "  WordOrder   ResponseAcceptabilityJudgement RT   RTlog   \n",
              "1 Congruent   Correct                        1591 3.201670\n",
              "2 Incongruent Correct                        5504 3.740678\n",
              "3 Congruent   Correct                        1333 3.124830\n",
              "4 Incongruent Correct                        1543 3.188366\n",
              "5 Congruent   Correct                        1815 3.258877\n",
              "6 Incongruent Correct                        3059 3.485579"
            ]
          },
          "metadata": {}
        }
      ]
    },
    {
      "cell_type": "markdown",
      "source": [
        "### 1.6\n",
        "\n",
        "Создайте график, похожий на 1.3, но показывающий логарифимированные значения RT.\n"
      ],
      "metadata": {
        "id": "40qzvbiZFlzh"
      }
    },
    {
      "cell_type": "code",
      "source": [
        "mono %>%\n",
        "  ggplot(aes(x = RTlog)) +\n",
        "  geom_density() +\n",
        "  geom_vline(aes(xintercept = mean(RTlog)), color = \"red\", linetype = \"dashed\") +\n",
        "  labs(title = 'Плотность распределения логарифмированного времени реакций',\n",
        "x = 'логарифмированное время реакций',\n",
        "y = 'плотность') +\n",
        "    theme_bw()"
      ],
      "metadata": {
        "colab": {
          "base_uri": "https://localhost:8080/",
          "height": 437
        },
        "id": "R_FXrOYwFq2J",
        "outputId": "ac5bf3f8-531d-4f9b-c4a2-c3e969d8119c"
      },
      "execution_count": 19,
      "outputs": [
        {
          "output_type": "display_data",
          "data": {
            "text/plain": [
              "plot without title"
            ],
            "image/png": "[encoded data removed]"
          },
          "metadata": {
            "image/png": {
              "width": 420,
              "height": 420
            }
          }
        }
      ]
    },
    {
      "cell_type": "markdown",
      "source": [
        "### 1.7\n",
        "\n",
        "Отфильтруйте выбросы:  \n",
        "* автоматические ответы, время реакции на которые меньше 600 ms (будем полагать, что кнопка была нажата слишком быстро, еще до того, как у участника было достаточно времени рассмотреть показанный ему стимул и принять решение);  \n",
        "* ответы, в которых RTlog отличается от среднего значения RTlog более, чем на 3 стандартных отклонения (SD);  \n",
        "* филлеры (как приемлемые, так и неприемлемые).  \n",
        "Сохраните очищенные от выбросов данные в переменную `mono1`."
      ],
      "metadata": {
        "id": "7Ud1_uweGkdi"
      }
    },
    {
      "cell_type": "code",
      "source": [
        "mono1 <- mono %>%\n",
        "  filter(RT >= 600,\n",
        "RTlog < (mean(mono$RTlog) + 3*sd(mono$RTlog)),\n",
        "RTlog > (mean(mono$RTlog) - 3*sd(mono$RTlog)),\n",
        "TypeOfStimuli != 'FillerUnacceptable',\n",
        "TypeOfStimuli != 'FillerAcceptable')\n",
        "mono1"
      ],
      "metadata": {
        "colab": {
          "base_uri": "https://localhost:8080/",
          "height": 1000
        },
        "id": "Ed1kq9__GjvH",
        "outputId": "4e852079-ba56-4b11-8899-a448a70ed1d2"
      },
      "execution_count": 21,
      "outputs": [
        {
          "output_type": "display_data",
          "data": {
            "text/html": [
              "<table class=\"dataframe\">\n",
              "<caption>A spec_tbl_df: 2488 × 7</caption>\n",
              "<thead>\n",
              "\t<tr><th scope=col>ParticipantID</th><th scope=col>TypeOfQuestion</th><th scope=col>TypeOfStimuli</th><th scope=col>WordOrder</th><th scope=col>ResponseAcceptabilityJudgement</th><th scope=col>RT</th><th scope=col>RTlog</th></tr>\n",
              "\t<tr><th scope=col>&lt;fct&gt;</th><th scope=col>&lt;fct&gt;</th><th scope=col>&lt;fct&gt;</th><th scope=col>&lt;fct&gt;</th><th scope=col>&lt;fct&gt;</th><th scope=col>&lt;int&gt;</th><th scope=col>&lt;dbl&gt;</th></tr>\n",
              "</thead>\n",
              "<tbody>\n",
              "\t<tr><td>00e0b159cf5b9abcc73b92506d8b1c38</td><td>AcceptabilityJudgement</td><td>Size-Nationality          </td><td>Congruent  </td><td>Correct</td><td>1591</td><td>3.201670</td></tr>\n",
              "\t<tr><td>00e0b159cf5b9abcc73b92506d8b1c38</td><td>AcceptabilityJudgement</td><td>Size-Nationality          </td><td>Incongruent</td><td>Correct</td><td>5504</td><td>3.740678</td></tr>\n",
              "\t<tr><td>00e0b159cf5b9abcc73b92506d8b1c38</td><td>AcceptabilityJudgement</td><td>Size-Nationality          </td><td>Congruent  </td><td>Correct</td><td>1333</td><td>3.124830</td></tr>\n",
              "\t<tr><td>00e0b159cf5b9abcc73b92506d8b1c38</td><td>AcceptabilityJudgement</td><td>Size-Nationality          </td><td>Incongruent</td><td>Correct</td><td>1543</td><td>3.188366</td></tr>\n",
              "\t<tr><td>00e0b159cf5b9abcc73b92506d8b1c38</td><td>AcceptabilityJudgement</td><td>Size-Nationality          </td><td>Congruent  </td><td>Correct</td><td>1815</td><td>3.258877</td></tr>\n",
              "\t<tr><td>00e0b159cf5b9abcc73b92506d8b1c38</td><td>AcceptabilityJudgement</td><td>Size-Nationality          </td><td>Incongruent</td><td>Correct</td><td>3059</td><td>3.485579</td></tr>\n",
              "\t<tr><td>00e0b159cf5b9abcc73b92506d8b1c38</td><td>AcceptabilityJudgement</td><td>Shape-Color               </td><td>Congruent  </td><td>Correct</td><td>1700</td><td>3.230449</td></tr>\n",
              "\t<tr><td>00e0b159cf5b9abcc73b92506d8b1c38</td><td>AcceptabilityJudgement</td><td>Shape-Color               </td><td>Incongruent</td><td>Correct</td><td>2745</td><td>3.438542</td></tr>\n",
              "\t<tr><td>00e0b159cf5b9abcc73b92506d8b1c38</td><td>AcceptabilityJudgement</td><td>Shape-Color               </td><td>Congruent  </td><td>Correct</td><td>3237</td><td>3.510143</td></tr>\n",
              "\t<tr><td>00e0b159cf5b9abcc73b92506d8b1c38</td><td>AcceptabilityJudgement</td><td>Shape-Color               </td><td>Incongruent</td><td>Correct</td><td>2911</td><td>3.464042</td></tr>\n",
              "\t<tr><td>00e0b159cf5b9abcc73b92506d8b1c38</td><td>AcceptabilityJudgement</td><td>Shape-Color               </td><td>Congruent  </td><td>Correct</td><td>1878</td><td>3.273696</td></tr>\n",
              "\t<tr><td>00e0b159cf5b9abcc73b92506d8b1c38</td><td>AcceptabilityJudgement</td><td>Shape-Color               </td><td>Incongruent</td><td>Correct</td><td>3796</td><td>3.579326</td></tr>\n",
              "\t<tr><td>00e0b159cf5b9abcc73b92506d8b1c38</td><td>AcceptabilityJudgement</td><td>SubjectiveComment-Material</td><td>Congruent  </td><td>Wrong  </td><td>1168</td><td>3.067443</td></tr>\n",
              "\t<tr><td>00e0b159cf5b9abcc73b92506d8b1c38</td><td>AcceptabilityJudgement</td><td>SubjectiveComment-Material</td><td>Incongruent</td><td>Correct</td><td>2429</td><td>3.385428</td></tr>\n",
              "\t<tr><td>00e0b159cf5b9abcc73b92506d8b1c38</td><td>AcceptabilityJudgement</td><td>SubjectiveComment-Material</td><td>Congruent  </td><td>Correct</td><td>2189</td><td>3.340246</td></tr>\n",
              "\t<tr><td>00e0b159cf5b9abcc73b92506d8b1c38</td><td>AcceptabilityJudgement</td><td>SubjectiveComment-Material</td><td>Incongruent</td><td>Neither</td><td>3171</td><td>3.501196</td></tr>\n",
              "\t<tr><td>00e0b159cf5b9abcc73b92506d8b1c38</td><td>AcceptabilityJudgement</td><td>SubjectiveComment-Material</td><td>Congruent  </td><td>Correct</td><td>1404</td><td>3.147367</td></tr>\n",
              "\t<tr><td>00e0b159cf5b9abcc73b92506d8b1c38</td><td>AcceptabilityJudgement</td><td>SubjectiveComment-Material</td><td>Incongruent</td><td>Correct</td><td>2698</td><td>3.431042</td></tr>\n",
              "\t<tr><td>021a49cde484f8fa18439f026ec99459</td><td>AcceptabilityJudgement</td><td>Size-Nationality          </td><td>Congruent  </td><td>Correct</td><td>1578</td><td>3.198107</td></tr>\n",
              "\t<tr><td>021a49cde484f8fa18439f026ec99459</td><td>AcceptabilityJudgement</td><td>Size-Nationality          </td><td>Incongruent</td><td>Correct</td><td>1719</td><td>3.235276</td></tr>\n",
              "\t<tr><td>021a49cde484f8fa18439f026ec99459</td><td>AcceptabilityJudgement</td><td>Size-Nationality          </td><td>Congruent  </td><td>Correct</td><td>2998</td><td>3.476832</td></tr>\n",
              "\t<tr><td>021a49cde484f8fa18439f026ec99459</td><td>AcceptabilityJudgement</td><td>Size-Nationality          </td><td>Incongruent</td><td>Correct</td><td>2359</td><td>3.372728</td></tr>\n",
              "\t<tr><td>021a49cde484f8fa18439f026ec99459</td><td>AcceptabilityJudgement</td><td>Size-Nationality          </td><td>Congruent  </td><td>Correct</td><td>1206</td><td>3.081347</td></tr>\n",
              "\t<tr><td>021a49cde484f8fa18439f026ec99459</td><td>AcceptabilityJudgement</td><td>Size-Nationality          </td><td>Incongruent</td><td>Correct</td><td>1239</td><td>3.093071</td></tr>\n",
              "\t<tr><td>021a49cde484f8fa18439f026ec99459</td><td>AcceptabilityJudgement</td><td>Shape-Color               </td><td>Congruent  </td><td>Correct</td><td>1433</td><td>3.156246</td></tr>\n",
              "\t<tr><td>021a49cde484f8fa18439f026ec99459</td><td>AcceptabilityJudgement</td><td>Shape-Color               </td><td>Incongruent</td><td>Correct</td><td>1942</td><td>3.288249</td></tr>\n",
              "\t<tr><td>021a49cde484f8fa18439f026ec99459</td><td>AcceptabilityJudgement</td><td>Shape-Color               </td><td>Congruent  </td><td>Correct</td><td>1831</td><td>3.262688</td></tr>\n",
              "\t<tr><td>021a49cde484f8fa18439f026ec99459</td><td>AcceptabilityJudgement</td><td>Shape-Color               </td><td>Incongruent</td><td>Correct</td><td>1641</td><td>3.215109</td></tr>\n",
              "\t<tr><td>021a49cde484f8fa18439f026ec99459</td><td>AcceptabilityJudgement</td><td>Shape-Color               </td><td>Congruent  </td><td>Correct</td><td>1529</td><td>3.184407</td></tr>\n",
              "\t<tr><td>021a49cde484f8fa18439f026ec99459</td><td>AcceptabilityJudgement</td><td>Shape-Color               </td><td>Incongruent</td><td>Correct</td><td>1237</td><td>3.092370</td></tr>\n",
              "\t<tr><td>⋮</td><td>⋮</td><td>⋮</td><td>⋮</td><td>⋮</td><td>⋮</td><td>⋮</td></tr>\n",
              "\t<tr><td>ff9c2ed9d5c7002f4126ed7c78267912</td><td>AcceptabilityJudgement</td><td>Shape-Color               </td><td>Congruent  </td><td>Correct</td><td>1177</td><td>3.070776</td></tr>\n",
              "\t<tr><td>ff9c2ed9d5c7002f4126ed7c78267912</td><td>AcceptabilityJudgement</td><td>Shape-Color               </td><td>Incongruent</td><td>Correct</td><td>6564</td><td>3.817169</td></tr>\n",
              "\t<tr><td>ff9c2ed9d5c7002f4126ed7c78267912</td><td>AcceptabilityJudgement</td><td>Shape-Color               </td><td>Congruent  </td><td>Correct</td><td>2626</td><td>3.419295</td></tr>\n",
              "\t<tr><td>ff9c2ed9d5c7002f4126ed7c78267912</td><td>AcceptabilityJudgement</td><td>Shape-Color               </td><td>Incongruent</td><td>Correct</td><td>2904</td><td>3.462997</td></tr>\n",
              "\t<tr><td>ff9c2ed9d5c7002f4126ed7c78267912</td><td>AcceptabilityJudgement</td><td>Shape-Color               </td><td>Congruent  </td><td>Correct</td><td>2306</td><td>3.362859</td></tr>\n",
              "\t<tr><td>ff9c2ed9d5c7002f4126ed7c78267912</td><td>AcceptabilityJudgement</td><td>Shape-Color               </td><td>Incongruent</td><td>Correct</td><td>2774</td><td>3.443106</td></tr>\n",
              "\t<tr><td>ff9c2ed9d5c7002f4126ed7c78267912</td><td>AcceptabilityJudgement</td><td>SubjectiveComment-Material</td><td>Congruent  </td><td>Correct</td><td>2503</td><td>3.398461</td></tr>\n",
              "\t<tr><td>ff9c2ed9d5c7002f4126ed7c78267912</td><td>AcceptabilityJudgement</td><td>SubjectiveComment-Material</td><td>Incongruent</td><td>Correct</td><td>1030</td><td>3.012837</td></tr>\n",
              "\t<tr><td>ff9c2ed9d5c7002f4126ed7c78267912</td><td>AcceptabilityJudgement</td><td>SubjectiveComment-Material</td><td>Congruent  </td><td>Correct</td><td>1621</td><td>3.209783</td></tr>\n",
              "\t<tr><td>ff9c2ed9d5c7002f4126ed7c78267912</td><td>AcceptabilityJudgement</td><td>SubjectiveComment-Material</td><td>Incongruent</td><td>Wrong  </td><td>3063</td><td>3.486147</td></tr>\n",
              "\t<tr><td>ff9c2ed9d5c7002f4126ed7c78267912</td><td>AcceptabilityJudgement</td><td>SubjectiveComment-Material</td><td>Congruent  </td><td>Correct</td><td>1743</td><td>3.241297</td></tr>\n",
              "\t<tr><td>ff9c2ed9d5c7002f4126ed7c78267912</td><td>AcceptabilityJudgement</td><td>SubjectiveComment-Material</td><td>Incongruent</td><td>Wrong  </td><td>5132</td><td>3.710287</td></tr>\n",
              "\t<tr><td>ffb247049b32eea1ca01866adae318b6</td><td>AcceptabilityJudgement</td><td>Size-Nationality          </td><td>Congruent  </td><td>Correct</td><td>5539</td><td>3.743431</td></tr>\n",
              "\t<tr><td>ffb247049b32eea1ca01866adae318b6</td><td>AcceptabilityJudgement</td><td>Size-Nationality          </td><td>Incongruent</td><td>Correct</td><td>3142</td><td>3.497206</td></tr>\n",
              "\t<tr><td>ffb247049b32eea1ca01866adae318b6</td><td>AcceptabilityJudgement</td><td>Size-Nationality          </td><td>Congruent  </td><td>Correct</td><td>1394</td><td>3.144263</td></tr>\n",
              "\t<tr><td>ffb247049b32eea1ca01866adae318b6</td><td>AcceptabilityJudgement</td><td>Size-Nationality          </td><td>Incongruent</td><td>Correct</td><td>4951</td><td>3.694693</td></tr>\n",
              "\t<tr><td>ffb247049b32eea1ca01866adae318b6</td><td>AcceptabilityJudgement</td><td>Size-Nationality          </td><td>Congruent  </td><td>Correct</td><td>2198</td><td>3.342028</td></tr>\n",
              "\t<tr><td>ffb247049b32eea1ca01866adae318b6</td><td>AcceptabilityJudgement</td><td>Size-Nationality          </td><td>Incongruent</td><td>Correct</td><td>1808</td><td>3.257198</td></tr>\n",
              "\t<tr><td>ffb247049b32eea1ca01866adae318b6</td><td>AcceptabilityJudgement</td><td>Shape-Color               </td><td>Congruent  </td><td>Correct</td><td>2456</td><td>3.390228</td></tr>\n",
              "\t<tr><td>ffb247049b32eea1ca01866adae318b6</td><td>AcceptabilityJudgement</td><td>Shape-Color               </td><td>Incongruent</td><td>Correct</td><td>3179</td><td>3.502291</td></tr>\n",
              "\t<tr><td>ffb247049b32eea1ca01866adae318b6</td><td>AcceptabilityJudgement</td><td>Shape-Color               </td><td>Congruent  </td><td>Correct</td><td>4296</td><td>3.633064</td></tr>\n",
              "\t<tr><td>ffb247049b32eea1ca01866adae318b6</td><td>AcceptabilityJudgement</td><td>Shape-Color               </td><td>Incongruent</td><td>Correct</td><td>3302</td><td>3.518777</td></tr>\n",
              "\t<tr><td>ffb247049b32eea1ca01866adae318b6</td><td>AcceptabilityJudgement</td><td>Shape-Color               </td><td>Congruent  </td><td>Correct</td><td>2148</td><td>3.332034</td></tr>\n",
              "\t<tr><td>ffb247049b32eea1ca01866adae318b6</td><td>AcceptabilityJudgement</td><td>Shape-Color               </td><td>Incongruent</td><td>Correct</td><td>2516</td><td>3.400711</td></tr>\n",
              "\t<tr><td>ffb247049b32eea1ca01866adae318b6</td><td>AcceptabilityJudgement</td><td>SubjectiveComment-Material</td><td>Congruent  </td><td>Correct</td><td>2168</td><td>3.336059</td></tr>\n",
              "\t<tr><td>ffb247049b32eea1ca01866adae318b6</td><td>AcceptabilityJudgement</td><td>SubjectiveComment-Material</td><td>Incongruent</td><td>Correct</td><td>1635</td><td>3.213518</td></tr>\n",
              "\t<tr><td>ffb247049b32eea1ca01866adae318b6</td><td>AcceptabilityJudgement</td><td>SubjectiveComment-Material</td><td>Congruent  </td><td>Correct</td><td>2731</td><td>3.436322</td></tr>\n",
              "\t<tr><td>ffb247049b32eea1ca01866adae318b6</td><td>AcceptabilityJudgement</td><td>SubjectiveComment-Material</td><td>Incongruent</td><td>Correct</td><td>1779</td><td>3.250176</td></tr>\n",
              "\t<tr><td>ffb247049b32eea1ca01866adae318b6</td><td>AcceptabilityJudgement</td><td>SubjectiveComment-Material</td><td>Congruent  </td><td>Correct</td><td>3109</td><td>3.492621</td></tr>\n",
              "\t<tr><td>ffb247049b32eea1ca01866adae318b6</td><td>AcceptabilityJudgement</td><td>SubjectiveComment-Material</td><td>Incongruent</td><td>Correct</td><td>1332</td><td>3.124504</td></tr>\n",
              "</tbody>\n",
              "</table>\n"
            ],
            "text/markdown": "\nA spec_tbl_df: 2488 × 7\n\n| ParticipantID &lt;fct&gt; | TypeOfQuestion &lt;fct&gt; | TypeOfStimuli &lt;fct&gt; | WordOrder &lt;fct&gt; | ResponseAcceptabilityJudgement &lt;fct&gt; | RT &lt;int&gt; | RTlog &lt;dbl&gt; |\n|---|---|---|---|---|---|---|\n| 00e0b159cf5b9abcc73b92506d8b1c38 | AcceptabilityJudgement | Size-Nationality           | Congruent   | Correct | 1591 | 3.201670 |\n| 00e0b159cf5b9abcc73b92506d8b1c38 | AcceptabilityJudgement | Size-Nationality           | Incongruent | Correct | 5504 | 3.740678 |\n| 00e0b159cf5b9abcc73b92506d8b1c38 | AcceptabilityJudgement | Size-Nationality           | Congruent   | Correct | 1333 | 3.124830 |\n| 00e0b159cf5b9abcc73b92506d8b1c38 | AcceptabilityJudgement | Size-Nationality           | Incongruent | Correct | 1543 | 3.188366 |\n| 00e0b159cf5b9abcc73b92506d8b1c38 | AcceptabilityJudgement | Size-Nationality           | Congruent   | Correct | 1815 | 3.258877 |\n| 00e0b159cf5b9abcc73b92506d8b1c38 | AcceptabilityJudgement | Size-Nationality           | Incongruent | Correct | 3059 | 3.485579 |\n| 00e0b159cf5b9abcc73b92506d8b1c38 | AcceptabilityJudgement | Shape-Color                | Congruent   | Correct | 1700 | 3.230449 |\n| 00e0b159cf5b9abcc73b92506d8b1c38 | AcceptabilityJudgement | Shape-Color                | Incongruent | Correct | 2745 | 3.438542 |\n| 00e0b159cf5b9abcc73b92506d8b1c38 | AcceptabilityJudgement | Shape-Color                | Congruent   | Correct | 3237 | 3.510143 |\n| 00e0b159cf5b9abcc73b92506d8b1c38 | AcceptabilityJudgement | Shape-Color                | Incongruent | Correct | 2911 | 3.464042 |\n| 00e0b159cf5b9abcc73b92506d8b1c38 | AcceptabilityJudgement | Shape-Color                | Congruent   | Correct | 1878 | 3.273696 |\n| 00e0b159cf5b9abcc73b92506d8b1c38 | AcceptabilityJudgement | Shape-Color                | Incongruent | Correct | 3796 | 3.579326 |\n| 00e0b159cf5b9abcc73b92506d8b1c38 | AcceptabilityJudgement | SubjectiveComment-Material | Congruent   | Wrong   | 1168 | 3.067443 |\n| 00e0b159cf5b9abcc73b92506d8b1c38 | AcceptabilityJudgement | SubjectiveComment-Material | Incongruent | Correct | 2429 | 3.385428 |\n| 00e0b159cf5b9abcc73b92506d8b1c38 | AcceptabilityJudgement | SubjectiveComment-Material | Congruent   | Correct | 2189 | 3.340246 |\n| 00e0b159cf5b9abcc73b92506d8b1c38 | AcceptabilityJudgement | SubjectiveComment-Material | Incongruent | Neither | 3171 | 3.501196 |\n| 00e0b159cf5b9abcc73b92506d8b1c38 | AcceptabilityJudgement | SubjectiveComment-Material | Congruent   | Correct | 1404 | 3.147367 |\n| 00e0b159cf5b9abcc73b92506d8b1c38 | AcceptabilityJudgement | SubjectiveComment-Material | Incongruent | Correct | 2698 | 3.431042 |\n| 021a49cde484f8fa18439f026ec99459 | AcceptabilityJudgement | Size-Nationality           | Congruent   | Correct | 1578 | 3.198107 |\n| 021a49cde484f8fa18439f026ec99459 | AcceptabilityJudgement | Size-Nationality           | Incongruent | Correct | 1719 | 3.235276 |\n| 021a49cde484f8fa18439f026ec99459 | AcceptabilityJudgement | Size-Nationality           | Congruent   | Correct | 2998 | 3.476832 |\n| 021a49cde484f8fa18439f026ec99459 | AcceptabilityJudgement | Size-Nationality           | Incongruent | Correct | 2359 | 3.372728 |\n| 021a49cde484f8fa18439f026ec99459 | AcceptabilityJudgement | Size-Nationality           | Congruent   | Correct | 1206 | 3.081347 |\n| 021a49cde484f8fa18439f026ec99459 | AcceptabilityJudgement | Size-Nationality           | Incongruent | Correct | 1239 | 3.093071 |\n| 021a49cde484f8fa18439f026ec99459 | AcceptabilityJudgement | Shape-Color                | Congruent   | Correct | 1433 | 3.156246 |\n| 021a49cde484f8fa18439f026ec99459 | AcceptabilityJudgement | Shape-Color                | Incongruent | Correct | 1942 | 3.288249 |\n| 021a49cde484f8fa18439f026ec99459 | AcceptabilityJudgement | Shape-Color                | Congruent   | Correct | 1831 | 3.262688 |\n| 021a49cde484f8fa18439f026ec99459 | AcceptabilityJudgement | Shape-Color                | Incongruent | Correct | 1641 | 3.215109 |\n| 021a49cde484f8fa18439f026ec99459 | AcceptabilityJudgement | Shape-Color                | Congruent   | Correct | 1529 | 3.184407 |\n| 021a49cde484f8fa18439f026ec99459 | AcceptabilityJudgement | Shape-Color                | Incongruent | Correct | 1237 | 3.092370 |\n| ⋮ | ⋮ | ⋮ | ⋮ | ⋮ | ⋮ | ⋮ |\n| ff9c2ed9d5c7002f4126ed7c78267912 | AcceptabilityJudgement | Shape-Color                | Congruent   | Correct | 1177 | 3.070776 |\n| ff9c2ed9d5c7002f4126ed7c78267912 | AcceptabilityJudgement | Shape-Color                | Incongruent | Correct | 6564 | 3.817169 |\n| ff9c2ed9d5c7002f4126ed7c78267912 | AcceptabilityJudgement | Shape-Color                | Congruent   | Correct | 2626 | 3.419295 |\n| ff9c2ed9d5c7002f4126ed7c78267912 | AcceptabilityJudgement | Shape-Color                | Incongruent | Correct | 2904 | 3.462997 |\n| ff9c2ed9d5c7002f4126ed7c78267912 | AcceptabilityJudgement | Shape-Color                | Congruent   | Correct | 2306 | 3.362859 |\n| ff9c2ed9d5c7002f4126ed7c78267912 | AcceptabilityJudgement | Shape-Color                | Incongruent | Correct | 2774 | 3.443106 |\n| ff9c2ed9d5c7002f4126ed7c78267912 | AcceptabilityJudgement | SubjectiveComment-Material | Congruent   | Correct | 2503 | 3.398461 |\n| ff9c2ed9d5c7002f4126ed7c78267912 | AcceptabilityJudgement | SubjectiveComment-Material | Incongruent | Correct | 1030 | 3.012837 |\n| ff9c2ed9d5c7002f4126ed7c78267912 | AcceptabilityJudgement | SubjectiveComment-Material | Congruent   | Correct | 1621 | 3.209783 |\n| ff9c2ed9d5c7002f4126ed7c78267912 | AcceptabilityJudgement | SubjectiveComment-Material | Incongruent | Wrong   | 3063 | 3.486147 |\n| ff9c2ed9d5c7002f4126ed7c78267912 | AcceptabilityJudgement | SubjectiveComment-Material | Congruent   | Correct | 1743 | 3.241297 |\n| ff9c2ed9d5c7002f4126ed7c78267912 | AcceptabilityJudgement | SubjectiveComment-Material | Incongruent | Wrong   | 5132 | 3.710287 |\n| ffb247049b32eea1ca01866adae318b6 | AcceptabilityJudgement | Size-Nationality           | Congruent   | Correct | 5539 | 3.743431 |\n| ffb247049b32eea1ca01866adae318b6 | AcceptabilityJudgement | Size-Nationality           | Incongruent | Correct | 3142 | 3.497206 |\n| ffb247049b32eea1ca01866adae318b6 | AcceptabilityJudgement | Size-Nationality           | Congruent   | Correct | 1394 | 3.144263 |\n| ffb247049b32eea1ca01866adae318b6 | AcceptabilityJudgement | Size-Nationality           | Incongruent | Correct | 4951 | 3.694693 |\n| ffb247049b32eea1ca01866adae318b6 | AcceptabilityJudgement | Size-Nationality           | Congruent   | Correct | 2198 | 3.342028 |\n| ffb247049b32eea1ca01866adae318b6 | AcceptabilityJudgement | Size-Nationality           | Incongruent | Correct | 1808 | 3.257198 |\n| ffb247049b32eea1ca01866adae318b6 | AcceptabilityJudgement | Shape-Color                | Congruent   | Correct | 2456 | 3.390228 |\n| ffb247049b32eea1ca01866adae318b6 | AcceptabilityJudgement | Shape-Color                | Incongruent | Correct | 3179 | 3.502291 |\n| ffb247049b32eea1ca01866adae318b6 | AcceptabilityJudgement | Shape-Color                | Congruent   | Correct | 4296 | 3.633064 |\n| ffb247049b32eea1ca01866adae318b6 | AcceptabilityJudgement | Shape-Color                | Incongruent | Correct | 3302 | 3.518777 |\n| ffb247049b32eea1ca01866adae318b6 | AcceptabilityJudgement | Shape-Color                | Congruent   | Correct | 2148 | 3.332034 |\n| ffb247049b32eea1ca01866adae318b6 | AcceptabilityJudgement | Shape-Color                | Incongruent | Correct | 2516 | 3.400711 |\n| ffb247049b32eea1ca01866adae318b6 | AcceptabilityJudgement | SubjectiveComment-Material | Congruent   | Correct | 2168 | 3.336059 |\n| ffb247049b32eea1ca01866adae318b6 | AcceptabilityJudgement | SubjectiveComment-Material | Incongruent | Correct | 1635 | 3.213518 |\n| ffb247049b32eea1ca01866adae318b6 | AcceptabilityJudgement | SubjectiveComment-Material | Congruent   | Correct | 2731 | 3.436322 |\n| ffb247049b32eea1ca01866adae318b6 | AcceptabilityJudgement | SubjectiveComment-Material | Incongruent | Correct | 1779 | 3.250176 |\n| ffb247049b32eea1ca01866adae318b6 | AcceptabilityJudgement | SubjectiveComment-Material | Congruent   | Correct | 3109 | 3.492621 |\n| ffb247049b32eea1ca01866adae318b6 | AcceptabilityJudgement | SubjectiveComment-Material | Incongruent | Correct | 1332 | 3.124504 |\n\n",
            "text/latex": "A spec\\_tbl\\_df: 2488 × 7\n\\begin{tabular}{lllllll}\n ParticipantID & TypeOfQuestion & TypeOfStimuli & WordOrder & ResponseAcceptabilityJudgement & RT & RTlog\\\\\n <fct> & <fct> & <fct> & <fct> & <fct> & <int> & <dbl>\\\\\n\\hline\n\t 00e0b159cf5b9abcc73b92506d8b1c38 & AcceptabilityJudgement & Size-Nationality           & Congruent   & Correct & 1591 & 3.201670\\\\\n\t 00e0b159cf5b9abcc73b92506d8b1c38 & AcceptabilityJudgement & Size-Nationality           & Incongruent & Correct & 5504 & 3.740678\\\\\n\t 00e0b159cf5b9abcc73b92506d8b1c38 & AcceptabilityJudgement & Size-Nationality           & Congruent   & Correct & 1333 & 3.124830\\\\\n\t 00e0b159cf5b9abcc73b92506d8b1c38 & AcceptabilityJudgement & Size-Nationality           & Incongruent & Correct & 1543 & 3.188366\\\\\n\t 00e0b159cf5b9abcc73b92506d8b1c38 & AcceptabilityJudgement & Size-Nationality           & Congruent   & Correct & 1815 & 3.258877\\\\\n\t 00e0b159cf5b9abcc73b92506d8b1c38 & AcceptabilityJudgement & Size-Nationality           & Incongruent & Correct & 3059 & 3.485579\\\\\n\t 00e0b159cf5b9abcc73b92506d8b1c38 & AcceptabilityJudgement & Shape-Color                & Congruent   & Correct & 1700 & 3.230449\\\\\n\t 00e0b159cf5b9abcc73b92506d8b1c38 & AcceptabilityJudgement & Shape-Color                & Incongruent & Correct & 2745 & 3.438542\\\\\n\t 00e0b159cf5b9abcc73b92506d8b1c38 & AcceptabilityJudgement & Shape-Color                & Congruent   & Correct & 3237 & 3.510143\\\\\n\t 00e0b159cf5b9abcc73b92506d8b1c38 & AcceptabilityJudgement & Shape-Color                & Incongruent & Correct & 2911 & 3.464042\\\\\n\t 00e0b159cf5b9abcc73b92506d8b1c38 & AcceptabilityJudgement & Shape-Color                & Congruent   & Correct & 1878 & 3.273696\\\\\n\t 00e0b159cf5b9abcc73b92506d8b1c38 & AcceptabilityJudgement & Shape-Color                & Incongruent & Correct & 3796 & 3.579326\\\\\n\t 00e0b159cf5b9abcc73b92506d8b1c38 & AcceptabilityJudgement & SubjectiveComment-Material & Congruent   & Wrong   & 1168 & 3.067443\\\\\n\t 00e0b159cf5b9abcc73b92506d8b1c38 & AcceptabilityJudgement & SubjectiveComment-Material & Incongruent & Correct & 2429 & 3.385428\\\\\n\t 00e0b159cf5b9abcc73b92506d8b1c38 & AcceptabilityJudgement & SubjectiveComment-Material & Congruent   & Correct & 2189 & 3.340246\\\\\n\t 00e0b159cf5b9abcc73b92506d8b1c38 & AcceptabilityJudgement & SubjectiveComment-Material & Incongruent & Neither & 3171 & 3.501196\\\\\n\t 00e0b159cf5b9abcc73b92506d8b1c38 & AcceptabilityJudgement & SubjectiveComment-Material & Congruent   & Correct & 1404 & 3.147367\\\\\n\t 00e0b159cf5b9abcc73b92506d8b1c38 & AcceptabilityJudgement & SubjectiveComment-Material & Incongruent & Correct & 2698 & 3.431042\\\\\n\t 021a49cde484f8fa18439f026ec99459 & AcceptabilityJudgement & Size-Nationality           & Congruent   & Correct & 1578 & 3.198107\\\\\n\t 021a49cde484f8fa18439f026ec99459 & AcceptabilityJudgement & Size-Nationality           & Incongruent & Correct & 1719 & 3.235276\\\\\n\t 021a49cde484f8fa18439f026ec99459 & AcceptabilityJudgement & Size-Nationality           & Congruent   & Correct & 2998 & 3.476832\\\\\n\t 021a49cde484f8fa18439f026ec99459 & AcceptabilityJudgement & Size-Nationality           & Incongruent & Correct & 2359 & 3.372728\\\\\n\t 021a49cde484f8fa18439f026ec99459 & AcceptabilityJudgement & Size-Nationality           & Congruent   & Correct & 1206 & 3.081347\\\\\n\t 021a49cde484f8fa18439f026ec99459 & AcceptabilityJudgement & Size-Nationality           & Incongruent & Correct & 1239 & 3.093071\\\\\n\t 021a49cde484f8fa18439f026ec99459 & AcceptabilityJudgement & Shape-Color                & Congruent   & Correct & 1433 & 3.156246\\\\\n\t 021a49cde484f8fa18439f026ec99459 & AcceptabilityJudgement & Shape-Color                & Incongruent & Correct & 1942 & 3.288249\\\\\n\t 021a49cde484f8fa18439f026ec99459 & AcceptabilityJudgement & Shape-Color                & Congruent   & Correct & 1831 & 3.262688\\\\\n\t 021a49cde484f8fa18439f026ec99459 & AcceptabilityJudgement & Shape-Color                & Incongruent & Correct & 1641 & 3.215109\\\\\n\t 021a49cde484f8fa18439f026ec99459 & AcceptabilityJudgement & Shape-Color                & Congruent   & Correct & 1529 & 3.184407\\\\\n\t 021a49cde484f8fa18439f026ec99459 & AcceptabilityJudgement & Shape-Color                & Incongruent & Correct & 1237 & 3.092370\\\\\n\t ⋮ & ⋮ & ⋮ & ⋮ & ⋮ & ⋮ & ⋮\\\\\n\t ff9c2ed9d5c7002f4126ed7c78267912 & AcceptabilityJudgement & Shape-Color                & Congruent   & Correct & 1177 & 3.070776\\\\\n\t ff9c2ed9d5c7002f4126ed7c78267912 & AcceptabilityJudgement & Shape-Color                & Incongruent & Correct & 6564 & 3.817169\\\\\n\t ff9c2ed9d5c7002f4126ed7c78267912 & AcceptabilityJudgement & Shape-Color                & Congruent   & Correct & 2626 & 3.419295\\\\\n\t ff9c2ed9d5c7002f4126ed7c78267912 & AcceptabilityJudgement & Shape-Color                & Incongruent & Correct & 2904 & 3.462997\\\\\n\t ff9c2ed9d5c7002f4126ed7c78267912 & AcceptabilityJudgement & Shape-Color                & Congruent   & Correct & 2306 & 3.362859\\\\\n\t ff9c2ed9d5c7002f4126ed7c78267912 & AcceptabilityJudgement & Shape-Color                & Incongruent & Correct & 2774 & 3.443106\\\\\n\t ff9c2ed9d5c7002f4126ed7c78267912 & AcceptabilityJudgement & SubjectiveComment-Material & Congruent   & Correct & 2503 & 3.398461\\\\\n\t ff9c2ed9d5c7002f4126ed7c78267912 & AcceptabilityJudgement & SubjectiveComment-Material & Incongruent & Correct & 1030 & 3.012837\\\\\n\t ff9c2ed9d5c7002f4126ed7c78267912 & AcceptabilityJudgement & SubjectiveComment-Material & Congruent   & Correct & 1621 & 3.209783\\\\\n\t ff9c2ed9d5c7002f4126ed7c78267912 & AcceptabilityJudgement & SubjectiveComment-Material & Incongruent & Wrong   & 3063 & 3.486147\\\\\n\t ff9c2ed9d5c7002f4126ed7c78267912 & AcceptabilityJudgement & SubjectiveComment-Material & Congruent   & Correct & 1743 & 3.241297\\\\\n\t ff9c2ed9d5c7002f4126ed7c78267912 & AcceptabilityJudgement & SubjectiveComment-Material & Incongruent & Wrong   & 5132 & 3.710287\\\\\n\t ffb247049b32eea1ca01866adae318b6 & AcceptabilityJudgement & Size-Nationality           & Congruent   & Correct & 5539 & 3.743431\\\\\n\t ffb247049b32eea1ca01866adae318b6 & AcceptabilityJudgement & Size-Nationality           & Incongruent & Correct & 3142 & 3.497206\\\\\n\t ffb247049b32eea1ca01866adae318b6 & AcceptabilityJudgement & Size-Nationality           & Congruent   & Correct & 1394 & 3.144263\\\\\n\t ffb247049b32eea1ca01866adae318b6 & AcceptabilityJudgement & Size-Nationality           & Incongruent & Correct & 4951 & 3.694693\\\\\n\t ffb247049b32eea1ca01866adae318b6 & AcceptabilityJudgement & Size-Nationality           & Congruent   & Correct & 2198 & 3.342028\\\\\n\t ffb247049b32eea1ca01866adae318b6 & AcceptabilityJudgement & Size-Nationality           & Incongruent & Correct & 1808 & 3.257198\\\\\n\t ffb247049b32eea1ca01866adae318b6 & AcceptabilityJudgement & Shape-Color                & Congruent   & Correct & 2456 & 3.390228\\\\\n\t ffb247049b32eea1ca01866adae318b6 & AcceptabilityJudgement & Shape-Color                & Incongruent & Correct & 3179 & 3.502291\\\\\n\t ffb247049b32eea1ca01866adae318b6 & AcceptabilityJudgement & Shape-Color                & Congruent   & Correct & 4296 & 3.633064\\\\\n\t ffb247049b32eea1ca01866adae318b6 & AcceptabilityJudgement & Shape-Color                & Incongruent & Correct & 3302 & 3.518777\\\\\n\t ffb247049b32eea1ca01866adae318b6 & AcceptabilityJudgement & Shape-Color                & Congruent   & Correct & 2148 & 3.332034\\\\\n\t ffb247049b32eea1ca01866adae318b6 & AcceptabilityJudgement & Shape-Color                & Incongruent & Correct & 2516 & 3.400711\\\\\n\t ffb247049b32eea1ca01866adae318b6 & AcceptabilityJudgement & SubjectiveComment-Material & Congruent   & Correct & 2168 & 3.336059\\\\\n\t ffb247049b32eea1ca01866adae318b6 & AcceptabilityJudgement & SubjectiveComment-Material & Incongruent & Correct & 1635 & 3.213518\\\\\n\t ffb247049b32eea1ca01866adae318b6 & AcceptabilityJudgement & SubjectiveComment-Material & Congruent   & Correct & 2731 & 3.436322\\\\\n\t ffb247049b32eea1ca01866adae318b6 & AcceptabilityJudgement & SubjectiveComment-Material & Incongruent & Correct & 1779 & 3.250176\\\\\n\t ffb247049b32eea1ca01866adae318b6 & AcceptabilityJudgement & SubjectiveComment-Material & Congruent   & Correct & 3109 & 3.492621\\\\\n\t ffb247049b32eea1ca01866adae318b6 & AcceptabilityJudgement & SubjectiveComment-Material & Incongruent & Correct & 1332 & 3.124504\\\\\n\\end{tabular}\n",
            "text/plain": [
              "     ParticipantID                    TypeOfQuestion        \n",
              "1    00e0b159cf5b9abcc73b92506d8b1c38 AcceptabilityJudgement\n",
              "2    00e0b159cf5b9abcc73b92506d8b1c38 AcceptabilityJudgement\n",
              "3    00e0b159cf5b9abcc73b92506d8b1c38 AcceptabilityJudgement\n",
              "4    00e0b159cf5b9abcc73b92506d8b1c38 AcceptabilityJudgement\n",
              "5    00e0b159cf5b9abcc73b92506d8b1c38 AcceptabilityJudgement\n",
              "6    00e0b159cf5b9abcc73b92506d8b1c38 AcceptabilityJudgement\n",
              "7    00e0b159cf5b9abcc73b92506d8b1c38 AcceptabilityJudgement\n",
              "8    00e0b159cf5b9abcc73b92506d8b1c38 AcceptabilityJudgement\n",
              "9    00e0b159cf5b9abcc73b92506d8b1c38 AcceptabilityJudgement\n",
              "10   00e0b159cf5b9abcc73b92506d8b1c38 AcceptabilityJudgement\n",
              "11   00e0b159cf5b9abcc73b92506d8b1c38 AcceptabilityJudgement\n",
              "12   00e0b159cf5b9abcc73b92506d8b1c38 AcceptabilityJudgement\n",
              "13   00e0b159cf5b9abcc73b92506d8b1c38 AcceptabilityJudgement\n",
              "14   00e0b159cf5b9abcc73b92506d8b1c38 AcceptabilityJudgement\n",
              "15   00e0b159cf5b9abcc73b92506d8b1c38 AcceptabilityJudgement\n",
              "16   00e0b159cf5b9abcc73b92506d8b1c38 AcceptabilityJudgement\n",
              "17   00e0b159cf5b9abcc73b92506d8b1c38 AcceptabilityJudgement\n",
              "18   00e0b159cf5b9abcc73b92506d8b1c38 AcceptabilityJudgement\n",
              "19   021a49cde484f8fa18439f026ec99459 AcceptabilityJudgement\n",
              "20   021a49cde484f8fa18439f026ec99459 AcceptabilityJudgement\n",
              "21   021a49cde484f8fa18439f026ec99459 AcceptabilityJudgement\n",
              "22   021a49cde484f8fa18439f026ec99459 AcceptabilityJudgement\n",
              "23   021a49cde484f8fa18439f026ec99459 AcceptabilityJudgement\n",
              "24   021a49cde484f8fa18439f026ec99459 AcceptabilityJudgement\n",
              "25   021a49cde484f8fa18439f026ec99459 AcceptabilityJudgement\n",
              "26   021a49cde484f8fa18439f026ec99459 AcceptabilityJudgement\n",
              "27   021a49cde484f8fa18439f026ec99459 AcceptabilityJudgement\n",
              "28   021a49cde484f8fa18439f026ec99459 AcceptabilityJudgement\n",
              "29   021a49cde484f8fa18439f026ec99459 AcceptabilityJudgement\n",
              "30   021a49cde484f8fa18439f026ec99459 AcceptabilityJudgement\n",
              "⋮    ⋮                                ⋮                     \n",
              "2459 ff9c2ed9d5c7002f4126ed7c78267912 AcceptabilityJudgement\n",
              "2460 ff9c2ed9d5c7002f4126ed7c78267912 AcceptabilityJudgement\n",
              "2461 ff9c2ed9d5c7002f4126ed7c78267912 AcceptabilityJudgement\n",
              "2462 ff9c2ed9d5c7002f4126ed7c78267912 AcceptabilityJudgement\n",
              "2463 ff9c2ed9d5c7002f4126ed7c78267912 AcceptabilityJudgement\n",
              "2464 ff9c2ed9d5c7002f4126ed7c78267912 AcceptabilityJudgement\n",
              "2465 ff9c2ed9d5c7002f4126ed7c78267912 AcceptabilityJudgement\n",
              "2466 ff9c2ed9d5c7002f4126ed7c78267912 AcceptabilityJudgement\n",
              "2467 ff9c2ed9d5c7002f4126ed7c78267912 AcceptabilityJudgement\n",
              "2468 ff9c2ed9d5c7002f4126ed7c78267912 AcceptabilityJudgement\n",
              "2469 ff9c2ed9d5c7002f4126ed7c78267912 AcceptabilityJudgement\n",
              "2470 ff9c2ed9d5c7002f4126ed7c78267912 AcceptabilityJudgement\n",
              "2471 ffb247049b32eea1ca01866adae318b6 AcceptabilityJudgement\n",
              "2472 ffb247049b32eea1ca01866adae318b6 AcceptabilityJudgement\n",
              "2473 ffb247049b32eea1ca01866adae318b6 AcceptabilityJudgement\n",
              "2474 ffb247049b32eea1ca01866adae318b6 AcceptabilityJudgement\n",
              "2475 ffb247049b32eea1ca01866adae318b6 AcceptabilityJudgement\n",
              "2476 ffb247049b32eea1ca01866adae318b6 AcceptabilityJudgement\n",
              "2477 ffb247049b32eea1ca01866adae318b6 AcceptabilityJudgement\n",
              "2478 ffb247049b32eea1ca01866adae318b6 AcceptabilityJudgement\n",
              "2479 ffb247049b32eea1ca01866adae318b6 AcceptabilityJudgement\n",
              "2480 ffb247049b32eea1ca01866adae318b6 AcceptabilityJudgement\n",
              "2481 ffb247049b32eea1ca01866adae318b6 AcceptabilityJudgement\n",
              "2482 ffb247049b32eea1ca01866adae318b6 AcceptabilityJudgement\n",
              "2483 ffb247049b32eea1ca01866adae318b6 AcceptabilityJudgement\n",
              "2484 ffb247049b32eea1ca01866adae318b6 AcceptabilityJudgement\n",
              "2485 ffb247049b32eea1ca01866adae318b6 AcceptabilityJudgement\n",
              "2486 ffb247049b32eea1ca01866adae318b6 AcceptabilityJudgement\n",
              "2487 ffb247049b32eea1ca01866adae318b6 AcceptabilityJudgement\n",
              "2488 ffb247049b32eea1ca01866adae318b6 AcceptabilityJudgement\n",
              "     TypeOfStimuli              WordOrder   ResponseAcceptabilityJudgement RT  \n",
              "1    Size-Nationality           Congruent   Correct                        1591\n",
              "2    Size-Nationality           Incongruent Correct                        5504\n",
              "3    Size-Nationality           Congruent   Correct                        1333\n",
              "4    Size-Nationality           Incongruent Correct                        1543\n",
              "5    Size-Nationality           Congruent   Correct                        1815\n",
              "6    Size-Nationality           Incongruent Correct                        3059\n",
              "7    Shape-Color                Congruent   Correct                        1700\n",
              "8    Shape-Color                Incongruent Correct                        2745\n",
              "9    Shape-Color                Congruent   Correct                        3237\n",
              "10   Shape-Color                Incongruent Correct                        2911\n",
              "11   Shape-Color                Congruent   Correct                        1878\n",
              "12   Shape-Color                Incongruent Correct                        3796\n",
              "13   SubjectiveComment-Material Congruent   Wrong                          1168\n",
              "14   SubjectiveComment-Material Incongruent Correct                        2429\n",
              "15   SubjectiveComment-Material Congruent   Correct                        2189\n",
              "16   SubjectiveComment-Material Incongruent Neither                        3171\n",
              "17   SubjectiveComment-Material Congruent   Correct                        1404\n",
              "18   SubjectiveComment-Material Incongruent Correct                        2698\n",
              "19   Size-Nationality           Congruent   Correct                        1578\n",
              "20   Size-Nationality           Incongruent Correct                        1719\n",
              "21   Size-Nationality           Congruent   Correct                        2998\n",
              "22   Size-Nationality           Incongruent Correct                        2359\n",
              "23   Size-Nationality           Congruent   Correct                        1206\n",
              "24   Size-Nationality           Incongruent Correct                        1239\n",
              "25   Shape-Color                Congruent   Correct                        1433\n",
              "26   Shape-Color                Incongruent Correct                        1942\n",
              "27   Shape-Color                Congruent   Correct                        1831\n",
              "28   Shape-Color                Incongruent Correct                        1641\n",
              "29   Shape-Color                Congruent   Correct                        1529\n",
              "30   Shape-Color                Incongruent Correct                        1237\n",
              "⋮    ⋮                          ⋮           ⋮                              ⋮   \n",
              "2459 Shape-Color                Congruent   Correct                        1177\n",
              "2460 Shape-Color                Incongruent Correct                        6564\n",
              "2461 Shape-Color                Congruent   Correct                        2626\n",
              "2462 Shape-Color                Incongruent Correct                        2904\n",
              "2463 Shape-Color                Congruent   Correct                        2306\n",
              "2464 Shape-Color                Incongruent Correct                        2774\n",
              "2465 SubjectiveComment-Material Congruent   Correct                        2503\n",
              "2466 SubjectiveComment-Material Incongruent Correct                        1030\n",
              "2467 SubjectiveComment-Material Congruent   Correct                        1621\n",
              "2468 SubjectiveComment-Material Incongruent Wrong                          3063\n",
              "2469 SubjectiveComment-Material Congruent   Correct                        1743\n",
              "2470 SubjectiveComment-Material Incongruent Wrong                          5132\n",
              "2471 Size-Nationality           Congruent   Correct                        5539\n",
              "2472 Size-Nationality           Incongruent Correct                        3142\n",
              "2473 Size-Nationality           Congruent   Correct                        1394\n",
              "2474 Size-Nationality           Incongruent Correct                        4951\n",
              "2475 Size-Nationality           Congruent   Correct                        2198\n",
              "2476 Size-Nationality           Incongruent Correct                        1808\n",
              "2477 Shape-Color                Congruent   Correct                        2456\n",
              "2478 Shape-Color                Incongruent Correct                        3179\n",
              "2479 Shape-Color                Congruent   Correct                        4296\n",
              "2480 Shape-Color                Incongruent Correct                        3302\n",
              "2481 Shape-Color                Congruent   Correct                        2148\n",
              "2482 Shape-Color                Incongruent Correct                        2516\n",
              "2483 SubjectiveComment-Material Congruent   Correct                        2168\n",
              "2484 SubjectiveComment-Material Incongruent Correct                        1635\n",
              "2485 SubjectiveComment-Material Congruent   Correct                        2731\n",
              "2486 SubjectiveComment-Material Incongruent Correct                        1779\n",
              "2487 SubjectiveComment-Material Congruent   Correct                        3109\n",
              "2488 SubjectiveComment-Material Incongruent Correct                        1332\n",
              "     RTlog   \n",
              "1    3.201670\n",
              "2    3.740678\n",
              "3    3.124830\n",
              "4    3.188366\n",
              "5    3.258877\n",
              "6    3.485579\n",
              "7    3.230449\n",
              "8    3.438542\n",
              "9    3.510143\n",
              "10   3.464042\n",
              "11   3.273696\n",
              "12   3.579326\n",
              "13   3.067443\n",
              "14   3.385428\n",
              "15   3.340246\n",
              "16   3.501196\n",
              "17   3.147367\n",
              "18   3.431042\n",
              "19   3.198107\n",
              "20   3.235276\n",
              "21   3.476832\n",
              "22   3.372728\n",
              "23   3.081347\n",
              "24   3.093071\n",
              "25   3.156246\n",
              "26   3.288249\n",
              "27   3.262688\n",
              "28   3.215109\n",
              "29   3.184407\n",
              "30   3.092370\n",
              "⋮    ⋮       \n",
              "2459 3.070776\n",
              "2460 3.817169\n",
              "2461 3.419295\n",
              "2462 3.462997\n",
              "2463 3.362859\n",
              "2464 3.443106\n",
              "2465 3.398461\n",
              "2466 3.012837\n",
              "2467 3.209783\n",
              "2468 3.486147\n",
              "2469 3.241297\n",
              "2470 3.710287\n",
              "2471 3.743431\n",
              "2472 3.497206\n",
              "2473 3.144263\n",
              "2474 3.694693\n",
              "2475 3.342028\n",
              "2476 3.257198\n",
              "2477 3.390228\n",
              "2478 3.502291\n",
              "2479 3.633064\n",
              "2480 3.518777\n",
              "2481 3.332034\n",
              "2482 3.400711\n",
              "2483 3.336059\n",
              "2484 3.213518\n",
              "2485 3.436322\n",
              "2486 3.250176\n",
              "2487 3.492621\n",
              "2488 3.124504"
            ]
          },
          "metadata": {}
        }
      ]
    },
    {
      "cell_type": "markdown",
      "source": [
        "### 1.8 Тест на разницу средних\n",
        "\n",
        "Проанализируйте разницу в среднем значении RTlog у двух групп (порядок слов в стимуле: конгруэнтный vs неконгруэнтный). Сформулируйте нулевую и альтернативную гипотезу, аргументируйте, какой тип t-test'а или его аналогов следует применить, сделайте статистический и содержательный вывод о значимости различия.  "
      ],
      "metadata": {
        "id": "GRCszW9-JLl5"
      }
    },
    {
      "cell_type": "markdown",
      "source": [
        "```{txt 1.8}\n",
        "1.8 НУЛЕВАЯ И АЛЬТЕРНАТИВНАЯ ГИПОТЕЗЫ\n",
        "```\n",
        "H0: среднее логарифмированного времени реакций в группе испытаний с конгруэнтным порядком слов в стимуле такое же, как в группе испытаний с неконгруэнтным порядком слов в стимуле.\n",
        "\n",
        "Н1: средние логарифмированного времени реакций в группах испытаний с конгруэнтным/неконгруэнтным порядком слов в стимуле отличаются."
      ],
      "metadata": {
        "id": "SRUviHiVJSjZ"
      }
    },
    {
      "cell_type": "markdown",
      "source": [
        "Допушения t-test:\n",
        "- нормальность распределения\n",
        "- одинаковые дисперсии\n",
        "- независимость значений (или пар значений)"
      ],
      "metadata": {
        "id": "Who2lld_jj2l"
      }
    },
    {
      "cell_type": "code",
      "source": [
        "# проверим нормальность распределения для всей переменной RTlog и по условиям\n",
        "shapiro.test(mono1$RTlog)"
      ],
      "metadata": {
        "id": "oNxNbF5aJSL2",
        "colab": {
          "base_uri": "https://localhost:8080/",
          "height": 109
        },
        "outputId": "d64a22cd-790d-4b0a-a8db-ceb905031698"
      },
      "execution_count": 22,
      "outputs": [
        {
          "output_type": "display_data",
          "data": {
            "text/plain": [
              "\n",
              "\tShapiro-Wilk normality test\n",
              "\n",
              "data:  mono1$RTlog\n",
              "W = 0.98148, p-value < 2.2e-16\n"
            ]
          },
          "metadata": {}
        }
      ]
    },
    {
      "cell_type": "code",
      "source": [
        "mono1_cong <- mono1 %>%\n",
        "  filter(WordOrder == 'Congruent')\n",
        "\n",
        "mono1_incong <- mono1 %>%\n",
        "  filter(WordOrder == 'Incongruent')\n",
        "\n",
        "shapiro.test(mono1_cong$RTlog)\n",
        "shapiro.test(mono1_incong$RTlog)"
      ],
      "metadata": {
        "colab": {
          "base_uri": "https://localhost:8080/",
          "height": 201
        },
        "id": "NVTykWvrmlpQ",
        "outputId": "f25cc65f-162e-422f-c0a9-0f6da39b2876"
      },
      "execution_count": 23,
      "outputs": [
        {
          "output_type": "display_data",
          "data": {
            "text/plain": [
              "\n",
              "\tShapiro-Wilk normality test\n",
              "\n",
              "data:  mono1_cong$RTlog\n",
              "W = 0.97688, p-value = 2.975e-13\n"
            ]
          },
          "metadata": {}
        },
        {
          "output_type": "display_data",
          "data": {
            "text/plain": [
              "\n",
              "\tShapiro-Wilk normality test\n",
              "\n",
              "data:  mono1_incong$RTlog\n",
              "W = 0.98502, p-value = 5.394e-10\n"
            ]
          },
          "metadata": {}
        }
      ]
    },
    {
      "cell_type": "code",
      "source": [
        "# проверим на графике\n",
        "PlotQQ(mono1$RTlog)"
      ],
      "metadata": {
        "colab": {
          "base_uri": "https://localhost:8080/",
          "height": 437
        },
        "id": "zB-CP7fRrC_L",
        "outputId": "55e31001-bed3-403c-bcc1-9c3a53730535"
      },
      "execution_count": 24,
      "outputs": [
        {
          "output_type": "display_data",
          "data": {
            "text/plain": [
              "Plot with title “Q-Q-Plot (qnorm)”"
            ],
            "image/png": "[encoded data removed]"
          },
          "metadata": {
            "image/png": {
              "width": 420,
              "height": 420
            }
          }
        }
      ]
    },
    {
      "cell_type": "markdown",
      "source": [
        "Немного отходит от линии хвост справа. Тест Шапиро-Уилка показал ненормальность распределения (p-value < 2.2e-16), значит, необходимо использовать непараметрические аналоги t-test.\n",
        "\n",
        "Было решено использовать парный тест Уилкоксона (поскольку в нашем случае мы предъявляем оба условия одним и тем же респондентам, а таргетная переменная непрерывна)."
      ],
      "metadata": {
        "id": "51tny-_XsQM_"
      }
    },
    {
      "cell_type": "code",
      "source": [
        "wilcox.test(mono1_cong$RTlog, mono1_incong$RTlog, paired = TRUE)"
      ],
      "metadata": {
        "colab": {
          "base_uri": "https://localhost:8080/",
          "height": 295
        },
        "id": "1iaHcLrotxfN",
        "outputId": "307caf77-29de-4421-841d-d6b72162f077"
      },
      "execution_count": 25,
      "outputs": [
        {
          "output_type": "error",
          "ename": "ERROR",
          "evalue": "Error in wilcox.test.default(mono1_cong$RTlog, mono1_incong$RTlog, paired = TRUE): 'x' and 'y' must have the same length\n",
          "traceback": [
            "Error in wilcox.test.default(mono1_cong$RTlog, mono1_incong$RTlog, paired = TRUE): 'x' and 'y' must have the same length\nTraceback:\n",
            "1. wilcox.test.default(mono1_cong$RTlog, mono1_incong$RTlog, paired = TRUE)",
            "2. stop(\"'x' and 'y' must have the same length\")",
            "3. .handleSimpleError(function (cnd) \n . {\n .     watcher$capture_plot_and_output()\n .     cnd <- sanitize_call(cnd)\n .     watcher$push(cnd)\n .     switch(on_error, continue = invokeRestart(\"eval_continue\"), \n .         stop = invokeRestart(\"eval_stop\"), error = NULL)\n . }, \"'x' and 'y' must have the same length\", base::quote(wilcox.test.default(mono1_cong$RTlog, \n .     mono1_incong$RTlog, paired = TRUE)))"
          ]
        }
      ]
    },
    {
      "cell_type": "markdown",
      "source": [
        "Кажется, у нас здесь не очень полные данные. Давайте искать, где ошибка."
      ],
      "metadata": {
        "id": "lJD1wbsi9X_H"
      }
    },
    {
      "cell_type": "code",
      "source": [
        "nrow(mono1_cong)\n",
        "nrow(mono1_incong)"
      ],
      "metadata": {
        "colab": {
          "base_uri": "https://localhost:8080/",
          "height": 52
        },
        "id": "-OcS_RRv-llH",
        "outputId": "dc56c0b2-e9a6-4bb0-f55a-195999924da5"
      },
      "execution_count": 27,
      "outputs": [
        {
          "output_type": "display_data",
          "data": {
            "text/html": [
              "1249"
            ],
            "text/markdown": "1249",
            "text/latex": "1249",
            "text/plain": [
              "[1] 1249"
            ]
          },
          "metadata": {}
        },
        {
          "output_type": "display_data",
          "data": {
            "text/html": [
              "1239"
            ],
            "text/markdown": "1239",
            "text/latex": "1239",
            "text/plain": [
              "[1] 1239"
            ]
          },
          "metadata": {}
        }
      ]
    },
    {
      "cell_type": "markdown",
      "source": [
        "На каждого респондента приходится по 18 строк (по 6 на все 3 условия). Следовательно, надо искать респондентов, у которых меньше испытаний."
      ],
      "metadata": {
        "id": "U4qhMzDK-HTf"
      }
    },
    {
      "cell_type": "code",
      "source": [
        "mono1 %>%\n",
        "  group_by(ParticipantID) %>%\n",
        "    summarise(Num = n()) %>%\n",
        "      filter(Num != 18)"
      ],
      "metadata": {
        "colab": {
          "base_uri": "https://localhost:8080/",
          "height": 662
        },
        "id": "V7CusJtj9zmC",
        "outputId": "8eafd699-2e49-4601-f345-63d4d7253671"
      },
      "execution_count": 28,
      "outputs": [
        {
          "output_type": "display_data",
          "data": {
            "text/html": [
              "<table class=\"dataframe\">\n",
              "<caption>A tibble: 18 × 2</caption>\n",
              "<thead>\n",
              "\t<tr><th scope=col>ParticipantID</th><th scope=col>Num</th></tr>\n",
              "\t<tr><th scope=col>&lt;fct&gt;</th><th scope=col>&lt;int&gt;</th></tr>\n",
              "</thead>\n",
              "<tbody>\n",
              "\t<tr><td>215534f5593230b3d84e97e8f6c95e08</td><td>16</td></tr>\n",
              "\t<tr><td>313ac7af35b86e9e1ae8b51b2fff662a</td><td>17</td></tr>\n",
              "\t<tr><td>31e6496931b3c5161057a3820a8435f1</td><td>16</td></tr>\n",
              "\t<tr><td>6d4175156dbd671735742b3fc10bd336</td><td>17</td></tr>\n",
              "\t<tr><td>6e948cf917cff18ae5b971d3f9ac4cf6</td><td>17</td></tr>\n",
              "\t<tr><td>7d032f844f1c45ceed867ace66e7cc97</td><td>17</td></tr>\n",
              "\t<tr><td>88f1984e454df103c8fb72784f87d4aa</td><td>17</td></tr>\n",
              "\t<tr><td>89e7f472c986b5b7804544af21277a70</td><td>16</td></tr>\n",
              "\t<tr><td>8a0c5d59c27542fb82f239161a0e53d8</td><td>17</td></tr>\n",
              "\t<tr><td>988263dfb3e08cb0bef2f10688bac91b</td><td>16</td></tr>\n",
              "\t<tr><td>9db83f76362a21c9afde940c066cef44</td><td>15</td></tr>\n",
              "\t<tr><td>a3e41dd74593a4f845aa2db64a262c4e</td><td>17</td></tr>\n",
              "\t<tr><td>b28ff05ff03707cd7cee83c6fd6e71ad</td><td>17</td></tr>\n",
              "\t<tr><td>b795b08d19814da39daafd4a186d52c1</td><td>15</td></tr>\n",
              "\t<tr><td>eed6d07048524b9475325353e50ddcff</td><td>16</td></tr>\n",
              "\t<tr><td>f1d1bbafe333d972f1d1e60131839dbd</td><td>17</td></tr>\n",
              "\t<tr><td>f6e45a060ee913d7d7a69aec62d69c1b</td><td>12</td></tr>\n",
              "\t<tr><td>fcdb16f4c186d109d04339db74624564</td><td>17</td></tr>\n",
              "</tbody>\n",
              "</table>\n"
            ],
            "text/markdown": "\nA tibble: 18 × 2\n\n| ParticipantID &lt;fct&gt; | Num &lt;int&gt; |\n|---|---|\n| 215534f5593230b3d84e97e8f6c95e08 | 16 |\n| 313ac7af35b86e9e1ae8b51b2fff662a | 17 |\n| 31e6496931b3c5161057a3820a8435f1 | 16 |\n| 6d4175156dbd671735742b3fc10bd336 | 17 |\n| 6e948cf917cff18ae5b971d3f9ac4cf6 | 17 |\n| 7d032f844f1c45ceed867ace66e7cc97 | 17 |\n| 88f1984e454df103c8fb72784f87d4aa | 17 |\n| 89e7f472c986b5b7804544af21277a70 | 16 |\n| 8a0c5d59c27542fb82f239161a0e53d8 | 17 |\n| 988263dfb3e08cb0bef2f10688bac91b | 16 |\n| 9db83f76362a21c9afde940c066cef44 | 15 |\n| a3e41dd74593a4f845aa2db64a262c4e | 17 |\n| b28ff05ff03707cd7cee83c6fd6e71ad | 17 |\n| b795b08d19814da39daafd4a186d52c1 | 15 |\n| eed6d07048524b9475325353e50ddcff | 16 |\n| f1d1bbafe333d972f1d1e60131839dbd | 17 |\n| f6e45a060ee913d7d7a69aec62d69c1b | 12 |\n| fcdb16f4c186d109d04339db74624564 | 17 |\n\n",
            "text/latex": "A tibble: 18 × 2\n\\begin{tabular}{ll}\n ParticipantID & Num\\\\\n <fct> & <int>\\\\\n\\hline\n\t 215534f5593230b3d84e97e8f6c95e08 & 16\\\\\n\t 313ac7af35b86e9e1ae8b51b2fff662a & 17\\\\\n\t 31e6496931b3c5161057a3820a8435f1 & 16\\\\\n\t 6d4175156dbd671735742b3fc10bd336 & 17\\\\\n\t 6e948cf917cff18ae5b971d3f9ac4cf6 & 17\\\\\n\t 7d032f844f1c45ceed867ace66e7cc97 & 17\\\\\n\t 88f1984e454df103c8fb72784f87d4aa & 17\\\\\n\t 89e7f472c986b5b7804544af21277a70 & 16\\\\\n\t 8a0c5d59c27542fb82f239161a0e53d8 & 17\\\\\n\t 988263dfb3e08cb0bef2f10688bac91b & 16\\\\\n\t 9db83f76362a21c9afde940c066cef44 & 15\\\\\n\t a3e41dd74593a4f845aa2db64a262c4e & 17\\\\\n\t b28ff05ff03707cd7cee83c6fd6e71ad & 17\\\\\n\t b795b08d19814da39daafd4a186d52c1 & 15\\\\\n\t eed6d07048524b9475325353e50ddcff & 16\\\\\n\t f1d1bbafe333d972f1d1e60131839dbd & 17\\\\\n\t f6e45a060ee913d7d7a69aec62d69c1b & 12\\\\\n\t fcdb16f4c186d109d04339db74624564 & 17\\\\\n\\end{tabular}\n",
            "text/plain": [
              "   ParticipantID                    Num\n",
              "1  215534f5593230b3d84e97e8f6c95e08 16 \n",
              "2  313ac7af35b86e9e1ae8b51b2fff662a 17 \n",
              "3  31e6496931b3c5161057a3820a8435f1 16 \n",
              "4  6d4175156dbd671735742b3fc10bd336 17 \n",
              "5  6e948cf917cff18ae5b971d3f9ac4cf6 17 \n",
              "6  7d032f844f1c45ceed867ace66e7cc97 17 \n",
              "7  88f1984e454df103c8fb72784f87d4aa 17 \n",
              "8  89e7f472c986b5b7804544af21277a70 16 \n",
              "9  8a0c5d59c27542fb82f239161a0e53d8 17 \n",
              "10 988263dfb3e08cb0bef2f10688bac91b 16 \n",
              "11 9db83f76362a21c9afde940c066cef44 15 \n",
              "12 a3e41dd74593a4f845aa2db64a262c4e 17 \n",
              "13 b28ff05ff03707cd7cee83c6fd6e71ad 17 \n",
              "14 b795b08d19814da39daafd4a186d52c1 15 \n",
              "15 eed6d07048524b9475325353e50ddcff 16 \n",
              "16 f1d1bbafe333d972f1d1e60131839dbd 17 \n",
              "17 f6e45a060ee913d7d7a69aec62d69c1b 12 \n",
              "18 fcdb16f4c186d109d04339db74624564 17 "
            ]
          },
          "metadata": {}
        }
      ]
    },
    {
      "cell_type": "markdown",
      "source": [
        "Исключим этих респондентов из наших данных."
      ],
      "metadata": {
        "id": "yrmeWaLo92y3"
      }
    },
    {
      "cell_type": "code",
      "source": [
        "to_expel <- mono1 %>%\n",
        "  group_by(ParticipantID) %>%\n",
        "    summarise(Num = n()) %>%\n",
        "      filter(Num != 18)\n",
        "\n",
        "# новые датафреймы для теста Уилкоксона\n",
        "mono1_expelled <- anti_join(mono1, to_expel, by='ParticipantID')\n",
        "mono1_cong_expelled <- mono1_expelled %>%\n",
        "  filter(WordOrder == 'Congruent')\n",
        "mono1_incong_expelled <- mono1_expelled %>%\n",
        "  filter(WordOrder == 'Incongruent')\n",
        "\n",
        "# проверяем, что теперь длина данных равна\n",
        "nrow(mono1_cong_expelled)\n",
        "nrow(mono1_incong_expelled)"
      ],
      "metadata": {
        "colab": {
          "base_uri": "https://localhost:8080/",
          "height": 52
        },
        "id": "hPOfDsnd28Q9",
        "outputId": "16cc31de-b828-4e8a-dcdd-62e641fb3528"
      },
      "execution_count": 30,
      "outputs": [
        {
          "output_type": "display_data",
          "data": {
            "text/html": [
              "1098"
            ],
            "text/markdown": "1098",
            "text/latex": "1098",
            "text/plain": [
              "[1] 1098"
            ]
          },
          "metadata": {}
        },
        {
          "output_type": "display_data",
          "data": {
            "text/html": [
              "1098"
            ],
            "text/markdown": "1098",
            "text/latex": "1098",
            "text/plain": [
              "[1] 1098"
            ]
          },
          "metadata": {}
        }
      ]
    },
    {
      "cell_type": "code",
      "source": [
        "wilcox.test(mono1_cong_expelled$RTlog, mono1_incong_expelled$RTlog, paired = TRUE)"
      ],
      "metadata": {
        "colab": {
          "base_uri": "https://localhost:8080/",
          "height": 127
        },
        "id": "0SlfD5-e6sj_",
        "outputId": "da17eea1-d97a-432f-cb38-6f5fffda3908"
      },
      "execution_count": 31,
      "outputs": [
        {
          "output_type": "display_data",
          "data": {
            "text/plain": [
              "\n",
              "\tWilcoxon signed rank test with continuity correction\n",
              "\n",
              "data:  mono1_cong_expelled$RTlog and mono1_incong_expelled$RTlog\n",
              "V = 279679, p-value = 0.04101\n",
              "alternative hypothesis: true location shift is not equal to 0\n"
            ]
          },
          "metadata": {}
        }
      ]
    },
    {
      "cell_type": "markdown",
      "source": [
        "**Статистический вывод**\n",
        "\n",
        "Результат теста Уилкоксона показал, что мы можем отвергнуть нулевую гипотезу о равенстве средних в двух группах на уровне значимости α = 0.05 (V = 279679, p-value = 0.04101).\n",
        "\n",
        "**Содержательный вывод**\n",
        "\n",
        "Результаты теста Уилкоксона (V = 279679, p-value = 0.04101) позволяют утверждать, что конгруэнтность порядка слов влияет на время реакций."
      ],
      "metadata": {
        "id": "UiS4ZaI5-oeh"
      }
    },
    {
      "cell_type": "markdown",
      "source": [
        "### 1.9\n",
        "\n",
        "ANOVA. Проанализируйте разницу в среднем значении RTlog, сгруппировав данные по трем условиям\n",
        "(прилагательное размера > прилагательное национальности, прилагательное цвета > прилагательное формы, прилагательное субъективного комментария > прилагательное материала) и по участнику. Сформулируйте нулевую и альтернативную гипотезу, аргументируйте, какой тип дисперсионного анализа следует применить, сделайте статистический и содержательный вывод о значимости различия. Это задание выполняется только для ответов при порядке слов Incongruent.  "
      ],
      "metadata": {
        "id": "5p-60vQlJcfm"
      }
    },
    {
      "cell_type": "markdown",
      "source": [
        "```{txt 1.9}\n",
        "1.9 ОТВЕТ\n",
        "```\n",
        "**Н0:** средние логарифмированного времени реакций в группах по условию не отличаются (то есть тип условия не влияет на время реакций).\n",
        "\n",
        "**Н1:** между средними логарифмированного времени реакций в группах по условию есть различие (то есть тип условия влияет на время реакций).\n",
        "\n",
        "Здесь надо использовать однофакторную ANOVA с повторными измерениями, поскольку каждый участник читал предложения во всех трех условиях (то есть мы сравниваем одну и ту же группу участников несколько раз). У этого анализа существует несколько допущений:\n",
        "* непрерывность таргетной переменной **(выполнено, RTlog непрерывна)**\n",
        "* номинальность независимой (группирующей) переменной **(выполнено, WordOrder категориальна)**\n",
        "* гомогенность: дисперсия в группах должна быть ~ одинаковая **(будем проверять ниже при помощи теста Ливиня; UPD: проверено, дисперсия в группах одинакова)**\n",
        "* нормальность распределения остатков (ошибок, residuals) **(будем проверять ниже при помощи QQ-плота; UPD: остатки распределены нормально)**\n",
        "* гомогенность ковариации (сферичность): дисперсии разниц между условиями должны быть примерно одинаковыми **(будем проверять ниже при помощи теста Мочли; UPD: проверили, сферичность нарушена)**\n",
        "* отсутствие значимых выбросов **(выбросы были исключены на шаге 1.7)**\n"
      ],
      "metadata": {
        "id": "Z0vQkSFtJfwk"
      }
    },
    {
      "cell_type": "code",
      "source": [
        "# группировка данных\n",
        "group_inc <- mono1_incong_expelled %>%\n",
        "  group_by(ParticipantID, TypeOfStimuli) %>%\n",
        "  aggregate(RTlog ~ ParticipantID + TypeOfStimuli, mean)"
      ],
      "metadata": {
        "id": "Bmq9f9FeLzTx"
      },
      "execution_count": 70,
      "outputs": []
    },
    {
      "cell_type": "code",
      "source": [
        "# проверка на гомогенность дисперсий\n",
        "leveneTest(RTlog ~ TypeOfStimuli, data = group_inc)"
      ],
      "metadata": {
        "colab": {
          "base_uri": "https://localhost:8080/",
          "height": 160
        },
        "id": "OqkMCIvgUjLi",
        "outputId": "b2957038-593a-4066-c9ac-d4bfe17135f6"
      },
      "execution_count": 33,
      "outputs": [
        {
          "output_type": "display_data",
          "data": {
            "text/html": [
              "<table class=\"dataframe\">\n",
              "<caption>A anova: 2 × 3</caption>\n",
              "<thead>\n",
              "\t<tr><th></th><th scope=col>Df</th><th scope=col>F value</th><th scope=col>Pr(&gt;F)</th></tr>\n",
              "\t<tr><th></th><th scope=col>&lt;int&gt;</th><th scope=col>&lt;dbl&gt;</th><th scope=col>&lt;dbl&gt;</th></tr>\n",
              "</thead>\n",
              "<tbody>\n",
              "\t<tr><th scope=row>group</th><td>  2</td><td>2.063618</td><td>0.128481</td></tr>\n",
              "\t<tr><th scope=row> </th><td>363</td><td>      NA</td><td>      NA</td></tr>\n",
              "</tbody>\n",
              "</table>\n"
            ],
            "text/markdown": "\nA anova: 2 × 3\n\n| <!--/--> | Df &lt;int&gt; | F value &lt;dbl&gt; | Pr(&gt;F) &lt;dbl&gt; |\n|---|---|---|---|\n| group |   2 | 2.063618 | 0.128481 |\n| <!----> | 363 |       NA |       NA |\n\n",
            "text/latex": "A anova: 2 × 3\n\\begin{tabular}{r|lll}\n  & Df & F value & Pr(>F)\\\\\n  & <int> & <dbl> & <dbl>\\\\\n\\hline\n\tgroup &   2 & 2.063618 & 0.128481\\\\\n\t  & 363 &       NA &       NA\\\\\n\\end{tabular}\n",
            "text/plain": [
              "      Df  F value  Pr(>F)  \n",
              "group   2 2.063618 0.128481\n",
              "      363       NA       NA"
            ]
          },
          "metadata": {}
        }
      ]
    },
    {
      "cell_type": "markdown",
      "source": [
        "Мы можем принять нулевую гипотезу о равенстве дисперсий в группах (p-value = 0.128481, df = 2)."
      ],
      "metadata": {
        "id": "KwG9HNdjZZHC"
      }
    },
    {
      "cell_type": "code",
      "source": [
        "# проверка нормальности распределения остатков\n",
        "ggqqplot(group_inc, \"RTlog\", facet.by = \"TypeOfStimuli\")"
      ],
      "metadata": {
        "colab": {
          "base_uri": "https://localhost:8080/",
          "height": 437
        },
        "id": "QDsgqzIIsPrX",
        "outputId": "b58d760b-e01f-4255-aa53-eab819782f25"
      },
      "execution_count": 34,
      "outputs": [
        {
          "output_type": "display_data",
          "data": {
            "text/plain": [
              "plot without title"
            ],
            "image/png": "[encoded data removed]"
          },
          "metadata": {
            "image/png": {
              "width": 420,
              "height": 420
            }
          }
        }
      ]
    },
    {
      "cell_type": "markdown",
      "source": [
        "Визуально остатки распределены более-менее нормально."
      ],
      "metadata": {
        "id": "1fKKMUdStLQc"
      }
    },
    {
      "cell_type": "code",
      "source": [
        "# проверка на сферичность\n",
        "anova_test(data = group_inc,\n",
        "  dv = RTlog,\n",
        "  wid = ParticipantID,\n",
        "  within = TypeOfStimuli)"
      ],
      "metadata": {
        "colab": {
          "base_uri": "https://localhost:8080/",
          "height": 433
        },
        "id": "h4yH8N63cHFy",
        "outputId": "374313cf-e881-4596-cd7e-f62667a47079"
      },
      "execution_count": 35,
      "outputs": [
        {
          "output_type": "display_data",
          "data": {
            "text/html": [
              "<dl>\n",
              "\t<dt>$ANOVA</dt>\n",
              "\t\t<dd><table class=\"dataframe\">\n",
              "<caption>A data.frame: 1 × 7</caption>\n",
              "<thead>\n",
              "\t<tr><th scope=col>Effect</th><th scope=col>DFn</th><th scope=col>DFd</th><th scope=col>F</th><th scope=col>p</th><th scope=col>p&lt;.05</th><th scope=col>ges</th></tr>\n",
              "\t<tr><th scope=col>&lt;chr&gt;</th><th scope=col>&lt;dbl&gt;</th><th scope=col>&lt;dbl&gt;</th><th scope=col>&lt;dbl&gt;</th><th scope=col>&lt;dbl&gt;</th><th scope=col>&lt;chr&gt;</th><th scope=col>&lt;dbl&gt;</th></tr>\n",
              "</thead>\n",
              "<tbody>\n",
              "\t<tr><td>TypeOfStimuli</td><td>2</td><td>242</td><td>14.343</td><td>1.3e-06</td><td>*</td><td>0.025</td></tr>\n",
              "</tbody>\n",
              "</table>\n",
              "</dd>\n",
              "\t<dt>$`Mauchly's Test for Sphericity`</dt>\n",
              "\t\t<dd><table class=\"dataframe\">\n",
              "<caption>A data.frame: 1 × 4</caption>\n",
              "<thead>\n",
              "\t<tr><th></th><th scope=col>Effect</th><th scope=col>W</th><th scope=col>p</th><th scope=col>p&lt;.05</th></tr>\n",
              "\t<tr><th></th><th scope=col>&lt;chr&gt;</th><th scope=col>&lt;dbl&gt;</th><th scope=col>&lt;dbl&gt;</th><th scope=col>&lt;chr&gt;</th></tr>\n",
              "</thead>\n",
              "<tbody>\n",
              "\t<tr><th scope=row>1</th><td>TypeOfStimuli</td><td>0.929</td><td>0.012</td><td>*</td></tr>\n",
              "</tbody>\n",
              "</table>\n",
              "</dd>\n",
              "\t<dt>$`Sphericity Corrections`</dt>\n",
              "\t\t<dd><table class=\"dataframe\">\n",
              "<caption>A data.frame: 1 × 9</caption>\n",
              "<thead>\n",
              "\t<tr><th scope=col>Effect</th><th scope=col>GGe</th><th scope=col>DF[GG]</th><th scope=col>p[GG]</th><th scope=col>p[GG]&lt;.05</th><th scope=col>HFe</th><th scope=col>DF[HF]</th><th scope=col>p[HF]</th><th scope=col>p[HF]&lt;.05</th></tr>\n",
              "\t<tr><th scope=col>&lt;chr&gt;</th><th scope=col>&lt;dbl&gt;</th><th scope=col>&lt;chr&gt;</th><th scope=col>&lt;dbl&gt;</th><th scope=col>&lt;chr&gt;</th><th scope=col>&lt;dbl&gt;</th><th scope=col>&lt;chr&gt;</th><th scope=col>&lt;dbl&gt;</th><th scope=col>&lt;chr&gt;</th></tr>\n",
              "</thead>\n",
              "<tbody>\n",
              "\t<tr><td>TypeOfStimuli</td><td>0.933</td><td>1.87, 225.87</td><td>2.59e-06</td><td>*</td><td>0.947</td><td>1.89, 229.27</td><td>2.24e-06</td><td>*</td></tr>\n",
              "</tbody>\n",
              "</table>\n",
              "</dd>\n",
              "</dl>\n"
            ],
            "text/markdown": "$ANOVA\n:   \nA data.frame: 1 × 7\n\n| Effect &lt;chr&gt; | DFn &lt;dbl&gt; | DFd &lt;dbl&gt; | F &lt;dbl&gt; | p &lt;dbl&gt; | p&lt;.05 &lt;chr&gt; | ges &lt;dbl&gt; |\n|---|---|---|---|---|---|---|\n| TypeOfStimuli | 2 | 242 | 14.343 | 1.3e-06 | * | 0.025 |\n\n\n$`Mauchly's Test for Sphericity`\n:   \nA data.frame: 1 × 4\n\n| <!--/--> | Effect &lt;chr&gt; | W &lt;dbl&gt; | p &lt;dbl&gt; | p&lt;.05 &lt;chr&gt; |\n|---|---|---|---|---|\n| 1 | TypeOfStimuli | 0.929 | 0.012 | * |\n\n\n$`Sphericity Corrections`\n:   \nA data.frame: 1 × 9\n\n| Effect &lt;chr&gt; | GGe &lt;dbl&gt; | DF[GG] &lt;chr&gt; | p[GG] &lt;dbl&gt; | p[GG]&lt;.05 &lt;chr&gt; | HFe &lt;dbl&gt; | DF[HF] &lt;chr&gt; | p[HF] &lt;dbl&gt; | p[HF]&lt;.05 &lt;chr&gt; |\n|---|---|---|---|---|---|---|---|---|\n| TypeOfStimuli | 0.933 | 1.87, 225.87 | 2.59e-06 | * | 0.947 | 1.89, 229.27 | 2.24e-06 | * |\n\n\n\n\n",
            "text/latex": "\\begin{description}\n\\item[\\$ANOVA] A data.frame: 1 × 7\n\\begin{tabular}{lllllll}\n Effect & DFn & DFd & F & p & p<.05 & ges\\\\\n <chr> & <dbl> & <dbl> & <dbl> & <dbl> & <chr> & <dbl>\\\\\n\\hline\n\t TypeOfStimuli & 2 & 242 & 14.343 & 1.3e-06 & * & 0.025\\\\\n\\end{tabular}\n\n\\item[\\$`Mauchly's Test for Sphericity`] A data.frame: 1 × 4\n\\begin{tabular}{r|llll}\n  & Effect & W & p & p<.05\\\\\n  & <chr> & <dbl> & <dbl> & <chr>\\\\\n\\hline\n\t1 & TypeOfStimuli & 0.929 & 0.012 & *\\\\\n\\end{tabular}\n\n\\item[\\$`Sphericity Corrections`] A data.frame: 1 × 9\n\\begin{tabular}{lllllllll}\n Effect & GGe & DF{[}GG{]} & p{[}GG{]} & p{[}GG{]}<.05 & HFe & DF{[}HF{]} & p{[}HF{]} & p{[}HF{]}<.05\\\\\n <chr> & <dbl> & <chr> & <dbl> & <chr> & <dbl> & <chr> & <dbl> & <chr>\\\\\n\\hline\n\t TypeOfStimuli & 0.933 & 1.87, 225.87 & 2.59e-06 & * & 0.947 & 1.89, 229.27 & 2.24e-06 & *\\\\\n\\end{tabular}\n\n\\end{description}\n",
            "text/plain": [
              "ANOVA Table (type III tests)\n",
              "\n",
              "$ANOVA\n",
              "         Effect DFn DFd      F       p p<.05   ges\n",
              "1 TypeOfStimuli   2 242 14.343 1.3e-06     * 0.025\n",
              "\n",
              "$`Mauchly's Test for Sphericity`\n",
              "         Effect     W     p p<.05\n",
              "1 TypeOfStimuli 0.929 0.012     *\n",
              "\n",
              "$`Sphericity Corrections`\n",
              "         Effect   GGe       DF[GG]    p[GG] p[GG]<.05   HFe       DF[HF]\n",
              "1 TypeOfStimuli 0.933 1.87, 225.87 2.59e-06         * 0.947 1.89, 229.27\n",
              "     p[HF] p[HF]<.05\n",
              "1 2.24e-06         *\n"
            ]
          },
          "metadata": {}
        }
      ]
    },
    {
      "cell_type": "markdown",
      "source": [
        "Тест Мочли показал, что сферичность нарушена (p-value = 2.59e-06).\n",
        "\n",
        "В таком случае лучше использовать непараметрический аналог ANOVA, в нашем случае - тест Фридмана.\n"
      ],
      "metadata": {
        "id": "5UDm_Csnp0bo"
      }
    },
    {
      "cell_type": "code",
      "source": [
        "# кажется, в процессе у нас что-то поломалось, поэтому переделываю, чтобы работало\n",
        "group_inc$TypeOfStimuli <- factor(group_inc$TypeOfStimuli)\n",
        "group_inc$ParticipantID <- factor(group_inc$ParticipantID)\n",
        "\n",
        "friedman.test(RTlog ~ TypeOfStimuli | ParticipantID, data = dfdata)"
      ],
      "metadata": {
        "colab": {
          "base_uri": "https://localhost:8080/",
          "height": 109
        },
        "id": "YPBU1I02rZJg",
        "outputId": "d22dd439-a714-4e56-9736-cb1685c62811"
      },
      "execution_count": 73,
      "outputs": [
        {
          "output_type": "display_data",
          "data": {
            "text/plain": [
              "\n",
              "\tFriedman rank sum test\n",
              "\n",
              "data:  RTlog and TypeOfStimuli and ParticipantID\n",
              "Friedman chi-squared = 19.197, df = 2, p-value = 6.784e-05\n"
            ]
          },
          "metadata": {}
        }
      ]
    },
    {
      "cell_type": "markdown",
      "source": [
        "**Статистический вывод**\n",
        "\n",
        "Применив критерий Фридмана, мы не можем отвергнуть нулевую гипотезу о равенстве средних во всех трех группах на уровне значимости α = 0.05 (p-value = 6.784e-05, df = 2).\n",
        "\n",
        "**Содержательный вывод**\n",
        "\n",
        "Не наблюдается статистически значимой разницы во времени реакций на приемлемость порядка различных прилагательных при их неконгруэнтном порядке."
      ],
      "metadata": {
        "id": "pBKVbnfUuvhT"
      }
    },
    {
      "cell_type": "markdown",
      "source": [
        "### 1.10 Post-hoc тест\n",
        "\n",
        "Примените TukeyHSD тест, чтобы выяснить, какие конкретно пары условий TypeOfStimuli отличаются друг от друга по среднему значению RTlog.  \n",
        "Это задание, аналогично, выполняется только для ответов при порядке слов Incongruent."
      ],
      "metadata": {
        "id": "poyPenJAJnSi"
      }
    },
    {
      "cell_type": "markdown",
      "source": [
        "У меня возникла проблема, что TukeyHSD не пременяется для ANOVA с повторными измерениями (и ее непараметрических аналогов), но применяется для one-way ANOVA. Это может говорить о том, что я выбрала тест неправильно, но, поскольку тут у нас не несколько групп испытуемых в разных условиях, а одна и та же, в реальном исследовании я бы все еще делала бы тест Фридмана.\n",
        "\n",
        "Для выполнения данного задания я сделаю сейчас также one-way ANOVA со всеми выводами (отдельно замечу, что для этого у нас как раз выполняются все допущения, в отличие от ANOVA с повторными измерениями).\n",
        "\n",
        "Также я сделаю post-hoc тест для Фридмана, используя тест Данна."
      ],
      "metadata": {
        "id": "dVYsGGK4uRHv"
      }
    },
    {
      "cell_type": "markdown",
      "source": [
        "#### One-way ANOVA и TukeyHSD тест\n"
      ],
      "metadata": {
        "id": "NSWPxcJvvhmM"
      }
    },
    {
      "cell_type": "code",
      "source": [
        "one_way_anova <- anova_test(data = group_inc, dv = RTlog, between = TypeOfStimuli)\n",
        "one_way_anova"
      ],
      "metadata": {
        "id": "OQFkK8L_JgAM",
        "colab": {
          "base_uri": "https://localhost:8080/",
          "height": 129
        },
        "outputId": "7b0f3b2a-aa67-44fe-b342-298451fb54c1"
      },
      "execution_count": 78,
      "outputs": [
        {
          "output_type": "display_data",
          "data": {
            "text/html": [
              "<table class=\"dataframe\">\n",
              "<caption>A anova_test: 1 × 7</caption>\n",
              "<thead>\n",
              "\t<tr><th></th><th scope=col>Effect</th><th scope=col>DFn</th><th scope=col>DFd</th><th scope=col>F</th><th scope=col>p</th><th scope=col>p&lt;.05</th><th scope=col>ges</th></tr>\n",
              "\t<tr><th></th><th scope=col>&lt;chr&gt;</th><th scope=col>&lt;dbl&gt;</th><th scope=col>&lt;dbl&gt;</th><th scope=col>&lt;dbl&gt;</th><th scope=col>&lt;dbl&gt;</th><th scope=col>&lt;chr&gt;</th><th scope=col>&lt;dbl&gt;</th></tr>\n",
              "</thead>\n",
              "<tbody>\n",
              "\t<tr><th scope=row>1</th><td>TypeOfStimuli</td><td>2</td><td>363</td><td>4.743</td><td>0.009</td><td>*</td><td>0.025</td></tr>\n",
              "</tbody>\n",
              "</table>\n"
            ],
            "text/markdown": "\nA anova_test: 1 × 7\n\n| <!--/--> | Effect &lt;chr&gt; | DFn &lt;dbl&gt; | DFd &lt;dbl&gt; | F &lt;dbl&gt; | p &lt;dbl&gt; | p&lt;.05 &lt;chr&gt; | ges &lt;dbl&gt; |\n|---|---|---|---|---|---|---|---|\n| 1 | TypeOfStimuli | 2 | 363 | 4.743 | 0.009 | * | 0.025 |\n\n",
            "text/latex": "A anova\\_test: 1 × 7\n\\begin{tabular}{r|lllllll}\n  & Effect & DFn & DFd & F & p & p<.05 & ges\\\\\n  & <chr> & <dbl> & <dbl> & <dbl> & <dbl> & <chr> & <dbl>\\\\\n\\hline\n\t1 & TypeOfStimuli & 2 & 363 & 4.743 & 0.009 & * & 0.025\\\\\n\\end{tabular}\n",
            "text/plain": [
              "  Effect        DFn DFd F     p     p<.05 ges  \n",
              "1 TypeOfStimuli 2   363 4.743 0.009 *     0.025"
            ]
          },
          "metadata": {}
        }
      ]
    },
    {
      "cell_type": "markdown",
      "source": [
        "**Статистический вывод для one-way ANOVA**\n",
        "\n",
        "Мы можем отвергнуть нулевую гипотезу о равенстве средних во всех трех группах на уровне значимости α = 0.05 (p-value < 2.2e-16).\n",
        "\n",
        "**Содержательный вывод для one-way ANOVA**\n",
        "\n",
        "Наблюдается статистически значимая разница между временем реакций на приемлемость порядка различных прилагательных при их неконгруэнтном порядке. По этой причине, если бы данные были воспроизводимы для оригинального исследования, авторам пришлось бы проводить свой эксперимент заново, поскольку условия оказались неравнозначными.\n"
      ],
      "metadata": {
        "id": "10OWpYrIyLPQ"
      }
    },
    {
      "cell_type": "code",
      "source": [
        "model <- aov(group_inc$RTlog ~ group_inc$TypeOfStimuli)"
      ],
      "metadata": {
        "id": "nG5pHXCi0o3f"
      },
      "execution_count": 79,
      "outputs": []
    },
    {
      "cell_type": "code",
      "source": [
        "TukeyHSD(model)"
      ],
      "metadata": {
        "colab": {
          "base_uri": "https://localhost:8080/",
          "height": 275
        },
        "id": "LfnMs5p61YQb",
        "outputId": "20b943b9-89be-4000-ce1c-24e847e143e2"
      },
      "execution_count": 80,
      "outputs": [
        {
          "output_type": "display_data",
          "data": {
            "text/plain": [
              "  Tukey multiple comparisons of means\n",
              "    95% family-wise confidence level\n",
              "\n",
              "Fit: aov(formula = group_inc$RTlog ~ group_inc$TypeOfStimuli)\n",
              "\n",
              "$`group_inc$TypeOfStimuli`\n",
              "                                                   diff         lwr\n",
              "Shape-Color-Size-Nationality                 0.01339625 -0.03221907\n",
              "SubjectiveComment-Material-Size-Nationality -0.04368464 -0.08929996\n",
              "SubjectiveComment-Material-Shape-Color      -0.05708089 -0.10269621\n",
              "                                                     upr     p adj\n",
              "Shape-Color-Size-Nationality                 0.059011570 0.7688222\n",
              "SubjectiveComment-Material-Size-Nationality  0.001930679 0.0638238\n",
              "SubjectiveComment-Material-Shape-Color      -0.011465573 0.0096098\n"
            ]
          },
          "metadata": {}
        }
      ]
    },
    {
      "cell_type": "markdown",
      "source": [
        "#### Интерпретация post-hoc для one-way ANOVA"
      ],
      "metadata": {
        "id": "ZnA6Gx01w0gk"
      }
    },
    {
      "cell_type": "markdown",
      "source": [
        "```{txt 1.10a}\n",
        "1.10а ИНТЕРПРЕТАЦИЯ POST-HOC ТЕСТА\n",
        "```\n",
        "Post-hoc тест Тьюки показал, что есть статистически значимая разница между средними выборок `SubjectiveComment-Material` и `Shape-Color` (p-value = 0.0096098).\n",
        "\n",
        "Между группами `Shape-Color`  и `Size-Nationality` (p-value = 0.7688222); `SubjectiveComment-Material` и `Size-Nationality` статистически значимой разницы в средних не наблюдается (p-value = 0.0638238)."
      ],
      "metadata": {
        "id": "KgFeJHhKJsjn"
      }
    },
    {
      "cell_type": "markdown",
      "source": [
        "#### Фридман и тест Данна\n",
        "\n"
      ],
      "metadata": {
        "id": "RJ5tWssDwVAz"
      }
    },
    {
      "cell_type": "code",
      "source": [
        "dunnTest(RTlog ~ TypeOfStimuli, method = \"bonferroni\", data = group_inc)"
      ],
      "metadata": {
        "colab": {
          "base_uri": "https://localhost:8080/",
          "height": 256
        },
        "id": "JImGc9aPJpQB",
        "outputId": "4312fc63-4c64-49ad-b693-3e3c41cf1423"
      },
      "execution_count": 90,
      "outputs": [
        {
          "output_type": "stream",
          "name": "stderr",
          "text": [
            "Dunn (1964) Kruskal-Wallis multiple comparison\n",
            "\n",
            "  p-values adjusted with the Bonferroni method.\n",
            "\n",
            "\n"
          ]
        },
        {
          "output_type": "display_data",
          "data": {
            "text/plain": [
              "                                     Comparison         Z     P.unadj\n",
              "1                Shape-Color - Size-Nationality 0.7424491 0.457815267\n",
              "2      Shape-Color - SubjectiveComment-Material 2.7737464 0.005541487\n",
              "3 Size-Nationality - SubjectiveComment-Material 2.0312972 0.042224852\n",
              "       P.adj\n",
              "1 1.00000000\n",
              "2 0.01662446\n",
              "3 0.12667456"
            ]
          },
          "metadata": {}
        }
      ]
    },
    {
      "cell_type": "markdown",
      "source": [
        "#### Интерпретация post-hoc для Фридмана"
      ],
      "metadata": {
        "id": "cBhcTc1Rw7lH"
      }
    },
    {
      "cell_type": "markdown",
      "source": [
        "```{txt 1.10a}\n",
        "1.10а ИНТЕРПРЕТАЦИЯ POST-HOC ТЕСТА\n",
        "```\n",
        "Post-hoc тест Данна показал, что есть статистически значимая разница между средними выборок `Shape-Color` и `SubjectiveComment-Material` (p-value = 0.005541487); `SubjectiveComment-Material` и `Size-Nationality` (p-value = 0.042224852).\n",
        "\n",
        "Между группами `Shape-Color`  и `Size-Nationality`статистически значимой разницы в средних не наблюдается (p-value = 0.457815267)."
      ],
      "metadata": {
        "id": "saNxcAIrxD_s"
      }
    }
  ]
}