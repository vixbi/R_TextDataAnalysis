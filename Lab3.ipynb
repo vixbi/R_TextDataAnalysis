{
  "nbformat": 4,
  "nbformat_minor": 0,
  "metadata": {
    "colab": {
      "provenance": [],
      "authorship_tag": "ABX9TyN3iEJ2GnGsTCnwi/LKIUkF"
    },
    "kernelspec": {
      "name": "ir",
      "display_name": "R"
    },
    "language_info": {
      "name": "R"
    }
  },
  "cells": [
    {
      "cell_type": "code",
      "source": [
        "knitr::opts_chunk$set(echo = TRUE)"
      ],
      "metadata": {
        "id": "5CaXzSmiGeK-"
      },
      "execution_count": 2,
      "outputs": []
    },
    {
      "cell_type": "code",
      "execution_count": 6,
      "metadata": {
        "colab": {
          "base_uri": "https://localhost:8080/"
        },
        "id": "f44Hvd0cGTUG",
        "outputId": "efe88a70-c20b-4132-8f19-bc08647f7463"
      },
      "outputs": [
        {
          "output_type": "stream",
          "name": "stderr",
          "text": [
            "\u001b[1m\u001b[22mNew names:\n",
            "\u001b[36m•\u001b[39m `` -> `...1`\n",
            "Warning message:\n",
            "“\u001b[1m\u001b[22mOne or more parsing issues, call `problems()` on your data frame for details,\n",
            "e.g.:\n",
            "  dat <- vroom(...)\n",
            "  problems(dat)”\n",
            "\u001b[1mRows: \u001b[22m\u001b[34m734\u001b[39m \u001b[1mColumns: \u001b[22m\u001b[34m11\u001b[39m\n",
            "\u001b[36m──\u001b[39m \u001b[1mColumn specification\u001b[22m \u001b[36m────────────────────────────────────────────────────────\u001b[39m\n",
            "\u001b[1mDelimiter:\u001b[22m \",\"\n",
            "\u001b[31mchr\u001b[39m (8): name, Gender, Eye color, Race, Hair color, Publisher, Skin color, A...\n",
            "\u001b[32mdbl\u001b[39m (3): ...1, Height, Weight\n",
            "\n",
            "\u001b[36mℹ\u001b[39m Use `spec()` to retrieve the full column specification for this data.\n",
            "\u001b[36mℹ\u001b[39m Specify the column types or set `show_col_types = FALSE` to quiet this message.\n",
            "\u001b[1mRows: \u001b[22m\u001b[34m667\u001b[39m \u001b[1mColumns: \u001b[22m\u001b[34m168\u001b[39m\n",
            "\u001b[36m──\u001b[39m \u001b[1mColumn specification\u001b[22m \u001b[36m────────────────────────────────────────────────────────\u001b[39m\n",
            "\u001b[1mDelimiter:\u001b[22m \",\"\n",
            "\u001b[31mchr\u001b[39m   (1): hero_names\n",
            "\u001b[33mlgl\u001b[39m (167): Agility, Accelerated Healing, Lantern Power Ring, Dimensional Awa...\n",
            "\n",
            "\u001b[36mℹ\u001b[39m Use `spec()` to retrieve the full column specification for this data.\n",
            "\u001b[36mℹ\u001b[39m Specify the column types or set `show_col_types = FALSE` to quiet this message.\n"
          ]
        },
        {
          "output_type": "stream",
          "name": "stdout",
          "text": [
            "spc_tbl_ [734 × 11] (S3: spec_tbl_df/tbl_df/tbl/data.frame)\n",
            " $ ...1      : num [1:734] 0 1 2 3 4 5 6 7 8 9 ...\n",
            " $ name      : chr [1:734] \"A-Bomb\" \"Abe Sapien\" \"Abin Sur\" \"Abomination\" ...\n",
            " $ Gender    : chr [1:734] \"Male\" \"Male\" \"Male\" \"Male\" ...\n",
            " $ Eye color : chr [1:734] \"yellow\" \"blue\" \"blue\" \"green\" ...\n",
            " $ Race      : chr [1:734] \"Human\" \"Icthyo Sapien\" \"Ungaran\" \"Human / Radiation\" ...\n",
            " $ Hair color: chr [1:734] \"No Hair\" \"No Hair\" \"No Hair\" \"No Hair\" ...\n",
            " $ Height    : num [1:734] 203 191 185 203 NA 193 NA 185 173 178 ...\n",
            " $ Publisher : chr [1:734] \"Marvel Comics\" \"Dark Horse Comics\" \"DC Comics\" \"Marvel Comics\" ...\n",
            " $ Skin color: chr [1:734] NA \"blue\" \"red\" NA ...\n",
            " $ Alignment : chr [1:734] \"good\" \"good\" \"good\" \"bad\" ...\n",
            " $ Weight    : num [1:734] 441 65 90 441 NA 122 NA 88 61 81 ...\n",
            " - attr(*, \"spec\")=\n",
            "  .. cols(\n",
            "  ..   ...1 = \u001b[32mcol_double()\u001b[39m,\n",
            "  ..   name = \u001b[31mcol_character()\u001b[39m,\n",
            "  ..   Gender = \u001b[31mcol_character()\u001b[39m,\n",
            "  ..   `Eye color` = \u001b[31mcol_character()\u001b[39m,\n",
            "  ..   Race = \u001b[31mcol_character()\u001b[39m,\n",
            "  ..   `Hair color` = \u001b[31mcol_character()\u001b[39m,\n",
            "  ..   Height = \u001b[32mcol_double()\u001b[39m,\n",
            "  ..   Publisher = \u001b[31mcol_character()\u001b[39m,\n",
            "  ..   `Skin color` = \u001b[31mcol_character()\u001b[39m,\n",
            "  ..   Alignment = \u001b[31mcol_character()\u001b[39m,\n",
            "  ..   Weight = \u001b[32mcol_double()\u001b[39m\n",
            "  .. )\n",
            " - attr(*, \"problems\")=<externalptr> \n"
          ]
        }
      ],
      "source": [
        "library(\"tidyverse\")\n",
        "heroes <- read_csv(\"https://raw.githubusercontent.com/Pozdniakov/tidy_stats/master/data/heroes_information.csv\",\n",
        "                   na = c(\"-\", \"-99\"))\n",
        "powers <- read_csv(\"https://raw.githubusercontent.com/Pozdniakov/tidy_stats/master/data/super_hero_powers.csv\")\n",
        "str(heroes)"
      ]
    },
    {
      "cell_type": "markdown",
      "source": [
        "## Unique values\n",
        "С помощью функции distinct() выведите уникальные значения по колонке Eye color."
      ],
      "metadata": {
        "id": "RgXFCveHGmKV"
      }
    },
    {
      "cell_type": "code",
      "source": [
        "distinct(heroes, `Eye color`)"
      ],
      "metadata": {
        "colab": {
          "base_uri": "https://localhost:8080/",
          "height": 819
        },
        "id": "P0pYSdTmGlxm",
        "outputId": "98ba6aee-aa2e-4fee-d04b-39e7b3b6f903"
      },
      "execution_count": 5,
      "outputs": [
        {
          "output_type": "display_data",
          "data": {
            "text/html": [
              "<table class=\"dataframe\">\n",
              "<caption>A tibble: 23 × 1</caption>\n",
              "<thead>\n",
              "\t<tr><th scope=col>Eye color</th></tr>\n",
              "\t<tr><th scope=col>&lt;chr&gt;</th></tr>\n",
              "</thead>\n",
              "<tbody>\n",
              "\t<tr><td>yellow                 </td></tr>\n",
              "\t<tr><td>blue                   </td></tr>\n",
              "\t<tr><td>green                  </td></tr>\n",
              "\t<tr><td>brown                  </td></tr>\n",
              "\t<tr><td>NA                     </td></tr>\n",
              "\t<tr><td>red                    </td></tr>\n",
              "\t<tr><td>violet                 </td></tr>\n",
              "\t<tr><td>white                  </td></tr>\n",
              "\t<tr><td>purple                 </td></tr>\n",
              "\t<tr><td>black                  </td></tr>\n",
              "\t<tr><td>grey                   </td></tr>\n",
              "\t<tr><td>silver                 </td></tr>\n",
              "\t<tr><td>yellow / red           </td></tr>\n",
              "\t<tr><td>yellow (without irises)</td></tr>\n",
              "\t<tr><td>gold                   </td></tr>\n",
              "\t<tr><td>blue / white           </td></tr>\n",
              "\t<tr><td>hazel                  </td></tr>\n",
              "\t<tr><td>green / blue           </td></tr>\n",
              "\t<tr><td>white / red            </td></tr>\n",
              "\t<tr><td>indigo                 </td></tr>\n",
              "\t<tr><td>amber                  </td></tr>\n",
              "\t<tr><td>yellow / blue          </td></tr>\n",
              "\t<tr><td>bown                   </td></tr>\n",
              "</tbody>\n",
              "</table>\n"
            ],
            "text/markdown": "\nA tibble: 23 × 1\n\n| Eye color &lt;chr&gt; |\n|---|\n| yellow                  |\n| blue                    |\n| green                   |\n| brown                   |\n| NA                      |\n| red                     |\n| violet                  |\n| white                   |\n| purple                  |\n| black                   |\n| grey                    |\n| silver                  |\n| yellow / red            |\n| yellow (without irises) |\n| gold                    |\n| blue / white            |\n| hazel                   |\n| green / blue            |\n| white / red             |\n| indigo                  |\n| amber                   |\n| yellow / blue           |\n| bown                    |\n\n",
            "text/latex": "A tibble: 23 × 1\n\\begin{tabular}{l}\n Eye color\\\\\n <chr>\\\\\n\\hline\n\t yellow                 \\\\\n\t blue                   \\\\\n\t green                  \\\\\n\t brown                  \\\\\n\t NA                     \\\\\n\t red                    \\\\\n\t violet                 \\\\\n\t white                  \\\\\n\t purple                 \\\\\n\t black                  \\\\\n\t grey                   \\\\\n\t silver                 \\\\\n\t yellow / red           \\\\\n\t yellow (without irises)\\\\\n\t gold                   \\\\\n\t blue / white           \\\\\n\t hazel                  \\\\\n\t green / blue           \\\\\n\t white / red            \\\\\n\t indigo                 \\\\\n\t amber                  \\\\\n\t yellow / blue          \\\\\n\t bown                   \\\\\n\\end{tabular}\n",
            "text/plain": [
              "   Eye color              \n",
              "1  yellow                 \n",
              "2  blue                   \n",
              "3  green                  \n",
              "4  brown                  \n",
              "5  NA                     \n",
              "6  red                    \n",
              "7  violet                 \n",
              "8  white                  \n",
              "9  purple                 \n",
              "10 black                  \n",
              "11 grey                   \n",
              "12 silver                 \n",
              "13 yellow / red           \n",
              "14 yellow (without irises)\n",
              "15 gold                   \n",
              "16 blue / white           \n",
              "17 hazel                  \n",
              "18 green / blue           \n",
              "19 white / red            \n",
              "20 indigo                 \n",
              "21 amber                  \n",
              "22 yellow / blue          \n",
              "23 bown                   "
            ]
          },
          "metadata": {}
        }
      ]
    },
    {
      "cell_type": "markdown",
      "source": [
        "## Summarize\n",
        "\n",
        "В датасете `heroes` посчитайте средний рост по полу."
      ],
      "metadata": {
        "id": "wrgNCffRG6U-"
      }
    },
    {
      "cell_type": "code",
      "source": [
        "heroes %>%\n",
        "  filter(!is.na(Gender)) %>%\n",
        "  group_by(Gender) %>%\n",
        "  summarize(mean_height = mean(Height, na.rm = T))"
      ],
      "metadata": {
        "colab": {
          "base_uri": "https://localhost:8080/",
          "height": 160
        },
        "id": "_5UdiZulG93Z",
        "outputId": "71780872-d0ec-4861-9f0e-f4c03b230d62"
      },
      "execution_count": 13,
      "outputs": [
        {
          "output_type": "display_data",
          "data": {
            "text/html": [
              "<table class=\"dataframe\">\n",
              "<caption>A tibble: 2 × 2</caption>\n",
              "<thead>\n",
              "\t<tr><th scope=col>Gender</th><th scope=col>mean_height</th></tr>\n",
              "\t<tr><th scope=col>&lt;chr&gt;</th><th scope=col>&lt;dbl&gt;</th></tr>\n",
              "</thead>\n",
              "<tbody>\n",
              "\t<tr><td>Female</td><td>174.6840</td></tr>\n",
              "\t<tr><td>Male  </td><td>191.9749</td></tr>\n",
              "</tbody>\n",
              "</table>\n"
            ],
            "text/markdown": "\nA tibble: 2 × 2\n\n| Gender &lt;chr&gt; | mean_height &lt;dbl&gt; |\n|---|---|\n| Female | 174.6840 |\n| Male   | 191.9749 |\n\n",
            "text/latex": "A tibble: 2 × 2\n\\begin{tabular}{ll}\n Gender & mean\\_height\\\\\n <chr> & <dbl>\\\\\n\\hline\n\t Female & 174.6840\\\\\n\t Male   & 191.9749\\\\\n\\end{tabular}\n",
            "text/plain": [
              "  Gender mean_height\n",
              "1 Female 174.6840   \n",
              "2 Male   191.9749   "
            ]
          },
          "metadata": {}
        }
      ]
    },
    {
      "cell_type": "code",
      "source": [
        "# без исключения NA из Gender\n",
        "heroes %>%\n",
        "  group_by(Gender) %>%\n",
        "  summarize(mean_height = mean(Height, na.rm = T))"
      ],
      "metadata": {
        "colab": {
          "base_uri": "https://localhost:8080/",
          "height": 192
        },
        "id": "crkhwJyLIQzG",
        "outputId": "4fd2fbcb-6a0f-4bc4-a5c9-adbfb4cec61b"
      },
      "execution_count": 15,
      "outputs": [
        {
          "output_type": "display_data",
          "data": {
            "text/html": [
              "<table class=\"dataframe\">\n",
              "<caption>A tibble: 3 × 2</caption>\n",
              "<thead>\n",
              "\t<tr><th scope=col>Gender</th><th scope=col>mean_height</th></tr>\n",
              "\t<tr><th scope=col>&lt;chr&gt;</th><th scope=col>&lt;dbl&gt;</th></tr>\n",
              "</thead>\n",
              "<tbody>\n",
              "\t<tr><td>Female</td><td>174.6840</td></tr>\n",
              "\t<tr><td>Male  </td><td>191.9749</td></tr>\n",
              "\t<tr><td>NA    </td><td>177.0667</td></tr>\n",
              "</tbody>\n",
              "</table>\n"
            ],
            "text/markdown": "\nA tibble: 3 × 2\n\n| Gender &lt;chr&gt; | mean_height &lt;dbl&gt; |\n|---|---|\n| Female | 174.6840 |\n| Male   | 191.9749 |\n| NA     | 177.0667 |\n\n",
            "text/latex": "A tibble: 3 × 2\n\\begin{tabular}{ll}\n Gender & mean\\_height\\\\\n <chr> & <dbl>\\\\\n\\hline\n\t Female & 174.6840\\\\\n\t Male   & 191.9749\\\\\n\t NA     & 177.0667\\\\\n\\end{tabular}\n",
            "text/plain": [
              "  Gender mean_height\n",
              "1 Female 174.6840   \n",
              "2 Male   191.9749   \n",
              "3 NA     177.0667   "
            ]
          },
          "metadata": {}
        }
      ]
    },
    {
      "cell_type": "markdown",
      "source": [
        "## Join\n",
        "\n",
        "Создайте тиббл web_creators, в котором будут супергерои, которые могут плести паутину, т.е. у них стоит TRUE в колонке Web Creation в тиббле powers."
      ],
      "metadata": {
        "id": "KSjunnnXIbwo"
      }
    },
    {
      "cell_type": "code",
      "source": [
        "web_creators <- powers %>%\n",
        "  filter(`Web Creation` == T)\n",
        "head(web_creators)"
      ],
      "metadata": {
        "colab": {
          "base_uri": "https://localhost:8080/",
          "height": 340
        },
        "id": "01x9IFgiIaP3",
        "outputId": "83fb42a1-ab21-4a49-ad84-00ded49b468b"
      },
      "execution_count": 26,
      "outputs": [
        {
          "output_type": "display_data",
          "data": {
            "text/html": [
              "<table class=\"dataframe\">\n",
              "<caption>A tibble: 6 × 168</caption>\n",
              "<thead>\n",
              "\t<tr><th scope=col>hero_names</th><th scope=col>Agility</th><th scope=col>Accelerated Healing</th><th scope=col>Lantern Power Ring</th><th scope=col>Dimensional Awareness</th><th scope=col>Cold Resistance</th><th scope=col>Durability</th><th scope=col>Stealth</th><th scope=col>Energy Absorption</th><th scope=col>Flight</th><th scope=col>⋯</th><th scope=col>Web Creation</th><th scope=col>Reality Warping</th><th scope=col>Odin Force</th><th scope=col>Symbiote Costume</th><th scope=col>Speed Force</th><th scope=col>Phoenix Force</th><th scope=col>Molecular Dissipation</th><th scope=col>Vision - Cryo</th><th scope=col>Omnipresent</th><th scope=col>Omniscient</th></tr>\n",
              "\t<tr><th scope=col>&lt;chr&gt;</th><th scope=col>&lt;lgl&gt;</th><th scope=col>&lt;lgl&gt;</th><th scope=col>&lt;lgl&gt;</th><th scope=col>&lt;lgl&gt;</th><th scope=col>&lt;lgl&gt;</th><th scope=col>&lt;lgl&gt;</th><th scope=col>&lt;lgl&gt;</th><th scope=col>&lt;lgl&gt;</th><th scope=col>&lt;lgl&gt;</th><th scope=col>⋯</th><th scope=col>&lt;lgl&gt;</th><th scope=col>&lt;lgl&gt;</th><th scope=col>&lt;lgl&gt;</th><th scope=col>&lt;lgl&gt;</th><th scope=col>&lt;lgl&gt;</th><th scope=col>&lt;lgl&gt;</th><th scope=col>&lt;lgl&gt;</th><th scope=col>&lt;lgl&gt;</th><th scope=col>&lt;lgl&gt;</th><th scope=col>&lt;lgl&gt;</th></tr>\n",
              "</thead>\n",
              "<tbody>\n",
              "\t<tr><td>Anti-Venom </td><td>FALSE</td><td> TRUE</td><td>FALSE</td><td>FALSE</td><td>FALSE</td><td> TRUE</td><td>FALSE</td><td>FALSE</td><td>FALSE</td><td>⋯</td><td>TRUE</td><td>FALSE</td><td>FALSE</td><td> TRUE</td><td>FALSE</td><td>FALSE</td><td>FALSE</td><td>FALSE</td><td>FALSE</td><td>FALSE</td></tr>\n",
              "\t<tr><td>Arachne    </td><td> TRUE</td><td> TRUE</td><td>FALSE</td><td>FALSE</td><td>FALSE</td><td> TRUE</td><td>FALSE</td><td>FALSE</td><td>FALSE</td><td>⋯</td><td>TRUE</td><td>FALSE</td><td>FALSE</td><td>FALSE</td><td>FALSE</td><td>FALSE</td><td>FALSE</td><td>FALSE</td><td>FALSE</td><td>FALSE</td></tr>\n",
              "\t<tr><td>Carnage    </td><td> TRUE</td><td> TRUE</td><td>FALSE</td><td>FALSE</td><td>FALSE</td><td> TRUE</td><td>FALSE</td><td>FALSE</td><td>FALSE</td><td>⋯</td><td>TRUE</td><td>FALSE</td><td>FALSE</td><td> TRUE</td><td>FALSE</td><td>FALSE</td><td>FALSE</td><td>FALSE</td><td>FALSE</td><td>FALSE</td></tr>\n",
              "\t<tr><td>Hellgramite</td><td>FALSE</td><td>FALSE</td><td>FALSE</td><td>FALSE</td><td>FALSE</td><td> TRUE</td><td>FALSE</td><td>FALSE</td><td>FALSE</td><td>⋯</td><td>TRUE</td><td>FALSE</td><td>FALSE</td><td>FALSE</td><td>FALSE</td><td>FALSE</td><td>FALSE</td><td>FALSE</td><td>FALSE</td><td>FALSE</td></tr>\n",
              "\t<tr><td>Hybrid     </td><td> TRUE</td><td> TRUE</td><td>FALSE</td><td>FALSE</td><td>FALSE</td><td> TRUE</td><td> TRUE</td><td>FALSE</td><td> TRUE</td><td>⋯</td><td>TRUE</td><td>FALSE</td><td>FALSE</td><td> TRUE</td><td>FALSE</td><td>FALSE</td><td>FALSE</td><td>FALSE</td><td>FALSE</td><td>FALSE</td></tr>\n",
              "\t<tr><td>Mysterio   </td><td>FALSE</td><td>FALSE</td><td>FALSE</td><td>FALSE</td><td>FALSE</td><td>FALSE</td><td>FALSE</td><td>FALSE</td><td>FALSE</td><td>⋯</td><td>TRUE</td><td>FALSE</td><td>FALSE</td><td>FALSE</td><td>FALSE</td><td>FALSE</td><td>FALSE</td><td>FALSE</td><td>FALSE</td><td>FALSE</td></tr>\n",
              "</tbody>\n",
              "</table>\n"
            ],
            "text/markdown": "\nA tibble: 6 × 168\n\n| hero_names &lt;chr&gt; | Agility &lt;lgl&gt; | Accelerated Healing &lt;lgl&gt; | Lantern Power Ring &lt;lgl&gt; | Dimensional Awareness &lt;lgl&gt; | Cold Resistance &lt;lgl&gt; | Durability &lt;lgl&gt; | Stealth &lt;lgl&gt; | Energy Absorption &lt;lgl&gt; | Flight &lt;lgl&gt; | ⋯ ⋯ | Web Creation &lt;lgl&gt; | Reality Warping &lt;lgl&gt; | Odin Force &lt;lgl&gt; | Symbiote Costume &lt;lgl&gt; | Speed Force &lt;lgl&gt; | Phoenix Force &lt;lgl&gt; | Molecular Dissipation &lt;lgl&gt; | Vision - Cryo &lt;lgl&gt; | Omnipresent &lt;lgl&gt; | Omniscient &lt;lgl&gt; |\n|---|---|---|---|---|---|---|---|---|---|---|---|---|---|---|---|---|---|---|---|---|\n| Anti-Venom  | FALSE |  TRUE | FALSE | FALSE | FALSE |  TRUE | FALSE | FALSE | FALSE | ⋯ | TRUE | FALSE | FALSE |  TRUE | FALSE | FALSE | FALSE | FALSE | FALSE | FALSE |\n| Arachne     |  TRUE |  TRUE | FALSE | FALSE | FALSE |  TRUE | FALSE | FALSE | FALSE | ⋯ | TRUE | FALSE | FALSE | FALSE | FALSE | FALSE | FALSE | FALSE | FALSE | FALSE |\n| Carnage     |  TRUE |  TRUE | FALSE | FALSE | FALSE |  TRUE | FALSE | FALSE | FALSE | ⋯ | TRUE | FALSE | FALSE |  TRUE | FALSE | FALSE | FALSE | FALSE | FALSE | FALSE |\n| Hellgramite | FALSE | FALSE | FALSE | FALSE | FALSE |  TRUE | FALSE | FALSE | FALSE | ⋯ | TRUE | FALSE | FALSE | FALSE | FALSE | FALSE | FALSE | FALSE | FALSE | FALSE |\n| Hybrid      |  TRUE |  TRUE | FALSE | FALSE | FALSE |  TRUE |  TRUE | FALSE |  TRUE | ⋯ | TRUE | FALSE | FALSE |  TRUE | FALSE | FALSE | FALSE | FALSE | FALSE | FALSE |\n| Mysterio    | FALSE | FALSE | FALSE | FALSE | FALSE | FALSE | FALSE | FALSE | FALSE | ⋯ | TRUE | FALSE | FALSE | FALSE | FALSE | FALSE | FALSE | FALSE | FALSE | FALSE |\n\n",
            "text/latex": "A tibble: 6 × 168\n\\begin{tabular}{lllllllllllllllllllll}\n hero\\_names & Agility & Accelerated Healing & Lantern Power Ring & Dimensional Awareness & Cold Resistance & Durability & Stealth & Energy Absorption & Flight & ⋯ & Web Creation & Reality Warping & Odin Force & Symbiote Costume & Speed Force & Phoenix Force & Molecular Dissipation & Vision - Cryo & Omnipresent & Omniscient\\\\\n <chr> & <lgl> & <lgl> & <lgl> & <lgl> & <lgl> & <lgl> & <lgl> & <lgl> & <lgl> & ⋯ & <lgl> & <lgl> & <lgl> & <lgl> & <lgl> & <lgl> & <lgl> & <lgl> & <lgl> & <lgl>\\\\\n\\hline\n\t Anti-Venom  & FALSE &  TRUE & FALSE & FALSE & FALSE &  TRUE & FALSE & FALSE & FALSE & ⋯ & TRUE & FALSE & FALSE &  TRUE & FALSE & FALSE & FALSE & FALSE & FALSE & FALSE\\\\\n\t Arachne     &  TRUE &  TRUE & FALSE & FALSE & FALSE &  TRUE & FALSE & FALSE & FALSE & ⋯ & TRUE & FALSE & FALSE & FALSE & FALSE & FALSE & FALSE & FALSE & FALSE & FALSE\\\\\n\t Carnage     &  TRUE &  TRUE & FALSE & FALSE & FALSE &  TRUE & FALSE & FALSE & FALSE & ⋯ & TRUE & FALSE & FALSE &  TRUE & FALSE & FALSE & FALSE & FALSE & FALSE & FALSE\\\\\n\t Hellgramite & FALSE & FALSE & FALSE & FALSE & FALSE &  TRUE & FALSE & FALSE & FALSE & ⋯ & TRUE & FALSE & FALSE & FALSE & FALSE & FALSE & FALSE & FALSE & FALSE & FALSE\\\\\n\t Hybrid      &  TRUE &  TRUE & FALSE & FALSE & FALSE &  TRUE &  TRUE & FALSE &  TRUE & ⋯ & TRUE & FALSE & FALSE &  TRUE & FALSE & FALSE & FALSE & FALSE & FALSE & FALSE\\\\\n\t Mysterio    & FALSE & FALSE & FALSE & FALSE & FALSE & FALSE & FALSE & FALSE & FALSE & ⋯ & TRUE & FALSE & FALSE & FALSE & FALSE & FALSE & FALSE & FALSE & FALSE & FALSE\\\\\n\\end{tabular}\n",
            "text/plain": [
              "  hero_names  Agility Accelerated Healing Lantern Power Ring\n",
              "1 Anti-Venom  FALSE    TRUE               FALSE             \n",
              "2 Arachne      TRUE    TRUE               FALSE             \n",
              "3 Carnage      TRUE    TRUE               FALSE             \n",
              "4 Hellgramite FALSE   FALSE               FALSE             \n",
              "5 Hybrid       TRUE    TRUE               FALSE             \n",
              "6 Mysterio    FALSE   FALSE               FALSE             \n",
              "  Dimensional Awareness Cold Resistance Durability Stealth Energy Absorption\n",
              "1 FALSE                 FALSE            TRUE      FALSE   FALSE            \n",
              "2 FALSE                 FALSE            TRUE      FALSE   FALSE            \n",
              "3 FALSE                 FALSE            TRUE      FALSE   FALSE            \n",
              "4 FALSE                 FALSE            TRUE      FALSE   FALSE            \n",
              "5 FALSE                 FALSE            TRUE       TRUE   FALSE            \n",
              "6 FALSE                 FALSE           FALSE      FALSE   FALSE            \n",
              "  Flight ⋯ Web Creation Reality Warping Odin Force Symbiote Costume Speed Force\n",
              "1 FALSE  ⋯ TRUE         FALSE           FALSE       TRUE            FALSE      \n",
              "2 FALSE  ⋯ TRUE         FALSE           FALSE      FALSE            FALSE      \n",
              "3 FALSE  ⋯ TRUE         FALSE           FALSE       TRUE            FALSE      \n",
              "4 FALSE  ⋯ TRUE         FALSE           FALSE      FALSE            FALSE      \n",
              "5  TRUE  ⋯ TRUE         FALSE           FALSE       TRUE            FALSE      \n",
              "6 FALSE  ⋯ TRUE         FALSE           FALSE      FALSE            FALSE      \n",
              "  Phoenix Force Molecular Dissipation Vision - Cryo Omnipresent Omniscient\n",
              "1 FALSE         FALSE                 FALSE         FALSE       FALSE     \n",
              "2 FALSE         FALSE                 FALSE         FALSE       FALSE     \n",
              "3 FALSE         FALSE                 FALSE         FALSE       FALSE     \n",
              "4 FALSE         FALSE                 FALSE         FALSE       FALSE     \n",
              "5 FALSE         FALSE                 FALSE         FALSE       FALSE     \n",
              "6 FALSE         FALSE                 FALSE         FALSE       FALSE     "
            ]
          },
          "metadata": {}
        }
      ]
    },
    {
      "cell_type": "markdown",
      "source": [
        "Найдите всех супергероев, которые присутствуют в heroes, но отсутствуют в powers. Ответом должен быть строковый вектор с именами супергероев."
      ],
      "metadata": {
        "id": "jdVz5X-eJYHR"
      }
    },
    {
      "cell_type": "code",
      "source": [
        "# переименуем колонку в powers\n",
        "names(powers)[names(powers) == \"hero_names\"] <- \"name\"\n",
        "\n",
        "names <- heroes %>%\n",
        "  left_join(powers, by = c(\"name\" = \"name\")) %>%\n",
        "  select(name)\n",
        "\n",
        "names <- names$name\n",
        "names"
      ],
      "metadata": {
        "colab": {
          "base_uri": "https://localhost:8080/",
          "height": 486
        },
        "collapsed": true,
        "id": "TmiS91GbJXn3",
        "outputId": "587e551c-e04a-4c80-eb87-724c135e05fa"
      },
      "execution_count": 44,
      "outputs": [
        {
          "output_type": "display_data",
          "data": {
            "text/html": [
              "<style>\n",
              ".list-inline {list-style: none; margin:0; padding: 0}\n",
              ".list-inline>li {display: inline-block}\n",
              ".list-inline>li:not(:last-child)::after {content: \"\\00b7\"; padding: 0 .5ex}\n",
              "</style>\n",
              "<ol class=list-inline><li>'A-Bomb'</li><li>'Abe Sapien'</li><li>'Abin Sur'</li><li>'Abomination'</li><li>'Abraxas'</li><li>'Absorbing Man'</li><li>'Adam Monroe'</li><li>'Adam Strange'</li><li>'Agent 13'</li><li>'Agent Bob'</li><li>'Agent Zero'</li><li>'Air-Walker'</li><li>'Ajax'</li><li>'Alan Scott'</li><li>'Alex Mercer'</li><li>'Alex Woolsly'</li><li>'Alfred Pennyworth'</li><li>'Alien'</li><li>'Allan Quatermain'</li><li>'Amazo'</li><li>'Ammo'</li><li>'Ando Masahashi'</li><li>'Angel'</li><li>'Angel'</li><li>'Angel Dust'</li><li>'Angel Salvadore'</li><li>'Angela'</li><li>'Animal Man'</li><li>'Annihilus'</li><li>'Ant-Man'</li><li>'Ant-Man II'</li><li>'Anti-Monitor'</li><li>'Anti-Spawn'</li><li>'Anti-Venom'</li><li>'Apocalypse'</li><li>'Aquababy'</li><li>'Aqualad'</li><li>'Aquaman'</li><li>'Arachne'</li><li>'Archangel'</li><li>'Arclight'</li><li>'Ardina'</li><li>'Ares'</li><li>'Ariel'</li><li>'Armor'</li><li>'Arsenal'</li><li>'Astro Boy'</li><li>'Atlas'</li><li>'Atlas'</li><li>'Atom'</li><li>'Atom'</li><li>'Atom Girl'</li><li>'Atom II'</li><li>'Atom III'</li><li>'Atom IV'</li><li>'Aurora'</li><li>'Azazel'</li><li>'Azrael'</li><li>'Aztar'</li><li>'Bane'</li><li>'Banshee'</li><li>'Bantam'</li><li>'Batgirl'</li><li>'Batgirl'</li><li>'Batgirl III'</li><li>'Batgirl IV'</li><li>'Batgirl V'</li><li>'Batgirl VI'</li><li>'Batman'</li><li>'Batman'</li><li>'Batman II'</li><li>'Battlestar'</li><li>'Batwoman V'</li><li>'Beak'</li><li>'Beast'</li><li>'Beast Boy'</li><li>'Beetle'</li><li>'Ben 10'</li><li>'Beta Ray Bill'</li><li>'Beyonder'</li><li>'Big Barda'</li><li>'Big Daddy'</li><li>'Big Man'</li><li>'Bill Harken'</li><li>'Billy Kincaid'</li><li>'Binary'</li><li>'Bionic Woman'</li><li>'Bird-Brain'</li><li>'Bird-Man'</li><li>'Bird-Man II'</li><li>'Birdman'</li><li>'Bishop'</li><li>'Bizarro'</li><li>'Black Abbott'</li><li>'Black Adam'</li><li>'Black Bolt'</li><li>'Black Canary'</li><li>'Black Canary'</li><li>'Black Cat'</li><li>'Black Flash'</li><li>'Black Goliath'</li><li>'Black Knight III'</li><li>'Black Lightning'</li><li>'Black Mamba'</li><li>'Black Manta'</li><li>'Black Panther'</li><li>'Black Widow'</li><li>'Black Widow II'</li><li>'Blackout'</li><li>'Blackwing'</li><li>'Blackwulf'</li><li>'Blade'</li><li>'Blaquesmith'</li><li>'Bling!'</li><li>'Blink'</li><li>'Blizzard'</li><li>'Blizzard'</li><li>'Blizzard II'</li><li>'Blob'</li><li>'Bloodaxe'</li><li>'Bloodhawk'</li><li>'Bloodwraith'</li><li>'Blue Beetle'</li><li>'Blue Beetle'</li><li>'Blue Beetle II'</li><li>'Blue Beetle III'</li><li>'Boba Fett'</li><li>'Bolt'</li><li>'Bomb Queen'</li><li>'Boom-Boom'</li><li>'Boomer'</li><li>'Booster Gold'</li><li>'Box'</li><li>'Box III'</li><li>'Box IV'</li><li>'Brainiac'</li><li>'Brainiac 5'</li><li>'Brother Voodoo'</li><li>'Brundlefly'</li><li>'Buffy'</li><li>'Bullseye'</li><li>'Bumblebee'</li><li>'Bumbleboy'</li><li>'Bushido'</li><li>'Cable'</li><li>'Callisto'</li><li>'Cameron Hicks'</li><li>'Cannonball'</li><li>'Captain America'</li><li>'Captain Atom'</li><li>'Captain Britain'</li><li>'Captain Cold'</li><li>'Captain Epic'</li><li>'Captain Hindsight'</li><li>'Captain Mar-vell'</li><li>'Captain Marvel'</li><li>'Captain Marvel'</li><li>'Captain Marvel II'</li><li>'Captain Midnight'</li><li>'Captain Planet'</li><li>'Captain Universe'</li><li>'Carnage'</li><li>'Cat'</li><li>'Cat II'</li><li>'Catwoman'</li><li>'Cecilia Reyes'</li><li>'Century'</li><li>'Cerebra'</li><li>'Chamber'</li><li>'Chameleon'</li><li>'Changeling'</li><li>'Cheetah'</li><li>'Cheetah II'</li><li>'Cheetah III'</li><li>'Chromos'</li><li>'Chuck Norris'</li><li>'Citizen Steel'</li><li>'Claire Bennet'</li><li>'Clea'</li><li>'Cloak'</li><li>'Clock King'</li><li>'Cogliostro'</li><li>'Colin Wagner'</li><li>'Colossal Boy'</li><li>'Colossus'</li><li>'Copycat'</li><li>'Corsair'</li><li>'Cottonmouth'</li><li>'Crimson Crusader'</li><li>'Crimson Dynamo'</li><li>'Crystal'</li><li>'Curse'</li><li>'Cy-Gor'</li><li>'Cyborg'</li><li>'Cyborg Superman'</li><li>'Cyclops'</li><li>'Cypher'</li><li>'Dagger'</li><li>'Danny Cooper'</li><li>'Daphne Powell'</li><li>⋯</li><li>'Pyro'</li><li>'Q'</li><li>'Quantum'</li><li>'Question'</li><li>'Quicksilver'</li><li>'Quill'</li><li>'Ra\\'s Al Ghul'</li><li>'Rachel Pirzad'</li><li>'Rambo'</li><li>'Raphael'</li><li>'Raven'</li><li>'Ray'</li><li>'Razor-Fist II'</li><li>'Red Arrow'</li><li>'Red Hood'</li><li>'Red Hulk'</li><li>'Red Mist'</li><li>'Red Robin'</li><li>'Red Skull'</li><li>'Red Tornado'</li><li>'Redeemer II'</li><li>'Redeemer III'</li><li>'Renata Soliz'</li><li>'Rey'</li><li>'Rhino'</li><li>'Rick Flag'</li><li>'Riddler'</li><li>'Rip Hunter'</li><li>'Ripcord'</li><li>'Robin'</li><li>'Robin II'</li><li>'Robin III'</li><li>'Robin V'</li><li>'Robin VI'</li><li>'Rocket Raccoon'</li><li>'Rogue'</li><li>'Ronin'</li><li>'Rorschach'</li><li>'Sabretooth'</li><li>'Sage'</li><li>'Sandman'</li><li>'Sasquatch'</li><li>'Sauron'</li><li>'Savage Dragon'</li><li>'Scarecrow'</li><li>'Scarlet Spider'</li><li>'Scarlet Spider II'</li><li>'Scarlet Witch'</li><li>'Scorpia'</li><li>'Scorpion'</li><li>'Sebastian Shaw'</li><li>'Sentry'</li><li>'Shadow King'</li><li>'Shadow Lass'</li><li>'Shadowcat'</li><li>'Shang-Chi'</li><li>'Shatterstar'</li><li>'She-Hulk'</li><li>'She-Thing'</li><li>'Shocker'</li><li>'Shriek'</li><li>'Shrinking Violet'</li><li>'Sif'</li><li>'Silk'</li><li>'Silk Spectre'</li><li>'Silk Spectre II'</li><li>'Silver Surfer'</li><li>'Silverclaw'</li><li>'Simon Baz'</li><li>'Sinestro'</li><li>'Siren'</li><li>'Siren II'</li><li>'Siryn'</li><li>'Skaar'</li><li>'Snake-Eyes'</li><li>'Snowbird'</li><li>'Sobek'</li><li>'Solomon Grundy'</li><li>'Songbird'</li><li>'Space Ghost'</li><li>'Spawn'</li><li>'Spectre'</li><li>'Speedball'</li><li>'Speedy'</li><li>'Speedy'</li><li>'Spider-Carnage'</li><li>'Spider-Girl'</li><li>'Spider-Gwen'</li><li>'Spider-Man'</li><li>'Spider-Man'</li><li>'Spider-Man'</li><li>'Spider-Woman'</li><li>'Spider-Woman II'</li><li>'Spider-Woman III'</li><li>'Spider-Woman IV'</li><li>'Spock'</li><li>'Spyke'</li><li>'Stacy X'</li><li>'Star-Lord'</li><li>'Stardust'</li><li>'Starfire'</li><li>'Stargirl'</li><li>'Static'</li><li>'Steel'</li><li>'Stephanie Powell'</li><li>'Steppenwolf'</li><li>'Storm'</li><li>'Stormtrooper'</li><li>'Sunspot'</li><li>'Superboy'</li><li>'Superboy-Prime'</li><li>'Supergirl'</li><li>'Superman'</li><li>'Swamp Thing'</li><li>'Swarm'</li><li>'Sylar'</li><li>'Synch'</li><li>'T-1000'</li><li>'T-800'</li><li>'T-850'</li><li>'T-X'</li><li>'Taskmaster'</li><li>'Tempest'</li><li>'Thanos'</li><li>'The Cape'</li><li>'The Comedian'</li><li>'Thing'</li><li>'Thor'</li><li>'Thor Girl'</li><li>'Thunderbird'</li><li>'Thunderbird II'</li><li>'Thunderbird III'</li><li>'Thunderstrike'</li><li>'Thundra'</li><li>'Tiger Shark'</li><li>'Tigra'</li><li>'Tinkerer'</li><li>'Titan'</li><li>'Toad'</li><li>'Toxin'</li><li>'Toxin'</li><li>'Tracy Strauss'</li><li>'Trickster'</li><li>'Trigon'</li><li>'Triplicate Girl'</li><li>'Triton'</li><li>'Two-Face'</li><li>'Ultragirl'</li><li>'Ultron'</li><li>'Utgard-Loki'</li><li>'Vagabond'</li><li>'Valerie Hart'</li><li>'Valkyrie'</li><li>'Vanisher'</li><li>'Vegeta'</li><li>'Venom'</li><li>'Venom II'</li><li>'Venom III'</li><li>'Venompool'</li><li>'Vertigo II'</li><li>'Vibe'</li><li>'Vindicator'</li><li>'Vindicator'</li><li>'Violator'</li><li>'Violet Parr'</li><li>'Vision'</li><li>'Vision II'</li><li>'Vixen'</li><li>'Vulcan'</li><li>'Vulture'</li><li>'Walrus'</li><li>'War Machine'</li><li>'Warbird'</li><li>'Warlock'</li><li>'Warp'</li><li>'Warpath'</li><li>'Wasp'</li><li>'Watcher'</li><li>'Weapon XI'</li><li>'White Canary'</li><li>'White Queen'</li><li>'Wildfire'</li><li>'Winter Soldier'</li><li>'Wiz Kid'</li><li>'Wolfsbane'</li><li>'Wolverine'</li><li>'Wonder Girl'</li><li>'Wonder Man'</li><li>'Wonder Woman'</li><li>'Wondra'</li><li>'Wyatt Wingfoot'</li><li>'X-23'</li><li>'X-Man'</li><li>'Yellow Claw'</li><li>'Yellowjacket'</li><li>'Yellowjacket II'</li><li>'Ymir'</li><li>'Yoda'</li><li>'Zatanna'</li><li>'Zoom'</li></ol>\n"
            ],
            "text/markdown": "1. 'A-Bomb'\n2. 'Abe Sapien'\n3. 'Abin Sur'\n4. 'Abomination'\n5. 'Abraxas'\n6. 'Absorbing Man'\n7. 'Adam Monroe'\n8. 'Adam Strange'\n9. 'Agent 13'\n10. 'Agent Bob'\n11. 'Agent Zero'\n12. 'Air-Walker'\n13. 'Ajax'\n14. 'Alan Scott'\n15. 'Alex Mercer'\n16. 'Alex Woolsly'\n17. 'Alfred Pennyworth'\n18. 'Alien'\n19. 'Allan Quatermain'\n20. 'Amazo'\n21. 'Ammo'\n22. 'Ando Masahashi'\n23. 'Angel'\n24. 'Angel'\n25. 'Angel Dust'\n26. 'Angel Salvadore'\n27. 'Angela'\n28. 'Animal Man'\n29. 'Annihilus'\n30. 'Ant-Man'\n31. 'Ant-Man II'\n32. 'Anti-Monitor'\n33. 'Anti-Spawn'\n34. 'Anti-Venom'\n35. 'Apocalypse'\n36. 'Aquababy'\n37. 'Aqualad'\n38. 'Aquaman'\n39. 'Arachne'\n40. 'Archangel'\n41. 'Arclight'\n42. 'Ardina'\n43. 'Ares'\n44. 'Ariel'\n45. 'Armor'\n46. 'Arsenal'\n47. 'Astro Boy'\n48. 'Atlas'\n49. 'Atlas'\n50. 'Atom'\n51. 'Atom'\n52. 'Atom Girl'\n53. 'Atom II'\n54. 'Atom III'\n55. 'Atom IV'\n56. 'Aurora'\n57. 'Azazel'\n58. 'Azrael'\n59. 'Aztar'\n60. 'Bane'\n61. 'Banshee'\n62. 'Bantam'\n63. 'Batgirl'\n64. 'Batgirl'\n65. 'Batgirl III'\n66. 'Batgirl IV'\n67. 'Batgirl V'\n68. 'Batgirl VI'\n69. 'Batman'\n70. 'Batman'\n71. 'Batman II'\n72. 'Battlestar'\n73. 'Batwoman V'\n74. 'Beak'\n75. 'Beast'\n76. 'Beast Boy'\n77. 'Beetle'\n78. 'Ben 10'\n79. 'Beta Ray Bill'\n80. 'Beyonder'\n81. 'Big Barda'\n82. 'Big Daddy'\n83. 'Big Man'\n84. 'Bill Harken'\n85. 'Billy Kincaid'\n86. 'Binary'\n87. 'Bionic Woman'\n88. 'Bird-Brain'\n89. 'Bird-Man'\n90. 'Bird-Man II'\n91. 'Birdman'\n92. 'Bishop'\n93. 'Bizarro'\n94. 'Black Abbott'\n95. 'Black Adam'\n96. 'Black Bolt'\n97. 'Black Canary'\n98. 'Black Canary'\n99. 'Black Cat'\n100. 'Black Flash'\n101. 'Black Goliath'\n102. 'Black Knight III'\n103. 'Black Lightning'\n104. 'Black Mamba'\n105. 'Black Manta'\n106. 'Black Panther'\n107. 'Black Widow'\n108. 'Black Widow II'\n109. 'Blackout'\n110. 'Blackwing'\n111. 'Blackwulf'\n112. 'Blade'\n113. 'Blaquesmith'\n114. 'Bling!'\n115. 'Blink'\n116. 'Blizzard'\n117. 'Blizzard'\n118. 'Blizzard II'\n119. 'Blob'\n120. 'Bloodaxe'\n121. 'Bloodhawk'\n122. 'Bloodwraith'\n123. 'Blue Beetle'\n124. 'Blue Beetle'\n125. 'Blue Beetle II'\n126. 'Blue Beetle III'\n127. 'Boba Fett'\n128. 'Bolt'\n129. 'Bomb Queen'\n130. 'Boom-Boom'\n131. 'Boomer'\n132. 'Booster Gold'\n133. 'Box'\n134. 'Box III'\n135. 'Box IV'\n136. 'Brainiac'\n137. 'Brainiac 5'\n138. 'Brother Voodoo'\n139. 'Brundlefly'\n140. 'Buffy'\n141. 'Bullseye'\n142. 'Bumblebee'\n143. 'Bumbleboy'\n144. 'Bushido'\n145. 'Cable'\n146. 'Callisto'\n147. 'Cameron Hicks'\n148. 'Cannonball'\n149. 'Captain America'\n150. 'Captain Atom'\n151. 'Captain Britain'\n152. 'Captain Cold'\n153. 'Captain Epic'\n154. 'Captain Hindsight'\n155. 'Captain Mar-vell'\n156. 'Captain Marvel'\n157. 'Captain Marvel'\n158. 'Captain Marvel II'\n159. 'Captain Midnight'\n160. 'Captain Planet'\n161. 'Captain Universe'\n162. 'Carnage'\n163. 'Cat'\n164. 'Cat II'\n165. 'Catwoman'\n166. 'Cecilia Reyes'\n167. 'Century'\n168. 'Cerebra'\n169. 'Chamber'\n170. 'Chameleon'\n171. 'Changeling'\n172. 'Cheetah'\n173. 'Cheetah II'\n174. 'Cheetah III'\n175. 'Chromos'\n176. 'Chuck Norris'\n177. 'Citizen Steel'\n178. 'Claire Bennet'\n179. 'Clea'\n180. 'Cloak'\n181. 'Clock King'\n182. 'Cogliostro'\n183. 'Colin Wagner'\n184. 'Colossal Boy'\n185. 'Colossus'\n186. 'Copycat'\n187. 'Corsair'\n188. 'Cottonmouth'\n189. 'Crimson Crusader'\n190. 'Crimson Dynamo'\n191. 'Crystal'\n192. 'Curse'\n193. 'Cy-Gor'\n194. 'Cyborg'\n195. 'Cyborg Superman'\n196. 'Cyclops'\n197. 'Cypher'\n198. 'Dagger'\n199. 'Danny Cooper'\n200. 'Daphne Powell'\n201. ⋯\n202. 'Pyro'\n203. 'Q'\n204. 'Quantum'\n205. 'Question'\n206. 'Quicksilver'\n207. 'Quill'\n208. 'Ra\\'s Al Ghul'\n209. 'Rachel Pirzad'\n210. 'Rambo'\n211. 'Raphael'\n212. 'Raven'\n213. 'Ray'\n214. 'Razor-Fist II'\n215. 'Red Arrow'\n216. 'Red Hood'\n217. 'Red Hulk'\n218. 'Red Mist'\n219. 'Red Robin'\n220. 'Red Skull'\n221. 'Red Tornado'\n222. 'Redeemer II'\n223. 'Redeemer III'\n224. 'Renata Soliz'\n225. 'Rey'\n226. 'Rhino'\n227. 'Rick Flag'\n228. 'Riddler'\n229. 'Rip Hunter'\n230. 'Ripcord'\n231. 'Robin'\n232. 'Robin II'\n233. 'Robin III'\n234. 'Robin V'\n235. 'Robin VI'\n236. 'Rocket Raccoon'\n237. 'Rogue'\n238. 'Ronin'\n239. 'Rorschach'\n240. 'Sabretooth'\n241. 'Sage'\n242. 'Sandman'\n243. 'Sasquatch'\n244. 'Sauron'\n245. 'Savage Dragon'\n246. 'Scarecrow'\n247. 'Scarlet Spider'\n248. 'Scarlet Spider II'\n249. 'Scarlet Witch'\n250. 'Scorpia'\n251. 'Scorpion'\n252. 'Sebastian Shaw'\n253. 'Sentry'\n254. 'Shadow King'\n255. 'Shadow Lass'\n256. 'Shadowcat'\n257. 'Shang-Chi'\n258. 'Shatterstar'\n259. 'She-Hulk'\n260. 'She-Thing'\n261. 'Shocker'\n262. 'Shriek'\n263. 'Shrinking Violet'\n264. 'Sif'\n265. 'Silk'\n266. 'Silk Spectre'\n267. 'Silk Spectre II'\n268. 'Silver Surfer'\n269. 'Silverclaw'\n270. 'Simon Baz'\n271. 'Sinestro'\n272. 'Siren'\n273. 'Siren II'\n274. 'Siryn'\n275. 'Skaar'\n276. 'Snake-Eyes'\n277. 'Snowbird'\n278. 'Sobek'\n279. 'Solomon Grundy'\n280. 'Songbird'\n281. 'Space Ghost'\n282. 'Spawn'\n283. 'Spectre'\n284. 'Speedball'\n285. 'Speedy'\n286. 'Speedy'\n287. 'Spider-Carnage'\n288. 'Spider-Girl'\n289. 'Spider-Gwen'\n290. 'Spider-Man'\n291. 'Spider-Man'\n292. 'Spider-Man'\n293. 'Spider-Woman'\n294. 'Spider-Woman II'\n295. 'Spider-Woman III'\n296. 'Spider-Woman IV'\n297. 'Spock'\n298. 'Spyke'\n299. 'Stacy X'\n300. 'Star-Lord'\n301. 'Stardust'\n302. 'Starfire'\n303. 'Stargirl'\n304. 'Static'\n305. 'Steel'\n306. 'Stephanie Powell'\n307. 'Steppenwolf'\n308. 'Storm'\n309. 'Stormtrooper'\n310. 'Sunspot'\n311. 'Superboy'\n312. 'Superboy-Prime'\n313. 'Supergirl'\n314. 'Superman'\n315. 'Swamp Thing'\n316. 'Swarm'\n317. 'Sylar'\n318. 'Synch'\n319. 'T-1000'\n320. 'T-800'\n321. 'T-850'\n322. 'T-X'\n323. 'Taskmaster'\n324. 'Tempest'\n325. 'Thanos'\n326. 'The Cape'\n327. 'The Comedian'\n328. 'Thing'\n329. 'Thor'\n330. 'Thor Girl'\n331. 'Thunderbird'\n332. 'Thunderbird II'\n333. 'Thunderbird III'\n334. 'Thunderstrike'\n335. 'Thundra'\n336. 'Tiger Shark'\n337. 'Tigra'\n338. 'Tinkerer'\n339. 'Titan'\n340. 'Toad'\n341. 'Toxin'\n342. 'Toxin'\n343. 'Tracy Strauss'\n344. 'Trickster'\n345. 'Trigon'\n346. 'Triplicate Girl'\n347. 'Triton'\n348. 'Two-Face'\n349. 'Ultragirl'\n350. 'Ultron'\n351. 'Utgard-Loki'\n352. 'Vagabond'\n353. 'Valerie Hart'\n354. 'Valkyrie'\n355. 'Vanisher'\n356. 'Vegeta'\n357. 'Venom'\n358. 'Venom II'\n359. 'Venom III'\n360. 'Venompool'\n361. 'Vertigo II'\n362. 'Vibe'\n363. 'Vindicator'\n364. 'Vindicator'\n365. 'Violator'\n366. 'Violet Parr'\n367. 'Vision'\n368. 'Vision II'\n369. 'Vixen'\n370. 'Vulcan'\n371. 'Vulture'\n372. 'Walrus'\n373. 'War Machine'\n374. 'Warbird'\n375. 'Warlock'\n376. 'Warp'\n377. 'Warpath'\n378. 'Wasp'\n379. 'Watcher'\n380. 'Weapon XI'\n381. 'White Canary'\n382. 'White Queen'\n383. 'Wildfire'\n384. 'Winter Soldier'\n385. 'Wiz Kid'\n386. 'Wolfsbane'\n387. 'Wolverine'\n388. 'Wonder Girl'\n389. 'Wonder Man'\n390. 'Wonder Woman'\n391. 'Wondra'\n392. 'Wyatt Wingfoot'\n393. 'X-23'\n394. 'X-Man'\n395. 'Yellow Claw'\n396. 'Yellowjacket'\n397. 'Yellowjacket II'\n398. 'Ymir'\n399. 'Yoda'\n400. 'Zatanna'\n401. 'Zoom'\n\n\n",
            "text/latex": "\\begin{enumerate*}\n\\item 'A-Bomb'\n\\item 'Abe Sapien'\n\\item 'Abin Sur'\n\\item 'Abomination'\n\\item 'Abraxas'\n\\item 'Absorbing Man'\n\\item 'Adam Monroe'\n\\item 'Adam Strange'\n\\item 'Agent 13'\n\\item 'Agent Bob'\n\\item 'Agent Zero'\n\\item 'Air-Walker'\n\\item 'Ajax'\n\\item 'Alan Scott'\n\\item 'Alex Mercer'\n\\item 'Alex Woolsly'\n\\item 'Alfred Pennyworth'\n\\item 'Alien'\n\\item 'Allan Quatermain'\n\\item 'Amazo'\n\\item 'Ammo'\n\\item 'Ando Masahashi'\n\\item 'Angel'\n\\item 'Angel'\n\\item 'Angel Dust'\n\\item 'Angel Salvadore'\n\\item 'Angela'\n\\item 'Animal Man'\n\\item 'Annihilus'\n\\item 'Ant-Man'\n\\item 'Ant-Man II'\n\\item 'Anti-Monitor'\n\\item 'Anti-Spawn'\n\\item 'Anti-Venom'\n\\item 'Apocalypse'\n\\item 'Aquababy'\n\\item 'Aqualad'\n\\item 'Aquaman'\n\\item 'Arachne'\n\\item 'Archangel'\n\\item 'Arclight'\n\\item 'Ardina'\n\\item 'Ares'\n\\item 'Ariel'\n\\item 'Armor'\n\\item 'Arsenal'\n\\item 'Astro Boy'\n\\item 'Atlas'\n\\item 'Atlas'\n\\item 'Atom'\n\\item 'Atom'\n\\item 'Atom Girl'\n\\item 'Atom II'\n\\item 'Atom III'\n\\item 'Atom IV'\n\\item 'Aurora'\n\\item 'Azazel'\n\\item 'Azrael'\n\\item 'Aztar'\n\\item 'Bane'\n\\item 'Banshee'\n\\item 'Bantam'\n\\item 'Batgirl'\n\\item 'Batgirl'\n\\item 'Batgirl III'\n\\item 'Batgirl IV'\n\\item 'Batgirl V'\n\\item 'Batgirl VI'\n\\item 'Batman'\n\\item 'Batman'\n\\item 'Batman II'\n\\item 'Battlestar'\n\\item 'Batwoman V'\n\\item 'Beak'\n\\item 'Beast'\n\\item 'Beast Boy'\n\\item 'Beetle'\n\\item 'Ben 10'\n\\item 'Beta Ray Bill'\n\\item 'Beyonder'\n\\item 'Big Barda'\n\\item 'Big Daddy'\n\\item 'Big Man'\n\\item 'Bill Harken'\n\\item 'Billy Kincaid'\n\\item 'Binary'\n\\item 'Bionic Woman'\n\\item 'Bird-Brain'\n\\item 'Bird-Man'\n\\item 'Bird-Man II'\n\\item 'Birdman'\n\\item 'Bishop'\n\\item 'Bizarro'\n\\item 'Black Abbott'\n\\item 'Black Adam'\n\\item 'Black Bolt'\n\\item 'Black Canary'\n\\item 'Black Canary'\n\\item 'Black Cat'\n\\item 'Black Flash'\n\\item 'Black Goliath'\n\\item 'Black Knight III'\n\\item 'Black Lightning'\n\\item 'Black Mamba'\n\\item 'Black Manta'\n\\item 'Black Panther'\n\\item 'Black Widow'\n\\item 'Black Widow II'\n\\item 'Blackout'\n\\item 'Blackwing'\n\\item 'Blackwulf'\n\\item 'Blade'\n\\item 'Blaquesmith'\n\\item 'Bling!'\n\\item 'Blink'\n\\item 'Blizzard'\n\\item 'Blizzard'\n\\item 'Blizzard II'\n\\item 'Blob'\n\\item 'Bloodaxe'\n\\item 'Bloodhawk'\n\\item 'Bloodwraith'\n\\item 'Blue Beetle'\n\\item 'Blue Beetle'\n\\item 'Blue Beetle II'\n\\item 'Blue Beetle III'\n\\item 'Boba Fett'\n\\item 'Bolt'\n\\item 'Bomb Queen'\n\\item 'Boom-Boom'\n\\item 'Boomer'\n\\item 'Booster Gold'\n\\item 'Box'\n\\item 'Box III'\n\\item 'Box IV'\n\\item 'Brainiac'\n\\item 'Brainiac 5'\n\\item 'Brother Voodoo'\n\\item 'Brundlefly'\n\\item 'Buffy'\n\\item 'Bullseye'\n\\item 'Bumblebee'\n\\item 'Bumbleboy'\n\\item 'Bushido'\n\\item 'Cable'\n\\item 'Callisto'\n\\item 'Cameron Hicks'\n\\item 'Cannonball'\n\\item 'Captain America'\n\\item 'Captain Atom'\n\\item 'Captain Britain'\n\\item 'Captain Cold'\n\\item 'Captain Epic'\n\\item 'Captain Hindsight'\n\\item 'Captain Mar-vell'\n\\item 'Captain Marvel'\n\\item 'Captain Marvel'\n\\item 'Captain Marvel II'\n\\item 'Captain Midnight'\n\\item 'Captain Planet'\n\\item 'Captain Universe'\n\\item 'Carnage'\n\\item 'Cat'\n\\item 'Cat II'\n\\item 'Catwoman'\n\\item 'Cecilia Reyes'\n\\item 'Century'\n\\item 'Cerebra'\n\\item 'Chamber'\n\\item 'Chameleon'\n\\item 'Changeling'\n\\item 'Cheetah'\n\\item 'Cheetah II'\n\\item 'Cheetah III'\n\\item 'Chromos'\n\\item 'Chuck Norris'\n\\item 'Citizen Steel'\n\\item 'Claire Bennet'\n\\item 'Clea'\n\\item 'Cloak'\n\\item 'Clock King'\n\\item 'Cogliostro'\n\\item 'Colin Wagner'\n\\item 'Colossal Boy'\n\\item 'Colossus'\n\\item 'Copycat'\n\\item 'Corsair'\n\\item 'Cottonmouth'\n\\item 'Crimson Crusader'\n\\item 'Crimson Dynamo'\n\\item 'Crystal'\n\\item 'Curse'\n\\item 'Cy-Gor'\n\\item 'Cyborg'\n\\item 'Cyborg Superman'\n\\item 'Cyclops'\n\\item 'Cypher'\n\\item 'Dagger'\n\\item 'Danny Cooper'\n\\item 'Daphne Powell'\n\\item ⋯\n\\item 'Pyro'\n\\item 'Q'\n\\item 'Quantum'\n\\item 'Question'\n\\item 'Quicksilver'\n\\item 'Quill'\n\\item 'Ra\\textbackslash{}'s Al Ghul'\n\\item 'Rachel Pirzad'\n\\item 'Rambo'\n\\item 'Raphael'\n\\item 'Raven'\n\\item 'Ray'\n\\item 'Razor-Fist II'\n\\item 'Red Arrow'\n\\item 'Red Hood'\n\\item 'Red Hulk'\n\\item 'Red Mist'\n\\item 'Red Robin'\n\\item 'Red Skull'\n\\item 'Red Tornado'\n\\item 'Redeemer II'\n\\item 'Redeemer III'\n\\item 'Renata Soliz'\n\\item 'Rey'\n\\item 'Rhino'\n\\item 'Rick Flag'\n\\item 'Riddler'\n\\item 'Rip Hunter'\n\\item 'Ripcord'\n\\item 'Robin'\n\\item 'Robin II'\n\\item 'Robin III'\n\\item 'Robin V'\n\\item 'Robin VI'\n\\item 'Rocket Raccoon'\n\\item 'Rogue'\n\\item 'Ronin'\n\\item 'Rorschach'\n\\item 'Sabretooth'\n\\item 'Sage'\n\\item 'Sandman'\n\\item 'Sasquatch'\n\\item 'Sauron'\n\\item 'Savage Dragon'\n\\item 'Scarecrow'\n\\item 'Scarlet Spider'\n\\item 'Scarlet Spider II'\n\\item 'Scarlet Witch'\n\\item 'Scorpia'\n\\item 'Scorpion'\n\\item 'Sebastian Shaw'\n\\item 'Sentry'\n\\item 'Shadow King'\n\\item 'Shadow Lass'\n\\item 'Shadowcat'\n\\item 'Shang-Chi'\n\\item 'Shatterstar'\n\\item 'She-Hulk'\n\\item 'She-Thing'\n\\item 'Shocker'\n\\item 'Shriek'\n\\item 'Shrinking Violet'\n\\item 'Sif'\n\\item 'Silk'\n\\item 'Silk Spectre'\n\\item 'Silk Spectre II'\n\\item 'Silver Surfer'\n\\item 'Silverclaw'\n\\item 'Simon Baz'\n\\item 'Sinestro'\n\\item 'Siren'\n\\item 'Siren II'\n\\item 'Siryn'\n\\item 'Skaar'\n\\item 'Snake-Eyes'\n\\item 'Snowbird'\n\\item 'Sobek'\n\\item 'Solomon Grundy'\n\\item 'Songbird'\n\\item 'Space Ghost'\n\\item 'Spawn'\n\\item 'Spectre'\n\\item 'Speedball'\n\\item 'Speedy'\n\\item 'Speedy'\n\\item 'Spider-Carnage'\n\\item 'Spider-Girl'\n\\item 'Spider-Gwen'\n\\item 'Spider-Man'\n\\item 'Spider-Man'\n\\item 'Spider-Man'\n\\item 'Spider-Woman'\n\\item 'Spider-Woman II'\n\\item 'Spider-Woman III'\n\\item 'Spider-Woman IV'\n\\item 'Spock'\n\\item 'Spyke'\n\\item 'Stacy X'\n\\item 'Star-Lord'\n\\item 'Stardust'\n\\item 'Starfire'\n\\item 'Stargirl'\n\\item 'Static'\n\\item 'Steel'\n\\item 'Stephanie Powell'\n\\item 'Steppenwolf'\n\\item 'Storm'\n\\item 'Stormtrooper'\n\\item 'Sunspot'\n\\item 'Superboy'\n\\item 'Superboy-Prime'\n\\item 'Supergirl'\n\\item 'Superman'\n\\item 'Swamp Thing'\n\\item 'Swarm'\n\\item 'Sylar'\n\\item 'Synch'\n\\item 'T-1000'\n\\item 'T-800'\n\\item 'T-850'\n\\item 'T-X'\n\\item 'Taskmaster'\n\\item 'Tempest'\n\\item 'Thanos'\n\\item 'The Cape'\n\\item 'The Comedian'\n\\item 'Thing'\n\\item 'Thor'\n\\item 'Thor Girl'\n\\item 'Thunderbird'\n\\item 'Thunderbird II'\n\\item 'Thunderbird III'\n\\item 'Thunderstrike'\n\\item 'Thundra'\n\\item 'Tiger Shark'\n\\item 'Tigra'\n\\item 'Tinkerer'\n\\item 'Titan'\n\\item 'Toad'\n\\item 'Toxin'\n\\item 'Toxin'\n\\item 'Tracy Strauss'\n\\item 'Trickster'\n\\item 'Trigon'\n\\item 'Triplicate Girl'\n\\item 'Triton'\n\\item 'Two-Face'\n\\item 'Ultragirl'\n\\item 'Ultron'\n\\item 'Utgard-Loki'\n\\item 'Vagabond'\n\\item 'Valerie Hart'\n\\item 'Valkyrie'\n\\item 'Vanisher'\n\\item 'Vegeta'\n\\item 'Venom'\n\\item 'Venom II'\n\\item 'Venom III'\n\\item 'Venompool'\n\\item 'Vertigo II'\n\\item 'Vibe'\n\\item 'Vindicator'\n\\item 'Vindicator'\n\\item 'Violator'\n\\item 'Violet Parr'\n\\item 'Vision'\n\\item 'Vision II'\n\\item 'Vixen'\n\\item 'Vulcan'\n\\item 'Vulture'\n\\item 'Walrus'\n\\item 'War Machine'\n\\item 'Warbird'\n\\item 'Warlock'\n\\item 'Warp'\n\\item 'Warpath'\n\\item 'Wasp'\n\\item 'Watcher'\n\\item 'Weapon XI'\n\\item 'White Canary'\n\\item 'White Queen'\n\\item 'Wildfire'\n\\item 'Winter Soldier'\n\\item 'Wiz Kid'\n\\item 'Wolfsbane'\n\\item 'Wolverine'\n\\item 'Wonder Girl'\n\\item 'Wonder Man'\n\\item 'Wonder Woman'\n\\item 'Wondra'\n\\item 'Wyatt Wingfoot'\n\\item 'X-23'\n\\item 'X-Man'\n\\item 'Yellow Claw'\n\\item 'Yellowjacket'\n\\item 'Yellowjacket II'\n\\item 'Ymir'\n\\item 'Yoda'\n\\item 'Zatanna'\n\\item 'Zoom'\n\\end{enumerate*}\n",
            "text/plain": [
              "  [1] \"A-Bomb\"                    \"Abe Sapien\"               \n",
              "  [3] \"Abin Sur\"                  \"Abomination\"              \n",
              "  [5] \"Abraxas\"                   \"Absorbing Man\"            \n",
              "  [7] \"Adam Monroe\"               \"Adam Strange\"             \n",
              "  [9] \"Agent 13\"                  \"Agent Bob\"                \n",
              " [11] \"Agent Zero\"                \"Air-Walker\"               \n",
              " [13] \"Ajax\"                      \"Alan Scott\"               \n",
              " [15] \"Alex Mercer\"               \"Alex Woolsly\"             \n",
              " [17] \"Alfred Pennyworth\"         \"Alien\"                    \n",
              " [19] \"Allan Quatermain\"          \"Amazo\"                    \n",
              " [21] \"Ammo\"                      \"Ando Masahashi\"           \n",
              " [23] \"Angel\"                     \"Angel\"                    \n",
              " [25] \"Angel Dust\"                \"Angel Salvadore\"          \n",
              " [27] \"Angela\"                    \"Animal Man\"               \n",
              " [29] \"Annihilus\"                 \"Ant-Man\"                  \n",
              " [31] \"Ant-Man II\"                \"Anti-Monitor\"             \n",
              " [33] \"Anti-Spawn\"                \"Anti-Venom\"               \n",
              " [35] \"Apocalypse\"                \"Aquababy\"                 \n",
              " [37] \"Aqualad\"                   \"Aquaman\"                  \n",
              " [39] \"Arachne\"                   \"Archangel\"                \n",
              " [41] \"Arclight\"                  \"Ardina\"                   \n",
              " [43] \"Ares\"                      \"Ariel\"                    \n",
              " [45] \"Armor\"                     \"Arsenal\"                  \n",
              " [47] \"Astro Boy\"                 \"Atlas\"                    \n",
              " [49] \"Atlas\"                     \"Atom\"                     \n",
              " [51] \"Atom\"                      \"Atom Girl\"                \n",
              " [53] \"Atom II\"                   \"Atom III\"                 \n",
              " [55] \"Atom IV\"                   \"Aurora\"                   \n",
              " [57] \"Azazel\"                    \"Azrael\"                   \n",
              " [59] \"Aztar\"                     \"Bane\"                     \n",
              " [61] \"Banshee\"                   \"Bantam\"                   \n",
              " [63] \"Batgirl\"                   \"Batgirl\"                  \n",
              " [65] \"Batgirl III\"               \"Batgirl IV\"               \n",
              " [67] \"Batgirl V\"                 \"Batgirl VI\"               \n",
              " [69] \"Batman\"                    \"Batman\"                   \n",
              " [71] \"Batman II\"                 \"Battlestar\"               \n",
              " [73] \"Batwoman V\"                \"Beak\"                     \n",
              " [75] \"Beast\"                     \"Beast Boy\"                \n",
              " [77] \"Beetle\"                    \"Ben 10\"                   \n",
              " [79] \"Beta Ray Bill\"             \"Beyonder\"                 \n",
              " [81] \"Big Barda\"                 \"Big Daddy\"                \n",
              " [83] \"Big Man\"                   \"Bill Harken\"              \n",
              " [85] \"Billy Kincaid\"             \"Binary\"                   \n",
              " [87] \"Bionic Woman\"              \"Bird-Brain\"               \n",
              " [89] \"Bird-Man\"                  \"Bird-Man II\"              \n",
              " [91] \"Birdman\"                   \"Bishop\"                   \n",
              " [93] \"Bizarro\"                   \"Black Abbott\"             \n",
              " [95] \"Black Adam\"                \"Black Bolt\"               \n",
              " [97] \"Black Canary\"              \"Black Canary\"             \n",
              " [99] \"Black Cat\"                 \"Black Flash\"              \n",
              "[101] \"Black Goliath\"             \"Black Knight III\"         \n",
              "[103] \"Black Lightning\"           \"Black Mamba\"              \n",
              "[105] \"Black Manta\"               \"Black Panther\"            \n",
              "[107] \"Black Widow\"               \"Black Widow II\"           \n",
              "[109] \"Blackout\"                  \"Blackwing\"                \n",
              "[111] \"Blackwulf\"                 \"Blade\"                    \n",
              "[113] \"Blaquesmith\"               \"Bling!\"                   \n",
              "[115] \"Blink\"                     \"Blizzard\"                 \n",
              "[117] \"Blizzard\"                  \"Blizzard II\"              \n",
              "[119] \"Blob\"                      \"Bloodaxe\"                 \n",
              "[121] \"Bloodhawk\"                 \"Bloodwraith\"              \n",
              "[123] \"Blue Beetle\"               \"Blue Beetle\"              \n",
              "[125] \"Blue Beetle II\"            \"Blue Beetle III\"          \n",
              "[127] \"Boba Fett\"                 \"Bolt\"                     \n",
              "[129] \"Bomb Queen\"                \"Boom-Boom\"                \n",
              "[131] \"Boomer\"                    \"Booster Gold\"             \n",
              "[133] \"Box\"                       \"Box III\"                  \n",
              "[135] \"Box IV\"                    \"Brainiac\"                 \n",
              "[137] \"Brainiac 5\"                \"Brother Voodoo\"           \n",
              "[139] \"Brundlefly\"                \"Buffy\"                    \n",
              "[141] \"Bullseye\"                  \"Bumblebee\"                \n",
              "[143] \"Bumbleboy\"                 \"Bushido\"                  \n",
              "[145] \"Cable\"                     \"Callisto\"                 \n",
              "[147] \"Cameron Hicks\"             \"Cannonball\"               \n",
              "[149] \"Captain America\"           \"Captain Atom\"             \n",
              "[151] \"Captain Britain\"           \"Captain Cold\"             \n",
              "[153] \"Captain Epic\"              \"Captain Hindsight\"        \n",
              "[155] \"Captain Mar-vell\"          \"Captain Marvel\"           \n",
              "[157] \"Captain Marvel\"            \"Captain Marvel II\"        \n",
              "[159] \"Captain Midnight\"          \"Captain Planet\"           \n",
              "[161] \"Captain Universe\"          \"Carnage\"                  \n",
              "[163] \"Cat\"                       \"Cat II\"                   \n",
              "[165] \"Catwoman\"                  \"Cecilia Reyes\"            \n",
              "[167] \"Century\"                   \"Cerebra\"                  \n",
              "[169] \"Chamber\"                   \"Chameleon\"                \n",
              "[171] \"Changeling\"                \"Cheetah\"                  \n",
              "[173] \"Cheetah II\"                \"Cheetah III\"              \n",
              "[175] \"Chromos\"                   \"Chuck Norris\"             \n",
              "[177] \"Citizen Steel\"             \"Claire Bennet\"            \n",
              "[179] \"Clea\"                      \"Cloak\"                    \n",
              "[181] \"Clock King\"                \"Cogliostro\"               \n",
              "[183] \"Colin Wagner\"              \"Colossal Boy\"             \n",
              "[185] \"Colossus\"                  \"Copycat\"                  \n",
              "[187] \"Corsair\"                   \"Cottonmouth\"              \n",
              "[189] \"Crimson Crusader\"          \"Crimson Dynamo\"           \n",
              "[191] \"Crystal\"                   \"Curse\"                    \n",
              "[193] \"Cy-Gor\"                    \"Cyborg\"                   \n",
              "[195] \"Cyborg Superman\"           \"Cyclops\"                  \n",
              "[197] \"Cypher\"                    \"Dagger\"                   \n",
              "[199] \"Danny Cooper\"              \"Daphne Powell\"            \n",
              "[201] \"Daredevil\"                 \"Darkhawk\"                 \n",
              "[203] \"Darkman\"                   \"Darkseid\"                 \n",
              "[205] \"Darkside\"                  \"Darkstar\"                 \n",
              "[207] \"Darth Maul\"                \"Darth Vader\"              \n",
              "[209] \"Dash\"                      \"Data\"                     \n",
              "[211] \"Dazzler\"                   \"Deadman\"                  \n",
              "[213] \"Deadpool\"                  \"Deadshot\"                 \n",
              "[215] \"Deathlok\"                  \"Deathstroke\"              \n",
              "[217] \"Demogoblin\"                \"Destroyer\"                \n",
              "[219] \"Diamondback\"               \"DL Hawkins\"               \n",
              "[221] \"Doc Samson\"                \"Doctor Doom\"              \n",
              "[223] \"Doctor Doom II\"            \"Doctor Fate\"              \n",
              "[225] \"Doctor Octopus\"            \"Doctor Strange\"           \n",
              "[227] \"Domino\"                    \"Donatello\"                \n",
              "[229] \"Donna Troy\"                \"Doomsday\"                 \n",
              "[231] \"Doppelganger\"              \"Dormammu\"                 \n",
              "[233] \"Dr Manhattan\"              \"Drax the Destroyer\"       \n",
              "[235] \"Ego\"                       \"Elastigirl\"               \n",
              "[237] \"Electro\"                   \"Elektra\"                  \n",
              "[239] \"Elle Bishop\"               \"Elongated Man\"            \n",
              "[241] \"Emma Frost\"                \"Enchantress\"              \n",
              "[243] \"Energy\"                    \"ERG-1\"                    \n",
              "[245] \"Ethan Hunt\"                \"Etrigan\"                  \n",
              "[247] \"Evil Deadpool\"             \"Evilhawk\"                 \n",
              "[249] \"Exodus\"                    \"Fabian Cortez\"            \n",
              "[251] \"Falcon\"                    \"Fallen One II\"            \n",
              "[253] \"Faora\"                     \"Feral\"                    \n",
              "[255] \"Fighting Spirit\"           \"Fin Fang Foom\"            \n",
              "[257] \"Firebird\"                  \"Firelord\"                 \n",
              "[259] \"Firestar\"                  \"Firestorm\"                \n",
              "[261] \"Firestorm\"                 \"Fixer\"                    \n",
              "[263] \"Flash\"                     \"Flash Gordon\"             \n",
              "[265] \"Flash II\"                  \"Flash III\"                \n",
              "[267] \"Flash IV\"                  \"Forge\"                    \n",
              "[269] \"Franklin Richards\"         \"Franklin Storm\"           \n",
              "[271] \"Frenzy\"                    \"Frigga\"                   \n",
              "[273] \"Galactus\"                  \"Gambit\"                   \n",
              "[275] \"Gamora\"                    \"Garbage Man\"              \n",
              "[277] \"Gary Bell\"                 \"General Zod\"              \n",
              "[279] \"Genesis\"                   \"Ghost Rider\"              \n",
              "[281] \"Ghost Rider II\"            \"Giant-Man\"                \n",
              "[283] \"Giant-Man II\"              \"Giganta\"                  \n",
              "[285] \"Gladiator\"                 \"Goblin Queen\"             \n",
              "[287] \"Godzilla\"                  \"Gog\"                      \n",
              "[289] \"Goku\"                      \"Goliath\"                  \n",
              "[291] \"Goliath\"                   \"Goliath\"                  \n",
              "[293] \"Goliath IV\"                \"Gorilla Grodd\"            \n",
              "[295] \"Granny Goodness\"           \"Gravity\"                  \n",
              "[297] \"Greedo\"                    \"Green Arrow\"              \n",
              "[299] \"Green Goblin\"              \"Green Goblin II\"          \n",
              "[301] \"Green Goblin III\"          \"Green Goblin IV\"          \n",
              "[303] \"Groot\"                     \"Guardian\"                 \n",
              "[305] \"Guy Gardner\"               \"Hal Jordan\"               \n",
              "[307] \"Han Solo\"                  \"Hancock\"                  \n",
              "[309] \"Harley Quinn\"              \"Harry Potter\"             \n",
              "[311] \"Havok\"                     \"Hawk\"                     \n",
              "[313] \"Hawkeye\"                   \"Hawkeye II\"               \n",
              "[315] \"Hawkgirl\"                  \"Hawkman\"                  \n",
              "[317] \"Hawkwoman\"                 \"Hawkwoman II\"             \n",
              "[319] \"Hawkwoman III\"             \"Heat Wave\"                \n",
              "[321] \"Hela\"                      \"Hellboy\"                  \n",
              "[323] \"Hellcat\"                   \"Hellstorm\"                \n",
              "[325] \"Hercules\"                  \"Hiro Nakamura\"            \n",
              "[327] \"Hit-Girl\"                  \"Hobgoblin\"                \n",
              "[329] \"Hollow\"                    \"Hope Summers\"             \n",
              "[331] \"Howard the Duck\"           \"Hulk\"                     \n",
              "[333] \"Human Torch\"               \"Huntress\"                 \n",
              "[335] \"Husk\"                      \"Hybrid\"                   \n",
              "[337] \"Hydro-Man\"                 \"Hyperion\"                 \n",
              "[339] \"Iceman\"                    \"Impulse\"                  \n",
              "[341] \"Indiana Jones\"             \"Indigo\"                   \n",
              "[343] \"Ink\"                       \"Invisible Woman\"          \n",
              "[345] \"Iron Fist\"                 \"Iron Man\"                 \n",
              "[347] \"Iron Monger\"               \"Isis\"                     \n",
              "[349] \"Jack Bauer\"                \"Jack of Hearts\"           \n",
              "[351] \"Jack-Jack\"                 \"James Bond\"               \n",
              "[353] \"James T. Kirk\"             \"Jar Jar Binks\"            \n",
              "[355] \"Jason Bourne\"              \"Jean Grey\"                \n",
              "[357] \"Jean-Luc Picard\"           \"Jennifer Kale\"            \n",
              "[359] \"Jesse Quick\"               \"Jessica Cruz\"             \n",
              "[361] \"Jessica Jones\"             \"Jessica Sanders\"          \n",
              "[363] \"Jigsaw\"                    \"Jim Powell\"               \n",
              "[365] \"JJ Powell\"                 \"Johann Krauss\"            \n",
              "[367] \"John Constantine\"          \"John Stewart\"             \n",
              "[369] \"John Wraith\"               \"Joker\"                    \n",
              "[371] \"Jolt\"                      \"Jubilee\"                  \n",
              "[373] \"Judge Dredd\"               \"Juggernaut\"               \n",
              "[375] \"Junkpile\"                  \"Justice\"                  \n",
              "[377] \"Jyn Erso\"                  \"K-2SO\"                    \n",
              "[379] \"Kang\"                      \"Karate Kid\"               \n",
              "[381] \"Kathryn Janeway\"           \"Katniss Everdeen\"         \n",
              "[383] \"Kevin 11\"                  \"Kick-Ass\"                 \n",
              "[385] \"Kid Flash\"                 \"Kid Flash II\"             \n",
              "[387] \"Killer Croc\"               \"Killer Frost\"             \n",
              "[389] \"Kilowog\"                   \"King Kong\"                \n",
              "[391] \"King Shark\"                \"Kingpin\"                  \n",
              "[393] \"Klaw\"                      \"Kool-Aid Man\"             \n",
              "[395] \"Kraven II\"                 \"Kraven the Hunter\"        \n",
              "[397] \"Krypto\"                    \"Kyle Rayner\"              \n",
              "[399] \"Kylo Ren\"                  \"Lady Bullseye\"            \n",
              "[401] \"Lady Deathstrike\"          \"Leader\"                   \n",
              "[403] \"Leech\"                     \"Legion\"                   \n",
              "[405] \"Leonardo\"                  \"Lex Luthor\"               \n",
              "[407] \"Light Lass\"                \"Lightning Lad\"            \n",
              "[409] \"Lightning Lord\"            \"Living Brain\"             \n",
              "[411] \"Living Tribunal\"           \"Liz Sherman\"              \n",
              "[413] \"Lizard\"                    \"Lobo\"                     \n",
              "[415] \"Loki\"                      \"Longshot\"                 \n",
              "[417] \"Luke Cage\"                 \"Luke Campbell\"            \n",
              "[419] \"Luke Skywalker\"            \"Luna\"                     \n",
              "[421] \"Lyja\"                      \"Mach-IV\"                  \n",
              "[423] \"Machine Man\"               \"Magneto\"                  \n",
              "[425] \"Magog\"                     \"Magus\"                    \n",
              "[427] \"Man of Miracles\"           \"Man-Bat\"                  \n",
              "[429] \"Man-Thing\"                 \"Man-Wolf\"                 \n",
              "[431] \"Mandarin\"                  \"Mantis\"                   \n",
              "[433] \"Martian Manhunter\"         \"Marvel Girl\"              \n",
              "[435] \"Master Brood\"              \"Master Chief\"             \n",
              "[437] \"Match\"                     \"Matt Parkman\"             \n",
              "[439] \"Maverick\"                  \"Maxima\"                   \n",
              "[441] \"Maya Herrera\"              \"Medusa\"                   \n",
              "[443] \"Meltdown\"                  \"Mephisto\"                 \n",
              "[445] \"Mera\"                      \"Metallo\"                  \n",
              "[447] \"Metamorpho\"                \"Meteorite\"                \n",
              "[449] \"Metron\"                    \"Micah Sanders\"            \n",
              "[451] \"Michelangelo\"              \"Micro Lad\"                \n",
              "[453] \"Mimic\"                     \"Minna Murray\"             \n",
              "[455] \"Misfit\"                    \"Miss Martian\"             \n",
              "[457] \"Mister Fantastic\"          \"Mister Freeze\"            \n",
              "[459] \"Mister Knife\"              \"Mister Mxyzptlk\"          \n",
              "[461] \"Mister Sinister\"           \"Mister Zsasz\"             \n",
              "[463] \"Mockingbird\"               \"MODOK\"                    \n",
              "[465] \"Mogo\"                      \"Mohinder Suresh\"          \n",
              "[467] \"Moloch\"                    \"Molten Man\"               \n",
              "[469] \"Monarch\"                   \"Monica Dawson\"            \n",
              "[471] \"Moon Knight\"               \"Moonstone\"                \n",
              "[473] \"Morlun\"                    \"Morph\"                    \n",
              "[475] \"Moses Magnum\"              \"Mr Immortal\"              \n",
              "[477] \"Mr Incredible\"             \"Ms Marvel II\"             \n",
              "[479] \"Multiple Man\"              \"Mysterio\"                 \n",
              "[481] \"Mystique\"                  \"Namor\"                    \n",
              "[483] \"Namor\"                     \"Namora\"                   \n",
              "[485] \"Namorita\"                  \"Naruto Uzumaki\"           \n",
              "[487] \"Nathan Petrelli\"           \"Nebula\"                   \n",
              "[489] \"Negasonic Teenage Warhead\" \"Nick Fury\"                \n",
              "[491] \"Nightcrawler\"              \"Nightwing\"                \n",
              "[493] \"Niki Sanders\"              \"Nina Theroux\"             \n",
              "[495] \"Nite Owl II\"               \"Northstar\"                \n",
              "[497] \"Nova\"                      \"Nova\"                     \n",
              "[499] \"Odin\"                      \"Offspring\"                \n",
              "[501] \"Omega Red\"                 \"Omniscient\"               \n",
              "[503] \"One Punch Man\"             \"One-Above-All\"            \n",
              "[505] \"Onslaught\"                 \"Oracle\"                   \n",
              "[507] \"Osiris\"                    \"Overtkill\"                \n",
              "[509] \"Ozymandias\"                \"Parademon\"                \n",
              "[511] \"Paul Blart\"                \"Penance\"                  \n",
              "[513] \"Penance I\"                 \"Penance II\"               \n",
              "[515] \"Penguin\"                   \"Peter Petrelli\"           \n",
              "[517] \"Phantom\"                   \"Phantom Girl\"             \n",
              "[519] \"Phoenix\"                   \"Plantman\"                 \n",
              "[521] \"Plastic Lad\"               \"Plastic Man\"              \n",
              "[523] \"Plastique\"                 \"Poison Ivy\"               \n",
              "[525] \"Polaris\"                   \"Power Girl\"               \n",
              "[527] \"Power Man\"                 \"Predator\"                 \n",
              "[529] \"Professor X\"               \"Professor Zoom\"           \n",
              "[531] \"Proto-Goblin\"              \"Psylocke\"                 \n",
              "[533] \"Punisher\"                  \"Purple Man\"               \n",
              "[535] \"Pyro\"                      \"Q\"                        \n",
              "[537] \"Quantum\"                   \"Question\"                 \n",
              "[539] \"Quicksilver\"               \"Quill\"                    \n",
              "[541] \"Ra's Al Ghul\"              \"Rachel Pirzad\"            \n",
              "[543] \"Rambo\"                     \"Raphael\"                  \n",
              "[545] \"Raven\"                     \"Ray\"                      \n",
              "[547] \"Razor-Fist II\"             \"Red Arrow\"                \n",
              "[549] \"Red Hood\"                  \"Red Hulk\"                 \n",
              "[551] \"Red Mist\"                  \"Red Robin\"                \n",
              "[553] \"Red Skull\"                 \"Red Tornado\"              \n",
              "[555] \"Redeemer II\"               \"Redeemer III\"             \n",
              "[557] \"Renata Soliz\"              \"Rey\"                      \n",
              "[559] \"Rhino\"                     \"Rick Flag\"                \n",
              "[561] \"Riddler\"                   \"Rip Hunter\"               \n",
              "[563] \"Ripcord\"                   \"Robin\"                    \n",
              "[565] \"Robin II\"                  \"Robin III\"                \n",
              "[567] \"Robin V\"                   \"Robin VI\"                 \n",
              "[569] \"Rocket Raccoon\"            \"Rogue\"                    \n",
              "[571] \"Ronin\"                     \"Rorschach\"                \n",
              "[573] \"Sabretooth\"                \"Sage\"                     \n",
              "[575] \"Sandman\"                   \"Sasquatch\"                \n",
              "[577] \"Sauron\"                    \"Savage Dragon\"            \n",
              "[579] \"Scarecrow\"                 \"Scarlet Spider\"           \n",
              "[581] \"Scarlet Spider II\"         \"Scarlet Witch\"            \n",
              "[583] \"Scorpia\"                   \"Scorpion\"                 \n",
              "[585] \"Sebastian Shaw\"            \"Sentry\"                   \n",
              "[587] \"Shadow King\"               \"Shadow Lass\"              \n",
              "[589] \"Shadowcat\"                 \"Shang-Chi\"                \n",
              "[591] \"Shatterstar\"               \"She-Hulk\"                 \n",
              "[593] \"She-Thing\"                 \"Shocker\"                  \n",
              "[595] \"Shriek\"                    \"Shrinking Violet\"         \n",
              "[597] \"Sif\"                       \"Silk\"                     \n",
              "[599] \"Silk Spectre\"              \"Silk Spectre II\"          \n",
              "[601] \"Silver Surfer\"             \"Silverclaw\"               \n",
              "[603] \"Simon Baz\"                 \"Sinestro\"                 \n",
              "[605] \"Siren\"                     \"Siren II\"                 \n",
              "[607] \"Siryn\"                     \"Skaar\"                    \n",
              "[609] \"Snake-Eyes\"                \"Snowbird\"                 \n",
              "[611] \"Sobek\"                     \"Solomon Grundy\"           \n",
              "[613] \"Songbird\"                  \"Space Ghost\"              \n",
              "[615] \"Spawn\"                     \"Spectre\"                  \n",
              "[617] \"Speedball\"                 \"Speedy\"                   \n",
              "[619] \"Speedy\"                    \"Spider-Carnage\"           \n",
              "[621] \"Spider-Girl\"               \"Spider-Gwen\"              \n",
              "[623] \"Spider-Man\"                \"Spider-Man\"               \n",
              "[625] \"Spider-Man\"                \"Spider-Woman\"             \n",
              "[627] \"Spider-Woman II\"           \"Spider-Woman III\"         \n",
              "[629] \"Spider-Woman IV\"           \"Spock\"                    \n",
              "[631] \"Spyke\"                     \"Stacy X\"                  \n",
              "[633] \"Star-Lord\"                 \"Stardust\"                 \n",
              "[635] \"Starfire\"                  \"Stargirl\"                 \n",
              "[637] \"Static\"                    \"Steel\"                    \n",
              "[639] \"Stephanie Powell\"          \"Steppenwolf\"              \n",
              "[641] \"Storm\"                     \"Stormtrooper\"             \n",
              "[643] \"Sunspot\"                   \"Superboy\"                 \n",
              "[645] \"Superboy-Prime\"            \"Supergirl\"                \n",
              "[647] \"Superman\"                  \"Swamp Thing\"              \n",
              "[649] \"Swarm\"                     \"Sylar\"                    \n",
              "[651] \"Synch\"                     \"T-1000\"                   \n",
              "[653] \"T-800\"                     \"T-850\"                    \n",
              "[655] \"T-X\"                       \"Taskmaster\"               \n",
              "[657] \"Tempest\"                   \"Thanos\"                   \n",
              "[659] \"The Cape\"                  \"The Comedian\"             \n",
              "[661] \"Thing\"                     \"Thor\"                     \n",
              "[663] \"Thor Girl\"                 \"Thunderbird\"              \n",
              "[665] \"Thunderbird II\"            \"Thunderbird III\"          \n",
              "[667] \"Thunderstrike\"             \"Thundra\"                  \n",
              "[669] \"Tiger Shark\"               \"Tigra\"                    \n",
              "[671] \"Tinkerer\"                  \"Titan\"                    \n",
              "[673] \"Toad\"                      \"Toxin\"                    \n",
              "[675] \"Toxin\"                     \"Tracy Strauss\"            \n",
              "[677] \"Trickster\"                 \"Trigon\"                   \n",
              "[679] \"Triplicate Girl\"           \"Triton\"                   \n",
              "[681] \"Two-Face\"                  \"Ultragirl\"                \n",
              "[683] \"Ultron\"                    \"Utgard-Loki\"              \n",
              "[685] \"Vagabond\"                  \"Valerie Hart\"             \n",
              "[687] \"Valkyrie\"                  \"Vanisher\"                 \n",
              "[689] \"Vegeta\"                    \"Venom\"                    \n",
              "[691] \"Venom II\"                  \"Venom III\"                \n",
              "[693] \"Venompool\"                 \"Vertigo II\"               \n",
              "[695] \"Vibe\"                      \"Vindicator\"               \n",
              "[697] \"Vindicator\"                \"Violator\"                 \n",
              "[699] \"Violet Parr\"               \"Vision\"                   \n",
              "[701] \"Vision II\"                 \"Vixen\"                    \n",
              "[703] \"Vulcan\"                    \"Vulture\"                  \n",
              "[705] \"Walrus\"                    \"War Machine\"              \n",
              "[707] \"Warbird\"                   \"Warlock\"                  \n",
              "[709] \"Warp\"                      \"Warpath\"                  \n",
              "[711] \"Wasp\"                      \"Watcher\"                  \n",
              "[713] \"Weapon XI\"                 \"White Canary\"             \n",
              "[715] \"White Queen\"               \"Wildfire\"                 \n",
              "[717] \"Winter Soldier\"            \"Wiz Kid\"                  \n",
              "[719] \"Wolfsbane\"                 \"Wolverine\"                \n",
              "[721] \"Wonder Girl\"               \"Wonder Man\"               \n",
              "[723] \"Wonder Woman\"              \"Wondra\"                   \n",
              "[725] \"Wyatt Wingfoot\"            \"X-23\"                     \n",
              "[727] \"X-Man\"                     \"Yellow Claw\"              \n",
              "[729] \"Yellowjacket\"              \"Yellowjacket II\"          \n",
              "[731] \"Ymir\"                      \"Yoda\"                     \n",
              "[733] \"Zatanna\"                   \"Zoom\"                     "
            ]
          },
          "metadata": {}
        }
      ]
    },
    {
      "cell_type": "markdown",
      "source": [
        "## Visualizations  \n",
        "\n",
        "Создайте диаграмму рассеяния для датасета heroes, для которой координаты по оси x будут взяты из колонки Height, а координаты по оси y — из колонки Weight.\n",
        "\n",
        "Предварительно удалите с графика (=из датафрейма) все экстремальные значения, для которых Weight больше или равен 700 или Height больше или равен 400.\n",
        "\n",
        "Раскрасьте точки в зависимости от Gender, сделайте их полупрозрачными (параметр alpha = 0.6).\n",
        "\n",
        "Разделите график (с помощью facet_wrap()) на три: для \"DC Comics\",\"Marvel Comics\" и всех остальных."
      ],
      "metadata": {
        "id": "qRj5kSYfLUh_"
      }
    },
    {
      "cell_type": "code",
      "source": [
        "heroes_filtered <- heroes %>%\n",
        "  filter(Weight <= 700, Height <= 400) %>%\n",
        "  mutate(Publisher_group = if_else(Publisher %in% c(\"DC Comics\", \"Marvel Comics\"),\n",
        "                              as.character(Publisher), \"The other publishers\")) %>%\n",
        "  select(Height, Weight, Gender, Publisher_group)\n",
        "\n",
        "heroes_filtered %>%\n",
        "  ggplot(aes(x=Height, y=Weight, color=Gender)) +\n",
        "  geom_point(alpha=0.6) +\n",
        "  facet_wrap(~ Publisher_group) +\n",
        "  theme_bw(base_size=15)"
      ],
      "metadata": {
        "colab": {
          "base_uri": "https://localhost:8080/",
          "height": 437
        },
        "id": "Vs8cZceALTZg",
        "outputId": "b5c5d87a-afdf-4bc7-d69d-6473b58dacc7"
      },
      "execution_count": 63,
      "outputs": [
        {
          "output_type": "display_data",
          "data": {
            "text/plain": [
              "plot without title"
            ],
            "image/png": "[encoded data removed]"
          },
          "metadata": {
            "image/png": {
              "width": 420,
              "height": 420
            }
          }
        }
      ]
    }
  ]
}