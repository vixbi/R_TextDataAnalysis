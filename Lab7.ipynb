{
  "nbformat": 4,
  "nbformat_minor": 0,
  "metadata": {
    "colab": {
      "provenance": [],
      "authorship_tag": "ABX9TyM9DOHtFGlDYuTwbATXEJnI"
    },
    "kernelspec": {
      "name": "ir",
      "display_name": "R"
    },
    "language_info": {
      "name": "R"
    }
  },
  "cells": [
    {
      "cell_type": "markdown",
      "source": [
        "Для начала объединим ответы респондентов \"турецкий барабан\" и \"шоколадина\" в один: добавим в данные столбец `pickle`."
      ],
      "metadata": {
        "id": "rKDTE_iofDOe"
      }
    },
    {
      "cell_type": "code",
      "source": [
        "install.packages('corrplot')"
      ],
      "metadata": {
        "colab": {
          "base_uri": "https://localhost:8080/"
        },
        "id": "sr0nuWLF32Oz",
        "outputId": "ea961a72-c841-4c40-84b2-5f5ec0547034"
      },
      "execution_count": 55,
      "outputs": [
        {
          "output_type": "stream",
          "name": "stderr",
          "text": [
            "Installing package into ‘/usr/local/lib/R/site-library’\n",
            "(as ‘lib’ is unspecified)\n",
            "\n"
          ]
        }
      ]
    },
    {
      "cell_type": "code",
      "source": [
        "library(tidyverse)\n",
        "library(corrplot)"
      ],
      "metadata": {
        "colab": {
          "base_uri": "https://localhost:8080/"
        },
        "id": "KoqKfZs-fwjk",
        "outputId": "78603529-b679-48c7-c844-ff54a6072419"
      },
      "execution_count": 56,
      "outputs": [
        {
          "output_type": "stream",
          "name": "stderr",
          "text": [
            "corrplot 0.95 loaded\n",
            "\n"
          ]
        }
      ]
    },
    {
      "cell_type": "code",
      "execution_count": 14,
      "metadata": {
        "colab": {
          "base_uri": "https://localhost:8080/",
          "height": 418
        },
        "id": "qHcidPxDdztU",
        "outputId": "8dd9629b-e3e3-485c-c72e-ebdd5c9fed34"
      },
      "outputs": [
        {
          "output_type": "stream",
          "name": "stdout",
          "text": [
            "spc_tbl_ [63 × 8] (S3: spec_tbl_df/tbl_df/tbl/data.frame)\n",
            " $ X         : num [1:63] 1 2 3 4 5 6 7 8 9 10 ...\n",
            " $ id        : num [1:63] 9 1 3 7 3 8 8 8 10 7 ...\n",
            " $ region    : chr [1:63] \"Moscow\" \"Moscow\" \"Moscow\" \"Moscow\" ...\n",
            " $ fdistrict : chr [1:63] \"Central\" \"Central\" \"Central\" \"Central\" ...\n",
            " $ sex       : chr [1:63] \"male\" \"female\" \"female\" \"male\" ...\n",
            " $ phrase    : chr [1:63] \"соленый огурец\" \"соленый огурец\" \"соленый огурец\" \"соленый огурец\" ...\n",
            " $ phrase.tr : chr [1:63] \"solenyj ogurec\" \"solenyj ogurec\" \"solenyj ogurec\" \"solenyj ogurec\" ...\n",
            " $ phrase.eng: chr [1:63] \"pickle\" \"pickle\" \"pickle\" \"pickle\" ...\n",
            " - attr(*, \"spec\")=\n",
            "  .. cols(\n",
            "  ..   X = \u001b[32mcol_double()\u001b[39m,\n",
            "  ..   id = \u001b[32mcol_double()\u001b[39m,\n",
            "  ..   region = \u001b[31mcol_character()\u001b[39m,\n",
            "  ..   fdistrict = \u001b[31mcol_character()\u001b[39m,\n",
            "  ..   sex = \u001b[31mcol_character()\u001b[39m,\n",
            "  ..   phrase = \u001b[31mcol_character()\u001b[39m,\n",
            "  ..   phrase.tr = \u001b[31mcol_character()\u001b[39m,\n",
            "  ..   phrase.eng = \u001b[31mcol_character()\u001b[39m\n",
            "  .. )\n",
            " - attr(*, \"problems\")=<externalptr> \n"
          ]
        },
        {
          "output_type": "display_data",
          "data": {
            "text/html": [
              "<style>\n",
              ".list-inline {list-style: none; margin:0; padding: 0}\n",
              ".list-inline>li {display: inline-block}\n",
              ".list-inline>li:not(:last-child)::after {content: \"\\00b7\"; padding: 0 .5ex}\n",
              "</style>\n",
              "<ol class=list-inline><li>'соленый огурец'</li><li>'турецкий барабан'</li><li>'шоколадина'</li></ol>\n"
            ],
            "text/markdown": "1. 'соленый огурец'\n2. 'турецкий барабан'\n3. 'шоколадина'\n\n\n",
            "text/latex": "\\begin{enumerate*}\n\\item 'соленый огурец'\n\\item 'турецкий барабан'\n\\item 'шоколадина'\n\\end{enumerate*}\n",
            "text/plain": [
              "[1] \"соленый огурец\"   \"турецкий барабан\" \"шоколадина\"      "
            ]
          },
          "metadata": {}
        }
      ],
      "source": [
        "soc <- read_csv(\"https://raw.githubusercontent.com/olesar/2023dav4compling/main/data/socling.csv\",\n",
        "show_col_types = FALSE)\n",
        "str(soc)\n",
        "unique(soc$phrase)"
      ]
    },
    {
      "cell_type": "code",
      "source": [
        "# строки в факторы\n",
        "soc %>% mutate_if(is.character, factor) -> soc\n",
        "soc_new <- soc %>%\n",
        "  mutate(pickle=factor(ifelse(phrase == \"турецкий барабан\" | phrase == \"шоколадина\", 0, 1)))\n",
        "head(soc_new)"
      ],
      "metadata": {
        "colab": {
          "base_uri": "https://localhost:8080/",
          "height": 286
        },
        "id": "u8nAsqjohgE4",
        "outputId": "26501bcc-3b12-4973-b336-ffd10c4bbfbf"
      },
      "execution_count": 23,
      "outputs": [
        {
          "output_type": "display_data",
          "data": {
            "text/html": [
              "<table class=\"dataframe\">\n",
              "<caption>A tibble: 6 × 9</caption>\n",
              "<thead>\n",
              "\t<tr><th scope=col>X</th><th scope=col>id</th><th scope=col>region</th><th scope=col>fdistrict</th><th scope=col>sex</th><th scope=col>phrase</th><th scope=col>phrase.tr</th><th scope=col>phrase.eng</th><th scope=col>pickle</th></tr>\n",
              "\t<tr><th scope=col>&lt;dbl&gt;</th><th scope=col>&lt;dbl&gt;</th><th scope=col>&lt;fct&gt;</th><th scope=col>&lt;fct&gt;</th><th scope=col>&lt;fct&gt;</th><th scope=col>&lt;fct&gt;</th><th scope=col>&lt;fct&gt;</th><th scope=col>&lt;fct&gt;</th><th scope=col>&lt;fct&gt;</th></tr>\n",
              "</thead>\n",
              "<tbody>\n",
              "\t<tr><td>1</td><td>9</td><td>Moscow</td><td>Central</td><td>male  </td><td>соленый огурец</td><td>solenyj ogurec</td><td>pickle</td><td>1</td></tr>\n",
              "\t<tr><td>2</td><td>1</td><td>Moscow</td><td>Central</td><td>female</td><td>соленый огурец</td><td>solenyj ogurec</td><td>pickle</td><td>1</td></tr>\n",
              "\t<tr><td>3</td><td>3</td><td>Moscow</td><td>Central</td><td>female</td><td>соленый огурец</td><td>solenyj ogurec</td><td>pickle</td><td>1</td></tr>\n",
              "\t<tr><td>4</td><td>7</td><td>Moscow</td><td>Central</td><td>male  </td><td>соленый огурец</td><td>solenyj ogurec</td><td>pickle</td><td>1</td></tr>\n",
              "\t<tr><td>5</td><td>3</td><td>Moscow</td><td>Central</td><td>female</td><td>соленый огурец</td><td>solenyj ogurec</td><td>pickle</td><td>1</td></tr>\n",
              "\t<tr><td>6</td><td>8</td><td>Moscow</td><td>Central</td><td>male  </td><td>соленый огурец</td><td>solenyj ogurec</td><td>pickle</td><td>1</td></tr>\n",
              "</tbody>\n",
              "</table>\n"
            ],
            "text/markdown": "\nA tibble: 6 × 9\n\n| X &lt;dbl&gt; | id &lt;dbl&gt; | region &lt;fct&gt; | fdistrict &lt;fct&gt; | sex &lt;fct&gt; | phrase &lt;fct&gt; | phrase.tr &lt;fct&gt; | phrase.eng &lt;fct&gt; | pickle &lt;fct&gt; |\n|---|---|---|---|---|---|---|---|---|\n| 1 | 9 | Moscow | Central | male   | соленый огурец | solenyj ogurec | pickle | 1 |\n| 2 | 1 | Moscow | Central | female | соленый огурец | solenyj ogurec | pickle | 1 |\n| 3 | 3 | Moscow | Central | female | соленый огурец | solenyj ogurec | pickle | 1 |\n| 4 | 7 | Moscow | Central | male   | соленый огурец | solenyj ogurec | pickle | 1 |\n| 5 | 3 | Moscow | Central | female | соленый огурец | solenyj ogurec | pickle | 1 |\n| 6 | 8 | Moscow | Central | male   | соленый огурец | solenyj ogurec | pickle | 1 |\n\n",
            "text/latex": "A tibble: 6 × 9\n\\begin{tabular}{lllllllll}\n X & id & region & fdistrict & sex & phrase & phrase.tr & phrase.eng & pickle\\\\\n <dbl> & <dbl> & <fct> & <fct> & <fct> & <fct> & <fct> & <fct> & <fct>\\\\\n\\hline\n\t 1 & 9 & Moscow & Central & male   & соленый огурец & solenyj ogurec & pickle & 1\\\\\n\t 2 & 1 & Moscow & Central & female & соленый огурец & solenyj ogurec & pickle & 1\\\\\n\t 3 & 3 & Moscow & Central & female & соленый огурец & solenyj ogurec & pickle & 1\\\\\n\t 4 & 7 & Moscow & Central & male   & соленый огурец & solenyj ogurec & pickle & 1\\\\\n\t 5 & 3 & Moscow & Central & female & соленый огурец & solenyj ogurec & pickle & 1\\\\\n\t 6 & 8 & Moscow & Central & male   & соленый огурец & solenyj ogurec & pickle & 1\\\\\n\\end{tabular}\n",
            "text/plain": [
              "  X id region fdistrict sex    phrase         phrase.tr      phrase.eng pickle\n",
              "1 1 9  Moscow Central   male   соленый огурец solenyj ogurec pickle     1     \n",
              "2 2 1  Moscow Central   female соленый огурец solenyj ogurec pickle     1     \n",
              "3 3 3  Moscow Central   female соленый огурец solenyj ogurec pickle     1     \n",
              "4 4 7  Moscow Central   male   соленый огурец solenyj ogurec pickle     1     \n",
              "5 5 3  Moscow Central   female соленый огурец solenyj ogurec pickle     1     \n",
              "6 6 8  Moscow Central   male   соленый огурец solenyj ogurec pickle     1     "
            ]
          },
          "metadata": {}
        }
      ]
    },
    {
      "cell_type": "markdown",
      "source": [
        "Исследуйте (не)зависимость выбора продолжения дразнилки от пола (переменная `sex`). Сформулируйте нулевую гипотезу и примените необходимый тест (не забывая проверить допущения!). Сформулируйте статистический вывод и содержательную интерпретацию.  "
      ],
      "metadata": {
        "id": "IWUzCnDNi0Bc"
      }
    },
    {
      "cell_type": "markdown",
      "source": [
        "- `Нулевая гипотеза:`\n",
        "\n",
        "Выбор фразы (огурец/не огурец) в генеральной совокупности не зависит от пола говорящего.\n",
        "\n",
        "- `Альтернативная гипотеза:`\n",
        "\n",
        "Выбор фразы (огурец/не огурец) в генеральной совокупности зависит от пола говорящего.\n",
        "\n",
        "**Допущения хи-квадрата:**\n",
        "\n",
        "- Исследуемые переменные являются категориальными **(да)**\n",
        "- Данные в таблице сопряженности представляют количество наблюдений (не проценты) **(да)**\n",
        "- Ожидаемые значения во всех ячейках (варианты: почти все, 80% ячеек) содержат более 5 наблюдений **(да)**\n",
        "- Каждое наблюдение вносит свой вклад только в одну группу (независимость) **(да)**\n",
        "- Группы независимы **(да)**\n",
        "- Выборка, предположительно, достаточно случайна **(да)**"
      ],
      "metadata": {
        "id": "OR__Zd1HjK8J"
      }
    },
    {
      "cell_type": "code",
      "source": [
        "# таблица сопряженности\n",
        "soc_tab <- soc %>%\n",
        "  select(phrase, sex) %>%\n",
        "  table()\n",
        "soc_tab"
      ],
      "metadata": {
        "colab": {
          "base_uri": "https://localhost:8080/",
          "height": 108
        },
        "id": "z_PwTYaHiw2G",
        "outputId": "6adbcdcb-ae95-4343-c807-072bdd0947a2"
      },
      "execution_count": 25,
      "outputs": [
        {
          "output_type": "display_data",
          "data": {
            "text/plain": [
              "                  sex\n",
              "phrase             female male\n",
              "  соленый огурец       24   23\n",
              "  турецкий барабан      9    1\n",
              "  шоколадина            1    5"
            ]
          },
          "metadata": {}
        }
      ]
    },
    {
      "cell_type": "code",
      "source": [
        "# тест хи-квадрат\n",
        "soc.chisq <- chisq.test(soc_tab)\n",
        "soc.chisq"
      ],
      "metadata": {
        "colab": {
          "base_uri": "https://localhost:8080/",
          "height": 145
        },
        "id": "eJIeplIYk-LU",
        "outputId": "9d390058-ba7e-4fe9-f914-1ea5475fb389"
      },
      "execution_count": 27,
      "outputs": [
        {
          "output_type": "stream",
          "name": "stderr",
          "text": [
            "Warning message in chisq.test(soc_tab):\n",
            "“Chi-squared approximation may be incorrect”\n"
          ]
        },
        {
          "output_type": "display_data",
          "data": {
            "text/plain": [
              "\n",
              "\tPearson's Chi-squared test\n",
              "\n",
              "data:  soc_tab\n",
              "X-squared = 8.7462, df = 2, p-value = 0.01261\n"
            ]
          },
          "metadata": {}
        }
      ]
    },
    {
      "cell_type": "markdown",
      "source": [
        "**Содержательная интерпретация**\n",
        "\n",
        "Чтобы проверить гипотезу о том, влияет ли фактор пола на выбор фразы в поговорке, был проведент тест хи-квадрат. Результаты показали, что фактор пола не играет значимой разницы (X-squared = 8.7462, df = 2, p-value = 0.01261)."
      ],
      "metadata": {
        "id": "ZumVyIHglMtB"
      }
    },
    {
      "cell_type": "markdown",
      "source": [
        "### Данные: выбор суффикса прилагательного в испанском языке  \n",
        "\n",
        "Данные из статьи Антонио Фабрегаса (Fábregas 2015)[https://doi.org/10.18710/GSI6B4] документируют выбор алломорфа адъективного суффикса _-ivo_ (_admirativo_ vs. _agresivo_) в зависимости от формальных и содержательных факторов. Важные для нас переменные:   \n",
        "* `Last_consonant` перед _-ivo_ -- `t` или `s`\n",
        "* `Theme_vowel`\t-- наличие/отсутствие тематической гласной из спряжения глагола перед суффиксом   \n",
        "Другие переменные:  \n",
        "* `Adjective`\t-- прилагательное  \n",
        "* `Base_verb`\t-- исходный глагол  \n",
        "* `Demotivation` -- композициональное значение (N) vs. демотивированное значение (Y, не связанное с современным значением глагола)\n",
        "* `Allomorphy` -- представлены ли в прилагательном регулярная основа спряжения глагола (R) или алломорф, не представленный в финитных формах (I)\n",
        "* `Meaning`\t-- активное значение (A), пассивное значение (P), NA (N, для демотивированных значений)  \n",
        "* `Possible_nominal_base` -- возможная именная основа: приводится основа или N (нет основы)  \n",
        "\n",
        "### Упражнение 2\n",
        "\n",
        "Исследуйте (не)зависимость двух переменных: согласной перед суффиксом _-ivo_ (`Last_consonant`) и наличия тематической гласной (`Theme_vowel`). Сформулируйте нулевую гипотезу и примените необходимый тест (не забывая проверить допущения!). Сформулируйте статистический вывод и содержательную интерпретацию.  \n"
      ],
      "metadata": {
        "id": "sTNbiJNIlqHC"
      }
    },
    {
      "cell_type": "markdown",
      "source": [
        "- `Нулевая гипотеза:`\n",
        "\n",
        "Вариация согласных перед суффиксом -ivo не зависит от наличия тематической гласной.\n",
        "\n",
        "- `Альтернативная гипотеза:`\n",
        "\n",
        "Вариация согласных перед суффиксом -ivo зависит от наличия тематической гласной.\n",
        "\n",
        "**Допущения хи-квадрата:**\n",
        "\n",
        "- Исследуемые переменные являются категориальными **(да)**\n",
        "- Данные в таблице сопряженности представляют количество наблюдений (не проценты) **(да)**\n",
        "- Ожидаемые значения во всех ячейках (варианты: почти все, 80% ячеек) содержат более 5 наблюдений **(да)**\n",
        "- Каждое наблюдение вносит свой вклад только в одну группу (независимость) **(да)**\n",
        "- Группы независимы **(да)**\n",
        "- Выборка, предположительно, достаточно случайна **(да)**"
      ],
      "metadata": {
        "id": "IY8ciHjulxDv"
      }
    },
    {
      "cell_type": "code",
      "source": [
        "ivo_dataset <- read_csv(\"https://raw.githubusercontent.com/olesar/2023dav4compling/main/data/spanish_tivo.csv\",\n",
        "show_col_types=FALSE)\n",
        "ivo_dataset <- ivo_dataset %>%\n",
        "    mutate_all(factor)\n",
        "ivo_set <- ivo_dataset %>%\n",
        "  select(Last_consonant, Theme_vowel) %>%\n",
        "  mutate_all(factor)"
      ],
      "metadata": {
        "id": "kZoCw9Enm8JE"
      },
      "execution_count": 38,
      "outputs": []
    },
    {
      "cell_type": "code",
      "source": [
        "ivo_set_tab <- ivo_set %>%\n",
        "  table()\n",
        "ivo_set_tab"
      ],
      "metadata": {
        "colab": {
          "base_uri": "https://localhost:8080/",
          "height": 90
        },
        "id": "I0H8z4B9njFN",
        "outputId": "bad8609e-02fb-4ccd-9578-cc1fb8c50735"
      },
      "execution_count": 34,
      "outputs": [
        {
          "output_type": "display_data",
          "data": {
            "text/plain": [
              "              Theme_vowel\n",
              "Last_consonant  no yes\n",
              "             s  45   0\n",
              "             t  57 245"
            ]
          },
          "metadata": {}
        }
      ]
    },
    {
      "cell_type": "code",
      "source": [
        "# тест хи-квадрат\n",
        "ivo_set.chisq <- chisq.test(ivo_set_tab)\n",
        "ivo_set.chisq"
      ],
      "metadata": {
        "colab": {
          "base_uri": "https://localhost:8080/",
          "height": 108
        },
        "id": "fL_2u63cnqc6",
        "outputId": "39ec17e4-d66a-419e-ac35-cddff86fbda5"
      },
      "execution_count": 35,
      "outputs": [
        {
          "output_type": "display_data",
          "data": {
            "text/plain": [
              "\n",
              "\tPearson's Chi-squared test with Yates' continuity correction\n",
              "\n",
              "data:  ivo_set_tab\n",
              "X-squared = 120.32, df = 1, p-value < 2.2e-16\n"
            ]
          },
          "metadata": {}
        }
      ]
    },
    {
      "cell_type": "markdown",
      "source": [
        "**Содержательная интерпретация**\n",
        "\n",
        "Чтобы проверить гипотезу о том, есть ли связь между наличием тематической гласной и выбором последнего согласного, был проведет тест хи-квадрат. Он показал, что существует статистически значимая связь между этими двумя факторами (X-squared = 120.32, df = 1, p-value < 2.2e-16)."
      ],
      "metadata": {
        "id": "3N05hU_wn369"
      }
    },
    {
      "cell_type": "markdown",
      "source": [
        "### Упражнение 3  \n",
        "\n",
        "На данных о выборе алломорфа адъективного суффикса _-ivo_ исследуйте связь между переменными `Last_consonant` и `Allomorphy`. Последняя указывает на то, используется ли в прилагательном алломорф основы, представленный в финитных формах глагола или другой нерегулярный алломорф.  "
      ],
      "metadata": {
        "id": "vjeQ8gD1okX6"
      }
    },
    {
      "cell_type": "code",
      "source": [
        "ivo_all <- ivo_dataset %>%\n",
        "  select(Last_consonant, Allomorphy)\n",
        "\n",
        "ivo_all_tab <- ivo_all %>% table()\n",
        "ivo_all_tab"
      ],
      "metadata": {
        "colab": {
          "base_uri": "https://localhost:8080/",
          "height": 90
        },
        "id": "xoej2K-Cozya",
        "outputId": "9277283c-dec6-46f8-8bf3-9f68c8cefadb"
      },
      "execution_count": 41,
      "outputs": [
        {
          "output_type": "display_data",
          "data": {
            "text/plain": [
              "              Allomorphy\n",
              "Last_consonant   I   R\n",
              "             s  35  10\n",
              "             t  43 259"
            ]
          },
          "metadata": {}
        }
      ]
    },
    {
      "cell_type": "code",
      "source": [
        "# тест хи-квадрат\n",
        "ivo_set.chisq <- chisq.test(ivo_all_tab)\n",
        "ivo_set.chisq"
      ],
      "metadata": {
        "colab": {
          "base_uri": "https://localhost:8080/",
          "height": 108
        },
        "id": "KOAYarh6qFU-",
        "outputId": "6d3bf8fb-1240-4864-a240-8e671a961efd"
      },
      "execution_count": 42,
      "outputs": [
        {
          "output_type": "display_data",
          "data": {
            "text/plain": [
              "\n",
              "\tPearson's Chi-squared test with Yates' continuity correction\n",
              "\n",
              "data:  ivo_all_tab\n",
              "X-squared = 87.128, df = 1, p-value < 2.2e-16\n"
            ]
          },
          "metadata": {}
        }
      ]
    },
    {
      "cell_type": "markdown",
      "source": [
        "### Упражнение 4  \n",
        "Выше был дан пример визуализации для таблицы сопряженности из датасета \"Жадина-говядина\". Визуализируйте связь между значениями переменных другими способами."
      ],
      "metadata": {
        "id": "F5HeGNrMqM7h"
      }
    },
    {
      "cell_type": "code",
      "source": [
        "corrplot(ivo_set.chisq$stdres,\n",
        "         method = \"color\",\n",
        "         is.corr = FALSE,\n",
        "         title = \"Стандартизированные остатки\",\n",
        "         col = colorRampPalette(c(\"#FFEEEE\", \"#FF9999\", \"#FF0000\"))(100),\n",
        "         bg = \"white\")"
      ],
      "metadata": {
        "colab": {
          "base_uri": "https://localhost:8080/",
          "height": 437
        },
        "id": "w9BPrgOc3lLM",
        "outputId": "0300062c-1adc-44bb-ec22-a03d8ae1c7c5"
      },
      "execution_count": 64,
      "outputs": [
        {
          "output_type": "display_data",
          "data": {
            "text/plain": [
              "Plot with title “Стандартизированные остатки”"
            ],
            "image/png": "[encoded data removed]"
          },
          "metadata": {
            "image/png": {
              "width": 420,
              "height": 420
            }
          }
        }
      ]
    }
  ]
}