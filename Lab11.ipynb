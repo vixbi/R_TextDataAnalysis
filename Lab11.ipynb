{
  "nbformat": 4,
  "nbformat_minor": 0,
  "metadata": {
    "colab": {
      "provenance": [],
      "authorship_tag": "ABX9TyNNtu2r80mhcfdHQt84GxuS"
    },
    "kernelspec": {
      "name": "ir",
      "display_name": "R"
    },
    "language_info": {
      "name": "R"
    }
  },
  "cells": [
    {
      "cell_type": "code",
      "source": [
        "install.packages('ggfortify')\n",
        "install.packages('ca')"
      ],
      "metadata": {
        "colab": {
          "base_uri": "https://localhost:8080/"
        },
        "id": "LQ-GYNetAMOz",
        "outputId": "4f4b37ff-fc08-4553-a7e5-c4c343a5a7f5"
      },
      "execution_count": null,
      "outputs": [
        {
          "output_type": "stream",
          "name": "stderr",
          "text": [
            "Installing package into ‘/usr/local/lib/R/site-library’\n",
            "(as ‘lib’ is unspecified)\n",
            "\n",
            "Installing package into ‘/usr/local/lib/R/site-library’\n",
            "(as ‘lib’ is unspecified)\n",
            "\n"
          ]
        }
      ]
    },
    {
      "cell_type": "code",
      "execution_count": null,
      "metadata": {
        "id": "NiCMA77LzPQp"
      },
      "outputs": [],
      "source": [
        "library(tidyverse)\n",
        "library(ggfortify)\n",
        "library(ca)"
      ]
    },
    {
      "cell_type": "code",
      "source": [
        "poetry <- read_delim(\"poetry_last_in_lines.csv\")"
      ],
      "metadata": {
        "colab": {
          "base_uri": "https://localhost:8080/"
        },
        "id": "nRPN-gNb3EkK",
        "outputId": "8de2a5d5-f6f1-4ec4-94e9-44857088f41d"
      },
      "execution_count": null,
      "outputs": [
        {
          "output_type": "stream",
          "name": "stderr",
          "text": [
            "\u001b[1mRows: \u001b[22m\u001b[34m364\u001b[39m \u001b[1mColumns: \u001b[22m\u001b[34m6\u001b[39m\n",
            "\u001b[36m──\u001b[39m \u001b[1mColumn specification\u001b[22m \u001b[36m────────────────────────────────────────────────────────\u001b[39m\n",
            "\u001b[1mDelimiter:\u001b[22m \"\\t\"\n",
            "\u001b[31mchr\u001b[39m (3): UPoS, LineText, Author\n",
            "\u001b[32mdbl\u001b[39m (3): Decade, RhymedNwords, RhymedNsyl\n",
            "\n",
            "\u001b[36mℹ\u001b[39m Use `spec()` to retrieve the full column specification for this data.\n",
            "\u001b[36mℹ\u001b[39m Specify the column types or set `show_col_types = FALSE` to quiet this message.\n"
          ]
        }
      ]
    },
    {
      "cell_type": "markdown",
      "source": [
        "Пользуясь переменными Decade и UPoS, постройте таблицу сопряженности и визуализируйте связь между декадами и частями речи. Какая кумулятивная объясненная дисперсия у визуализации по Dim1 и Dim2?"
      ],
      "metadata": {
        "id": "4ujmWaL24EPO"
      }
    },
    {
      "cell_type": "code",
      "source": [
        "poetry_table <- poetry %>%\n",
        "  select(Decade, UPoS) %>%\n",
        "  table()\n",
        "poetry_df <- data.frame(poetry_table)\n",
        "head(poetry_df)"
      ],
      "metadata": {
        "colab": {
          "base_uri": "https://localhost:8080/",
          "height": 286
        },
        "id": "AdRJQvii4D4I",
        "outputId": "ef4bf3c8-ccbf-4002-d7d6-bdc4b051e005"
      },
      "execution_count": null,
      "outputs": [
        {
          "output_type": "display_data",
          "data": {
            "text/html": [
              "<table class=\"dataframe\">\n",
              "<caption>A data.frame: 6 × 3</caption>\n",
              "<thead>\n",
              "\t<tr><th></th><th scope=col>Decade</th><th scope=col>UPoS</th><th scope=col>Freq</th></tr>\n",
              "\t<tr><th></th><th scope=col>&lt;fct&gt;</th><th scope=col>&lt;fct&gt;</th><th scope=col>&lt;int&gt;</th></tr>\n",
              "</thead>\n",
              "<tbody>\n",
              "\t<tr><th scope=row>1</th><td>1820</td><td>ADJ</td><td>12</td></tr>\n",
              "\t<tr><th scope=row>2</th><td>1920</td><td>ADJ</td><td>40</td></tr>\n",
              "\t<tr><th scope=row>3</th><td>1820</td><td>ADP</td><td> 0</td></tr>\n",
              "\t<tr><th scope=row>4</th><td>1920</td><td>ADP</td><td> 1</td></tr>\n",
              "\t<tr><th scope=row>5</th><td>1820</td><td>ADV</td><td> 5</td></tr>\n",
              "\t<tr><th scope=row>6</th><td>1920</td><td>ADV</td><td>11</td></tr>\n",
              "</tbody>\n",
              "</table>\n"
            ],
            "text/markdown": "\nA data.frame: 6 × 3\n\n| <!--/--> | Decade &lt;fct&gt; | UPoS &lt;fct&gt; | Freq &lt;int&gt; |\n|---|---|---|---|\n| 1 | 1820 | ADJ | 12 |\n| 2 | 1920 | ADJ | 40 |\n| 3 | 1820 | ADP |  0 |\n| 4 | 1920 | ADP |  1 |\n| 5 | 1820 | ADV |  5 |\n| 6 | 1920 | ADV | 11 |\n\n",
            "text/latex": "A data.frame: 6 × 3\n\\begin{tabular}{r|lll}\n  & Decade & UPoS & Freq\\\\\n  & <fct> & <fct> & <int>\\\\\n\\hline\n\t1 & 1820 & ADJ & 12\\\\\n\t2 & 1920 & ADJ & 40\\\\\n\t3 & 1820 & ADP &  0\\\\\n\t4 & 1920 & ADP &  1\\\\\n\t5 & 1820 & ADV &  5\\\\\n\t6 & 1920 & ADV & 11\\\\\n\\end{tabular}\n",
            "text/plain": [
              "  Decade UPoS Freq\n",
              "1 1820   ADJ  12  \n",
              "2 1920   ADJ  40  \n",
              "3 1820   ADP   0  \n",
              "4 1920   ADP   1  \n",
              "5 1820   ADV   5  \n",
              "6 1920   ADV  11  "
            ]
          },
          "metadata": {}
        }
      ]
    },
    {
      "cell_type": "code",
      "source": [
        "poetry_table"
      ],
      "metadata": {
        "colab": {
          "base_uri": "https://localhost:8080/",
          "height": 90
        },
        "id": "acgaAS4i74Cc",
        "outputId": "29a5c337-b66c-49ed-e957-29bd1a7bde3d"
      },
      "execution_count": null,
      "outputs": [
        {
          "output_type": "display_data",
          "data": {
            "text/plain": [
              "      UPoS\n",
              "Decade ADJ ADP ADV DET INTJ NOUN NUM PART PRON VERB   X\n",
              "  1820  12   0   5   3    0   49   0    0    3   15   0\n",
              "  1920  40   1  11   3    1  173   3    2    3   39   1"
            ]
          },
          "metadata": {}
        }
      ]
    },
    {
      "cell_type": "code",
      "source": [
        "poetry_df %>%\n",
        "  ggplot(aes(x=Decade, y=Freq, fill=UPoS)) +\n",
        "  geom_col()"
      ],
      "metadata": {
        "colab": {
          "base_uri": "https://localhost:8080/",
          "height": 437
        },
        "id": "yQk_9NYF5uaJ",
        "outputId": "5ca73a2f-c5fb-4643-8303-42ca7b9a771d"
      },
      "execution_count": null,
      "outputs": [
        {
          "output_type": "display_data",
          "data": {
            "text/plain": [
              "plot without title"
            ],
            "image/png": "[encoded data removed]"
          },
          "metadata": {
            "image/png": {
              "width": 420,
              "height": 420
            }
          }
        }
      ]
    },
    {
      "cell_type": "code",
      "source": [
        "poetry_wide_decades <- poetry_df %>%\n",
        "  pivot_wider(names_from = Decade, values_from = Freq, values_fill=0)\n",
        "poetry_wide_decades <- poetry_wide_decades %>%\n",
        "  select(`1820`, `1920`)\n",
        "poetry_wide_decades"
      ],
      "metadata": {
        "colab": {
          "base_uri": "https://localhost:8080/",
          "height": 443
        },
        "collapsed": true,
        "id": "PUNNetIs4krP",
        "outputId": "fd8ff595-5359-4b87-be94-ef178f5fe8c5"
      },
      "execution_count": null,
      "outputs": [
        {
          "output_type": "display_data",
          "data": {
            "text/html": [
              "<table class=\"dataframe\">\n",
              "<caption>A tibble: 11 × 2</caption>\n",
              "<thead>\n",
              "\t<tr><th scope=col>1820</th><th scope=col>1920</th></tr>\n",
              "\t<tr><th scope=col>&lt;int&gt;</th><th scope=col>&lt;int&gt;</th></tr>\n",
              "</thead>\n",
              "<tbody>\n",
              "\t<tr><td>12</td><td> 40</td></tr>\n",
              "\t<tr><td> 0</td><td>  1</td></tr>\n",
              "\t<tr><td> 5</td><td> 11</td></tr>\n",
              "\t<tr><td> 3</td><td>  3</td></tr>\n",
              "\t<tr><td> 0</td><td>  1</td></tr>\n",
              "\t<tr><td>49</td><td>173</td></tr>\n",
              "\t<tr><td> 0</td><td>  3</td></tr>\n",
              "\t<tr><td> 0</td><td>  2</td></tr>\n",
              "\t<tr><td> 3</td><td>  3</td></tr>\n",
              "\t<tr><td>15</td><td> 39</td></tr>\n",
              "\t<tr><td> 0</td><td>  1</td></tr>\n",
              "</tbody>\n",
              "</table>\n"
            ],
            "text/markdown": "\nA tibble: 11 × 2\n\n| 1820 &lt;int&gt; | 1920 &lt;int&gt; |\n|---|---|\n| 12 |  40 |\n|  0 |   1 |\n|  5 |  11 |\n|  3 |   3 |\n|  0 |   1 |\n| 49 | 173 |\n|  0 |   3 |\n|  0 |   2 |\n|  3 |   3 |\n| 15 |  39 |\n|  0 |   1 |\n\n",
            "text/latex": "A tibble: 11 × 2\n\\begin{tabular}{ll}\n 1820 & 1920\\\\\n <int> & <int>\\\\\n\\hline\n\t 12 &  40\\\\\n\t  0 &   1\\\\\n\t  5 &  11\\\\\n\t  3 &   3\\\\\n\t  0 &   1\\\\\n\t 49 & 173\\\\\n\t  0 &   3\\\\\n\t  0 &   2\\\\\n\t  3 &   3\\\\\n\t 15 &  39\\\\\n\t  0 &   1\\\\\n\\end{tabular}\n",
            "text/plain": [
              "   1820 1920\n",
              "1  12    40 \n",
              "2   0     1 \n",
              "3   5    11 \n",
              "4   3     3 \n",
              "5   0     1 \n",
              "6  49   173 \n",
              "7   0     3 \n",
              "8   0     2 \n",
              "9   3     3 \n",
              "10 15    39 \n",
              "11  0     1 "
            ]
          },
          "metadata": {}
        }
      ]
    },
    {
      "cell_type": "code",
      "source": [
        "pca_result <- prcomp(poetry_wide_decades)\n",
        "summary(pca_result)"
      ],
      "metadata": {
        "colab": {
          "base_uri": "https://localhost:8080/",
          "height": 108
        },
        "id": "hQtXcMIF8zn-",
        "outputId": "ae3fb471-d154-492f-eff3-2946b6afd46e"
      },
      "execution_count": null,
      "outputs": [
        {
          "output_type": "display_data",
          "data": {
            "text/plain": [
              "Importance of components:\n",
              "                           PC1     PC2\n",
              "Standard deviation     53.2285 1.47584\n",
              "Proportion of Variance  0.9992 0.00077\n",
              "Cumulative Proportion   0.9992 1.00000"
            ]
          },
          "metadata": {}
        }
      ]
    },
    {
      "cell_type": "code",
      "source": [
        "autoplot(pca_result,\n",
        "         shape = FALSE,\n",
        "         loadings = TRUE,\n",
        "         label = TRUE,\n",
        "         loadings.label = TRUE)+\n",
        "  theme_bw()"
      ],
      "metadata": {
        "colab": {
          "base_uri": "https://localhost:8080/",
          "height": 437
        },
        "id": "8o5Pfzma98yW",
        "outputId": "7744b177-5f81-4546-cbc9-77bb16ce1f40"
      },
      "execution_count": null,
      "outputs": [
        {
          "output_type": "display_data",
          "data": {
            "text/plain": [
              "plot without title"
            ],
            "image/png": "[encoded data removed]"
          },
          "metadata": {
            "image/png": {
              "width": 420,
              "height": 420
            }
          }
        }
      ]
    },
    {
      "cell_type": "markdown",
      "source": [
        "Проанализируйте визуализацию и напишите (в личку) ваши выводы, касающиеся ассоциации между временем и употреблением частей речи в зоне рифмовке (макс. 5 интересных как положительных, так и нейтральных и отрицательных ассоциаций)"
      ],
      "metadata": {
        "id": "dR_5z7YsApeL"
      }
    },
    {
      "cell_type": "code",
      "source": [
        "poetry_long <- data.frame(poetry_table)\n",
        "\n",
        "poetry_wide <- poetry_long %>%\n",
        "  pivot_wider(\n",
        "    names_from = Decade,\n",
        "    values_from = Freq,\n",
        "    values_fill = 0\n",
        "  ) %>%\n",
        "  column_to_rownames(\"UPoS\")\n",
        "poetry_wide <- poetry_wide[, colSums(poetry_wide) > 0]"
      ],
      "metadata": {
        "id": "4npcqVzjHO7k"
      },
      "execution_count": null,
      "outputs": []
    }
  ]
}