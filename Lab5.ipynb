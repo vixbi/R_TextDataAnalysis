{
  "nbformat": 4,
  "nbformat_minor": 0,
  "metadata": {
    "colab": {
      "provenance": [],
      "authorship_tag": "ABX9TyPMQiTYWzzQEWLZuKbH3etr"
    },
    "kernelspec": {
      "name": "ir",
      "display_name": "R"
    },
    "language_info": {
      "name": "R"
    }
  },
  "cells": [
    {
      "cell_type": "markdown",
      "source": [
        "1) построить боксплот для переменной vowel.dur при условиях, заданных в столбце roundness с использованием ggplot и аргумента notch=TRUE в геоме geom_boxplot; нанести на боксплот медиану или среднее для каждого ящика в виде точки\n",
        "\n",
        "2) применить t-test и его непараметрический аналог"
      ],
      "metadata": {
        "id": "-LerFNnEQuTt"
      }
    },
    {
      "cell_type": "code",
      "source": [
        "library(tidyverse)"
      ],
      "metadata": {
        "colab": {
          "base_uri": "https://localhost:8080/"
        },
        "id": "aZdwGO30Q-Ip",
        "outputId": "7988b6b0-49e0-4117-c405-111c85b7bffe"
      },
      "execution_count": 1,
      "outputs": [
        {
          "output_type": "stream",
          "name": "stderr",
          "text": [
            "── \u001b[1mAttaching core tidyverse packages\u001b[22m ──────────────────────── tidyverse 2.0.0 ──\n",
            "\u001b[32m✔\u001b[39m \u001b[34mdplyr    \u001b[39m 1.1.4     \u001b[32m✔\u001b[39m \u001b[34mreadr    \u001b[39m 2.1.5\n",
            "\u001b[32m✔\u001b[39m \u001b[34mforcats  \u001b[39m 1.0.0     \u001b[32m✔\u001b[39m \u001b[34mstringr  \u001b[39m 1.5.1\n",
            "\u001b[32m✔\u001b[39m \u001b[34mggplot2  \u001b[39m 3.5.2     \u001b[32m✔\u001b[39m \u001b[34mtibble   \u001b[39m 3.2.1\n",
            "\u001b[32m✔\u001b[39m \u001b[34mlubridate\u001b[39m 1.9.4     \u001b[32m✔\u001b[39m \u001b[34mtidyr    \u001b[39m 1.3.1\n",
            "\u001b[32m✔\u001b[39m \u001b[34mpurrr    \u001b[39m 1.0.4     \n",
            "── \u001b[1mConflicts\u001b[22m ────────────────────────────────────────── tidyverse_conflicts() ──\n",
            "\u001b[31m✖\u001b[39m \u001b[34mdplyr\u001b[39m::\u001b[32mfilter()\u001b[39m masks \u001b[34mstats\u001b[39m::filter()\n",
            "\u001b[31m✖\u001b[39m \u001b[34mdplyr\u001b[39m::\u001b[32mlag()\u001b[39m    masks \u001b[34mstats\u001b[39m::lag()\n",
            "\u001b[36mℹ\u001b[39m Use the conflicted package (\u001b[3m\u001b[34m<http://conflicted.r-lib.org/>\u001b[39m\u001b[23m) to force all conflicts to become errors\n"
          ]
        }
      ]
    },
    {
      "cell_type": "code",
      "execution_count": 5,
      "metadata": {
        "colab": {
          "base_uri": "https://localhost:8080/"
        },
        "id": "AwIE1LW1QfUv",
        "outputId": "9a24f6bb-18b1-4fc8-9124-f9d5a9f54442"
      },
      "outputs": [
        {
          "output_type": "stream",
          "name": "stdout",
          "text": [
            "'data.frame':\t806 obs. of  31 variables:\n",
            " $ speaker        : chr  \"brs02\" \"brs02\" \"brs02\" \"bte03\" ...\n",
            " $ index          : int  137 138 139 15 16 17 4 5 6 113 ...\n",
            " $ word           : chr  \"kokk\" \"kokk\" \"kokk\" \"kokk\" ...\n",
            " $ time           : num  438 441 443 133 138 ...\n",
            " $ word.dur       : num  489 444 450 530 515 ...\n",
            " $ voicing.dur    : num  153.2 138.7 169.8 93.6 159.3 ...\n",
            " $ vowel.dur      : num  100.9 72.6 107.5 93 107.4 ...\n",
            " $ cluster.dur    : num  231 217 195 245 230 ...\n",
            " $ spreading.dur  : num  114.3 98.2 50.1 119.2 45.1 ...\n",
            " $ sonorant.dur   : num  167 164 112 120 97 ...\n",
            " $ closure.dur    : num  64.7 52.7 82.3 125.3 133.2 ...\n",
            " $ vor            : num  332 290 302 338 338 ...\n",
            " $ voffr          : num  179 151 132 244 178 ...\n",
            " $ mor            : num  231 217 195 245 230 ...\n",
            " $ cond_no        : int  1 1 1 1 1 1 1 1 1 1 ...\n",
            " $ ipa            : chr  \"kʰoʰk\" \"kʰoʰk\" \"kʰoʰk\" \"kʰoʰk\" ...\n",
            " $ cons1          : chr  \"asp\" \"asp\" \"asp\" \"asp\" ...\n",
            " $ vowel          : chr  \"o\" \"o\" \"o\" \"o\" ...\n",
            " $ height         : chr  \"mid\" \"mid\" \"mid\" \"mid\" ...\n",
            " $ anteroposterior: chr  \"back\" \"back\" \"back\" \"back\" ...\n",
            " $ roundness      : chr  \"round\" \"round\" \"round\" \"round\" ...\n",
            " $ consonant      : chr  \"ʰk\" \"ʰk\" \"ʰk\" \"ʰk\" ...\n",
            " $ manner         : chr  \"stop\" \"stop\" \"stop\" \"stop\" ...\n",
            " $ place          : chr  \"velar\" \"velar\" \"velar\" \"velar\" ...\n",
            " $ aspiration     : chr  \"yes\" \"yes\" \"yes\" \"yes\" ...\n",
            " $ syllables      : chr  \"mono\" \"mono\" \"mono\" \"mono\" ...\n",
            " $ syl_structure  : chr  \"cvcc\" \"cvcc\" \"cvcc\" \"cvcc\" ...\n",
            " $ gloss          : chr  \"cook\" \"cook\" \"cook\" \"cook\" ...\n",
            " $ pos            : chr  \"n\" \"n\" \"n\" \"n\" ...\n",
            " $ comp           : chr  \"c\" \"c\" \"c\" \"c\" ...\n",
            " $ contx          : chr  \"cc\" \"cc\" \"cc\" \"cc\" ...\n"
          ]
        }
      ],
      "source": [
        "icelandic <- read.csv('https://raw.githubusercontent.com/LingData2019/LingData2020/master/data/icelandic.csv')\n",
        "str(icelandic)"
      ]
    },
    {
      "cell_type": "code",
      "source": [
        "stats_data <- icelandic %>%\n",
        "  group_by(roundness) %>%\n",
        "  summarize(median = median(vowel.dur, na.rm = TRUE),\n",
        "    mean = mean(vowel.dur, na.rm = TRUE))\n",
        "\n",
        "icelandic %>%\n",
        "  ggplot(aes(x=vowel.dur, y=roundness)) +\n",
        "  geom_boxplot(notch=TRUE) +\n",
        "  geom_point(data=stats_data,\n",
        "    aes(x=mean, y=roundness),\n",
        "    shape=20, size=15, color=\"blue\", alpha=0.5) +\n",
        "    geom_point(data=stats_data,\n",
        "    aes(x=median, y=roundness),\n",
        "    shape=18, size=5, color=\"green\", alpha=0.5)"
      ],
      "metadata": {
        "colab": {
          "base_uri": "https://localhost:8080/",
          "height": 437
        },
        "id": "Qk7EjzwTRTc2",
        "outputId": "e174b1da-cd0e-4565-9066-4238246a8af7"
      },
      "execution_count": 22,
      "outputs": [
        {
          "output_type": "display_data",
          "data": {
            "text/plain": [
              "plot without title"
            ],
            "image/png": "[encoded data removed]"
          },
          "metadata": {
            "image/png": {
              "width": 420,
              "height": 420
            }
          }
        }
      ]
    },
    {
      "cell_type": "code",
      "source": [
        "cond1 <- icelandic %>%\n",
        "  filter(roundness == 'round')\n",
        "cond2 <- icelandic %>%\n",
        "  filter(roundness != 'round')\n",
        "\n",
        "t.test(cond1$vowel.dur, cond2$vowel.dur)"
      ],
      "metadata": {
        "colab": {
          "base_uri": "https://localhost:8080/",
          "height": 219
        },
        "id": "NYv2W6vvTZqw",
        "outputId": "af9744c9-b918-43d1-c37c-561c1f50c91f"
      },
      "execution_count": 30,
      "outputs": [
        {
          "output_type": "display_data",
          "data": {
            "text/plain": [
              "\n",
              "\tWelch Two Sample t-test\n",
              "\n",
              "data:  cond1$vowel.dur and cond2$vowel.dur\n",
              "t = 4.3548, df = 554.3, p-value = 1.587e-05\n",
              "alternative hypothesis: true difference in means is not equal to 0\n",
              "95 percent confidence interval:\n",
              "  4.463876 11.799644\n",
              "sample estimates:\n",
              "mean of x mean of y \n",
              " 91.79000  83.65824 \n"
            ]
          },
          "metadata": {}
        }
      ]
    },
    {
      "cell_type": "code",
      "source": [
        "length(cond1)\n",
        "length(cond2)"
      ],
      "metadata": {
        "colab": {
          "base_uri": "https://localhost:8080/",
          "height": 52
        },
        "id": "KVRkjVYxUnOZ",
        "outputId": "0cd6ac17-70b9-4831-a674-9e76283ad852"
      },
      "execution_count": 33,
      "outputs": [
        {
          "output_type": "display_data",
          "data": {
            "text/html": [
              "31"
            ],
            "text/markdown": "31",
            "text/latex": "31",
            "text/plain": [
              "[1] 31"
            ]
          },
          "metadata": {}
        },
        {
          "output_type": "display_data",
          "data": {
            "text/html": [
              "31"
            ],
            "text/markdown": "31",
            "text/latex": "31",
            "text/plain": [
              "[1] 31"
            ]
          },
          "metadata": {}
        }
      ]
    },
    {
      "cell_type": "code",
      "source": [
        "wilcox.test(vowel.dur ~ roundness, data=icelandic)"
      ],
      "metadata": {
        "colab": {
          "base_uri": "https://localhost:8080/",
          "height": 127
        },
        "id": "PkkdgxQaUhOr",
        "outputId": "0c4572d2-0918-4009-a22e-3cf4f0ae5b0c"
      },
      "execution_count": 37,
      "outputs": [
        {
          "output_type": "display_data",
          "data": {
            "text/plain": [
              "\n",
              "\tWilcoxon rank sum test with continuity correction\n",
              "\n",
              "data:  vowel.dur by roundness\n",
              "W = 90683, p-value = 3.716e-06\n",
              "alternative hypothesis: true location shift is not equal to 0\n"
            ]
          },
          "metadata": {}
        }
      ]
    }
  ]
}